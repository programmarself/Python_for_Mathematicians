{
  "nbformat": 4,
  "nbformat_minor": 0,
  "metadata": {
    "colab": {
      "provenance": []
    },
    "kernelspec": {
      "name": "python3",
      "display_name": "Python 3"
    },
    "language_info": {
      "name": "python"
    }
  },
  "cells": [
    {
      "cell_type": "markdown",
      "source": [
        "# Memory Efficiency of Tuples Compared to Lists"
      ],
      "metadata": {
        "id": "4TM8tWUhJ3rF"
      }
    },
    {
      "cell_type": "code",
      "execution_count": null,
      "metadata": {
        "colab": {
          "base_uri": "https://localhost:8080/"
        },
        "id": "uQ2N2F-XJorQ",
        "outputId": "47fe4d93-a710-433b-fb60-ceebea68cfe2"
      },
      "outputs": [
        {
          "output_type": "stream",
          "name": "stdout",
          "text": [
            "Memory size of list: 104 bytes\n",
            "Memory size of tuple: 80 bytes\n"
          ]
        }
      ],
      "source": [
        "import sys\n",
        "my_list = [1, 2, 3,4,5]\n",
        "my_tuple = (1, 2, 3, 4, 5)\n",
        "\n",
        "\n",
        "list_size = sys.getsizeof(my_list)\n",
        "tuple_size = sys.getsizeof(my_tuple)\n",
        "\n",
        "print(f\"Memory size of list: {list_size} bytes\")\n",
        "print(f\"Memory size of tuple: {tuple_size} bytes\")\n"
      ]
    },
    {
      "cell_type": "markdown",
      "source": [
        "## Speed Benefits Due to Immutability"
      ],
      "metadata": {
        "id": "e97r7lNbJ6og"
      }
    },
    {
      "cell_type": "code",
      "source": [
        "import timeit\n",
        "my_list = [1, 2, 3, 4, 5]\n",
        "my_tuple = (1, 2, 3, 4, 5)\n",
        "\n",
        "list_time = timeit.timeit(stmt=\"my_list[2]\", globals=globals(), number=1000000)\n",
        "tuple_time = timeit.timeit(stmt=\"my_tuple[2]\", globals=globals(), number=1000000)\n",
        "\n",
        "print(f\"Access time for list: {list_time} seconds\")\n",
        "print(f\"Access time for tuple: {tuple_time} seconds\")\n"
      ],
      "metadata": {
        "colab": {
          "base_uri": "https://localhost:8080/"
        },
        "id": "sgAN5ta7J870",
        "outputId": "04033404-c925-4015-b463-db512b641656"
      },
      "execution_count": null,
      "outputs": [
        {
          "output_type": "stream",
          "name": "stdout",
          "text": [
            "Access time for list: 0.09768732600014118 seconds\n",
            "Access time for tuple: 0.08729214899994986 seconds\n"
          ]
        }
      ]
    },
    {
      "cell_type": "markdown",
      "source": [
        "## Iteration Speed of Tuples vs. Lists"
      ],
      "metadata": {
        "id": "qAmV4XEtJ_St"
      }
    },
    {
      "cell_type": "code",
      "source": [
        "list_iter_time = timeit.timeit(stmt=\"[x for x in my_list]\", globals=globals(), number=1000000)\n",
        "tuple_iter_time = timeit.timeit(stmt=\"[x for x in my_tuple]\", globals=globals(), number=1000000)\n",
        "\n",
        "print(f\"Iteration time for list: {list_iter_time} seconds\")\n",
        "print(f\"Iteration time for tuple: {tuple_iter_time} seconds\")\n"
      ],
      "metadata": {
        "colab": {
          "base_uri": "https://localhost:8080/"
        },
        "id": "8L_opBLhKBla",
        "outputId": "0f2ddb79-4f6b-4edc-fc32-1bf72991a93a"
      },
      "execution_count": null,
      "outputs": [
        {
          "output_type": "stream",
          "name": "stdout",
          "text": [
            "Iteration time for list: 0.3813834370002951 seconds\n",
            "Iteration time for tuple: 0.3610851809999076 seconds\n"
          ]
        }
      ]
    },
    {
      "cell_type": "markdown",
      "source": [
        "\n",
        "\n",
        "---\n",
        "\n",
        "\n",
        "\n",
        "\n"
      ],
      "metadata": {
        "id": "HUo7hmPYMvve"
      }
    },
    {
      "cell_type": "markdown",
      "source": [
        "# Overview of Dictionaries"
      ],
      "metadata": {
        "id": "1t1S3CE5NNfQ"
      }
    },
    {
      "cell_type": "markdown",
      "source": [
        "In Python, a dictionary is a data structure that stores data in key-value pairs, allowing fast retrieval based on keys."
      ],
      "metadata": {
        "id": "pcz6pAuWMxRe"
      }
    },
    {
      "cell_type": "markdown",
      "source": [
        "Key-Value Pairs Explained\n",
        "Each item in a dictionary consists of a key and a value, separated by a colon. Keys are unique and act like labels for the values associated with them."
      ],
      "metadata": {
        "id": "T7R8qlWyNaIW"
      }
    },
    {
      "cell_type": "code",
      "source": [
        "dict_a = {}\n",
        "type(dict_a)"
      ],
      "metadata": {
        "id": "qfC5qMzJNgnq",
        "colab": {
          "base_uri": "https://localhost:8080/"
        },
        "outputId": "a4e315e5-34e7-4eac-e39d-15150f645b7b"
      },
      "execution_count": null,
      "outputs": [
        {
          "output_type": "execute_result",
          "data": {
            "text/plain": [
              "dict"
            ]
          },
          "metadata": {},
          "execution_count": 16
        }
      ]
    },
    {
      "cell_type": "markdown",
      "source": [
        "# Creating Dictionaries"
      ],
      "metadata": {
        "id": "m1gDk7_aNeyw"
      }
    },
    {
      "cell_type": "markdown",
      "source": [
        "## 1. Basic Dictionary Syntax\n",
        "Dictionaries are created using curly braces` {}`, with each item in the form of a key: value pair."
      ],
      "metadata": {
        "id": "aa90HkMjN2uD"
      }
    },
    {
      "cell_type": "code",
      "source": [
        "student = {1:\"ali\",2:\"bilal\",3:\"subhan\"}\n",
        "student"
      ],
      "metadata": {
        "id": "VBEp3X7ROBqy",
        "colab": {
          "base_uri": "https://localhost:8080/"
        },
        "outputId": "75599e84-61bb-48e6-8c0a-b313b29146c2"
      },
      "execution_count": null,
      "outputs": [
        {
          "output_type": "execute_result",
          "data": {
            "text/plain": [
              "{1: 'ali', 2: 'bilal', 3: 'subhan'}"
            ]
          },
          "metadata": {},
          "execution_count": 1
        }
      ]
    },
    {
      "cell_type": "markdown",
      "source": [
        "## 2. Using the dict() Function"
      ],
      "metadata": {
        "id": "qVQ8zyBAOCeM"
      }
    },
    {
      "cell_type": "code",
      "source": [
        "\n",
        "student = dict(name=\"Ali\")\n",
        "student"
      ],
      "metadata": {
        "id": "5jgHswZSOF4n",
        "colab": {
          "base_uri": "https://localhost:8080/",
          "height": 106
        },
        "outputId": "e8c5ba72-4939-4584-f785-4541cfec4840"
      },
      "execution_count": null,
      "outputs": [
        {
          "output_type": "error",
          "ename": "SyntaxError",
          "evalue": "invalid syntax (<ipython-input-28-a013863f4896>, line 1)",
          "traceback": [
            "\u001b[0;36m  File \u001b[0;32m\"<ipython-input-28-a013863f4896>\"\u001b[0;36m, line \u001b[0;32m1\u001b[0m\n\u001b[0;31m    student = dict(1:\"zain\")\u001b[0m\n\u001b[0m                    ^\u001b[0m\n\u001b[0;31mSyntaxError\u001b[0m\u001b[0;31m:\u001b[0m invalid syntax\n"
          ]
        }
      ]
    },
    {
      "cell_type": "markdown",
      "source": [
        "# Dictionary Indexing and Accessing Elements"
      ],
      "metadata": {
        "id": "rmC-OLxSOyiG"
      }
    },
    {
      "cell_type": "markdown",
      "source": [
        "## 1. Accessing Values by Key\n",
        "To retrieve a value from a dictionary, you use the key inside square brackets `[].`"
      ],
      "metadata": {
        "id": "J_xhFv6AO8cF"
      }
    },
    {
      "cell_type": "code",
      "source": [
        "students = {\"name\":\"ali\",\"age\":20,\"roll_no\":\"40\"}\n",
        "print(students[\"address\"])"
      ],
      "metadata": {
        "id": "-qz7xIBBO_H2",
        "colab": {
          "base_uri": "https://localhost:8080/",
          "height": 159
        },
        "outputId": "128bf471-af87-4e26-fc6c-461de151d6b1"
      },
      "execution_count": null,
      "outputs": [
        {
          "output_type": "error",
          "ename": "KeyError",
          "evalue": "'address'",
          "traceback": [
            "\u001b[0;31m---------------------------------------------------------------------------\u001b[0m",
            "\u001b[0;31mKeyError\u001b[0m                                  Traceback (most recent call last)",
            "\u001b[0;32m<ipython-input-31-fa569909b2a6>\u001b[0m in \u001b[0;36m<cell line: 2>\u001b[0;34m()\u001b[0m\n\u001b[1;32m      1\u001b[0m \u001b[0mstudents\u001b[0m \u001b[0;34m=\u001b[0m \u001b[0;34m{\u001b[0m\u001b[0;34m\"name\"\u001b[0m\u001b[0;34m:\u001b[0m\u001b[0;34m\"ali\"\u001b[0m\u001b[0;34m,\u001b[0m\u001b[0;34m\"age\"\u001b[0m\u001b[0;34m:\u001b[0m\u001b[0;36m20\u001b[0m\u001b[0;34m,\u001b[0m\u001b[0;34m\"roll_no\"\u001b[0m\u001b[0;34m:\u001b[0m\u001b[0;34m\"40\"\u001b[0m\u001b[0;34m}\u001b[0m\u001b[0;34m\u001b[0m\u001b[0;34m\u001b[0m\u001b[0m\n\u001b[0;32m----> 2\u001b[0;31m \u001b[0mprint\u001b[0m\u001b[0;34m(\u001b[0m\u001b[0mstudents\u001b[0m\u001b[0;34m[\u001b[0m\u001b[0;34m\"address\"\u001b[0m\u001b[0;34m]\u001b[0m\u001b[0;34m)\u001b[0m\u001b[0;34m\u001b[0m\u001b[0;34m\u001b[0m\u001b[0m\n\u001b[0m",
            "\u001b[0;31mKeyError\u001b[0m: 'address'"
          ]
        }
      ]
    },
    {
      "cell_type": "markdown",
      "source": [
        "## 2. The `get()` Method and Its Benefits\n",
        "\n",
        "The get() method is another way to access dictionary values by key. Unlike the [] syntax, it does not raise an error if the key is missing. Instead, it returns None or a specified default value if the key is not found."
      ],
      "metadata": {
        "id": "FPnoheeUPGna"
      }
    },
    {
      "cell_type": "code",
      "source": [
        "students = {\"name\":\"ali\",\"age\":20,\"roll_no\":\"40\"}\n",
        "print(students.get(\"address\"))\n"
      ],
      "metadata": {
        "id": "7hy-_VAVPJdY",
        "colab": {
          "base_uri": "https://localhost:8080/"
        },
        "outputId": "f2ac6eb6-efe9-4938-fa08-840366b6923f"
      },
      "execution_count": null,
      "outputs": [
        {
          "output_type": "stream",
          "name": "stdout",
          "text": [
            "None\n"
          ]
        }
      ]
    },
    {
      "cell_type": "markdown",
      "source": [
        "# Modifying Dictionaries"
      ],
      "metadata": {
        "id": "rDG1zU3KPiJw"
      }
    },
    {
      "cell_type": "markdown",
      "source": [
        "## 1. Adding New Key-Value Pairs"
      ],
      "metadata": {
        "id": "O6rO_fB6PwTi"
      }
    },
    {
      "cell_type": "code",
      "source": [
        "students = {\"name\":\"ali\",\"age\":20,\"roll_no\":\"40\"}\n",
        "students[\"city\"] = \"LHR\"\n",
        "students"
      ],
      "metadata": {
        "id": "UVOnr6tVPzEM",
        "colab": {
          "base_uri": "https://localhost:8080/"
        },
        "outputId": "1778b8af-b5e2-4d0d-cb8f-aac6f05e360f"
      },
      "execution_count": null,
      "outputs": [
        {
          "output_type": "execute_result",
          "data": {
            "text/plain": [
              "{'name': 'ali', 'age': 20, 'roll_no': '40', 'city': 'LHR'}"
            ]
          },
          "metadata": {},
          "execution_count": 37
        }
      ]
    },
    {
      "cell_type": "markdown",
      "source": [
        "## 2. Updating Existing Values"
      ],
      "metadata": {
        "id": "oVFugiQwP1L2"
      }
    },
    {
      "cell_type": "code",
      "source": [
        "\n",
        "students = {\"name\":\"ali\",\"age\":\"20\",\"roll_no\":\"40\"}\n",
        "students[\"age\"] = 31\n",
        "students"
      ],
      "metadata": {
        "id": "P3bjXyxsP4BQ",
        "colab": {
          "base_uri": "https://localhost:8080/"
        },
        "outputId": "2fc4c083-5f5c-4d6e-a4d3-739c46ecb5b5"
      },
      "execution_count": null,
      "outputs": [
        {
          "output_type": "execute_result",
          "data": {
            "text/plain": [
              "{'name': 'ali', 'age': 31, 'roll_no': '40'}"
            ]
          },
          "metadata": {},
          "execution_count": 40
        }
      ]
    },
    {
      "cell_type": "markdown",
      "source": [
        "### Using the `update()` Method\n",
        "The update() method allows you to add multiple key-value pairs to a dictionary at once. It can also be used to update existing keys."
      ],
      "metadata": {
        "id": "8lL3EWrLQHx4"
      }
    },
    {
      "cell_type": "code",
      "source": [
        "students = {\"name\":\"ali\",\"age\":\"20\",\"roll_no\":\"40\"}\n",
        "students.update({\"age\":45,\"roll_no\":\"55\",\"city\":\"LHR\"})\n",
        "\n",
        "students"
      ],
      "metadata": {
        "id": "z6R9c2a4P9sR",
        "colab": {
          "base_uri": "https://localhost:8080/"
        },
        "outputId": "9e76daff-3283-4ae2-cadd-b9d0065bdaf9"
      },
      "execution_count": null,
      "outputs": [
        {
          "output_type": "execute_result",
          "data": {
            "text/plain": [
              "{'name': 'ali', 'age': 45, 'roll_no': '55', 'city': 'LHR'}"
            ]
          },
          "metadata": {},
          "execution_count": 42
        }
      ]
    },
    {
      "cell_type": "markdown",
      "source": [
        "## 3. Removing Items"
      ],
      "metadata": {
        "id": "qHnrfyHvQAjC"
      }
    },
    {
      "cell_type": "markdown",
      "source": [
        "### Using `del` Statement\n",
        "\n",
        "The del statement removes a specific key-value pair by key. If the key does not exist, it raises a KeyError."
      ],
      "metadata": {
        "id": "psLJN7v-QTez"
      }
    },
    {
      "cell_type": "code",
      "source": [
        "students = {\"name\":\"ali\",\"age\":\"20\",\"roll_no\":\"40\"}\n",
        "students.clear()\n",
        "students"
      ],
      "metadata": {
        "id": "rlzQmnnSQCR_",
        "colab": {
          "base_uri": "https://localhost:8080/"
        },
        "outputId": "46431137-0b85-4845-fc2d-bbecad52b4b1"
      },
      "execution_count": null,
      "outputs": [
        {
          "output_type": "execute_result",
          "data": {
            "text/plain": [
              "{}"
            ]
          },
          "metadata": {},
          "execution_count": 49
        }
      ]
    },
    {
      "cell_type": "markdown",
      "source": [
        "### Using `pop()` Method\n",
        "The pop() method removes a specific key and returns its value. If the key is not found, it raises a KeyError, unless a default value is provided."
      ],
      "metadata": {
        "id": "hsRhRP8-QDxn"
      }
    },
    {
      "cell_type": "code",
      "source": [
        "students = {\"name\":\"ali\",\"age\":\"20\",\"roll_no\":\"40\"}\n",
        "age = students.pop(\"adress\",\"age\")\n",
        "print(age)\n",
        "print(students)\n"
      ],
      "metadata": {
        "id": "ptDu7Ep8QeG0",
        "colab": {
          "base_uri": "https://localhost:8080/"
        },
        "outputId": "e7b0f752-66e6-4a01-9823-a114bbabe4c1"
      },
      "execution_count": null,
      "outputs": [
        {
          "output_type": "stream",
          "name": "stdout",
          "text": [
            "age\n",
            "{'name': 'ali', 'age': '20', 'roll_no': '40'}\n"
          ]
        }
      ]
    },
    {
      "cell_type": "code",
      "source": [],
      "metadata": {
        "id": "AKRg3UOMQpFo"
      },
      "execution_count": null,
      "outputs": []
    },
    {
      "cell_type": "markdown",
      "source": [
        "### Using `popitem()` Method\n",
        "\n",
        "The popitem() method removes and returns the last inserted key-value pair as a tuple. This method is useful if you need to remove items in a last-in, first-out (LIFO) order. If the dictionary is empty, it raises a KeyError."
      ],
      "metadata": {
        "id": "_WE6JBB7QmDW"
      }
    },
    {
      "cell_type": "code",
      "source": [
        "students = {\"name\":\"ali\",\"age\":\"20\",\"roll_no\":\"40\"}\n",
        "students[\"city\"] = \"LHR\"\n",
        "students[\"Country\"] = \"PAK\"\n",
        "students\n",
        "\n",
        "country = students.popitem()\n",
        "students"
      ],
      "metadata": {
        "id": "HRKaSsMwQtXJ",
        "colab": {
          "base_uri": "https://localhost:8080/"
        },
        "outputId": "3eaa0ac9-92fc-4dfb-a909-11556f277d1b"
      },
      "execution_count": null,
      "outputs": [
        {
          "output_type": "execute_result",
          "data": {
            "text/plain": [
              "{'name': 'ali', 'age': '20', 'roll_no': '40', 'city': 'LHR'}"
            ]
          },
          "metadata": {},
          "execution_count": 56
        }
      ]
    },
    {
      "cell_type": "markdown",
      "source": [
        "# Dictionary Methods and Operations"
      ],
      "metadata": {
        "id": "1VUp8gSjQ8PT"
      }
    },
    {
      "cell_type": "markdown",
      "source": [
        "## 1. `keys()` Method\n",
        "\n",
        "The keys() method returns a view object displaying all the keys in the dictionary. This view can be converted to a list if needed."
      ],
      "metadata": {
        "id": "3WmiZZQNQ9hO"
      }
    },
    {
      "cell_type": "code",
      "source": [
        "students = {\"name\":\"ali\",\"age\":\"20\",\"roll_no\":\"40\"}\n",
        "\n",
        "keys = students.keys()\n",
        "keys = list(keys)\n",
        "keys[2]"
      ],
      "metadata": {
        "id": "Pa_hdUpIRBR3",
        "colab": {
          "base_uri": "https://localhost:8080/",
          "height": 35
        },
        "outputId": "7e51f95e-4a41-4585-e27a-795b5e5d8aad"
      },
      "execution_count": null,
      "outputs": [
        {
          "output_type": "execute_result",
          "data": {
            "text/plain": [
              "'roll_no'"
            ],
            "application/vnd.google.colaboratory.intrinsic+json": {
              "type": "string"
            }
          },
          "metadata": {},
          "execution_count": 64
        }
      ]
    },
    {
      "cell_type": "markdown",
      "source": [
        "## 2. `values()` Method\n",
        "\n",
        "The values() method returns a view object displaying all the values in the dictionary. Like keys(), it can be converted to a list if needed."
      ],
      "metadata": {
        "id": "4Zsx1f2WRGaK"
      }
    },
    {
      "cell_type": "code",
      "source": [
        "students = {\"name\":\"ali\",\"age\":\"20\",\"roll_no\":\"40\"}\n",
        "\n",
        "val =students.values()\n",
        "list(val)\n"
      ],
      "metadata": {
        "id": "sxu4BP_sRKfV",
        "colab": {
          "base_uri": "https://localhost:8080/"
        },
        "outputId": "0917bab3-d51b-45c9-9c10-51d06a95196b"
      },
      "execution_count": null,
      "outputs": [
        {
          "output_type": "execute_result",
          "data": {
            "text/plain": [
              "['ali', '20', '40']"
            ]
          },
          "metadata": {},
          "execution_count": 60
        }
      ]
    },
    {
      "cell_type": "markdown",
      "source": [
        "## 3. `items()` Method\n",
        "\n",
        "The items() method returns a view object displaying each key-value pair as a tuple, allowing you to iterate over keys and values together.\n",
        "\n",
        "python\n",
        "Copy code\n"
      ],
      "metadata": {
        "id": "Pe4p9FbpRQTN"
      }
    },
    {
      "cell_type": "code",
      "source": [
        "students = {\"name\":\"ali\",\"age\":\"20\",\"roll_no\":\"40\"}\n",
        "items= students.items()\n",
        "list(items)"
      ],
      "metadata": {
        "id": "w8l5CgoORXFG",
        "colab": {
          "base_uri": "https://localhost:8080/"
        },
        "outputId": "6e43c881-3634-46ce-84b6-a68c9216b71a"
      },
      "execution_count": null,
      "outputs": [
        {
          "output_type": "execute_result",
          "data": {
            "text/plain": [
              "[('name', 'ali'), ('age', '20'), ('roll_no', '40')]"
            ]
          },
          "metadata": {},
          "execution_count": 61
        }
      ]
    },
    {
      "cell_type": "markdown",
      "source": [
        "## 4. `clear()` Method\n",
        "\n",
        "The clear() method removes all items from the dictionary, leaving it empty."
      ],
      "metadata": {
        "id": "FcbKJpwORZUC"
      }
    },
    {
      "cell_type": "code",
      "source": [
        "students = {\"name\":\"ali\",\"age\":\"20\",\"roll_no\":\"40\"}\n",
        "students.clear()\n",
        "students"
      ],
      "metadata": {
        "id": "NKVrqMD_Re9M",
        "colab": {
          "base_uri": "https://localhost:8080/"
        },
        "outputId": "0eafe0d9-ba13-4638-a040-b046997230f6"
      },
      "execution_count": null,
      "outputs": [
        {
          "output_type": "execute_result",
          "data": {
            "text/plain": [
              "{}"
            ]
          },
          "metadata": {},
          "execution_count": 62
        }
      ]
    },
    {
      "cell_type": "markdown",
      "source": [
        "## 5. `copy()` Method\n",
        "\n",
        "The clear() method removes all items from the dictionary, leaving it empty"
      ],
      "metadata": {
        "id": "Ne6tUBqLRhdG"
      }
    },
    {
      "cell_type": "code",
      "source": [
        "students = {\"name\":\"ali\",\"age\":\"20\",\"roll_no\":\"40\"}\n",
        "students_2 = students.copy()\n",
        "print(students_2)\n",
        "\n",
        "students_2[\"name\"] = \"bilal\"\n",
        "print(students_2)\n",
        "print(students)"
      ],
      "metadata": {
        "id": "MkjS0Q8kRhAu",
        "colab": {
          "base_uri": "https://localhost:8080/"
        },
        "outputId": "16af93b9-00d4-4a2e-82a9-43bc1791be6b"
      },
      "execution_count": null,
      "outputs": [
        {
          "output_type": "stream",
          "name": "stdout",
          "text": [
            "{'name': 'ali', 'age': '20', 'roll_no': '40'}\n",
            "{'name': 'bilal', 'age': '20', 'roll_no': '40'}\n",
            "{'name': 'ali', 'age': '20', 'roll_no': '40'}\n"
          ]
        }
      ]
    },
    {
      "cell_type": "markdown",
      "source": [
        "## 6. `fromkeys()` Method\n",
        "The fromkeys() method creates a new dictionary from a given list of keys and a single value."
      ],
      "metadata": {
        "id": "Kcx7SjawRwma"
      }
    },
    {
      "cell_type": "code",
      "source": [
        "keys = [\"name\",\"age\",\"roll_no\"]\n",
        "\n",
        "students = dict.fromkeys(keys,\"\")\n",
        "# students\n",
        "\n",
        "\n",
        "students[\"name\"] = \"Ali\"\n",
        "students"
      ],
      "metadata": {
        "id": "aUM3EkYoRzRm",
        "colab": {
          "base_uri": "https://localhost:8080/"
        },
        "outputId": "61753673-1615-4c67-b20b-d5b89b563c55"
      },
      "execution_count": null,
      "outputs": [
        {
          "output_type": "execute_result",
          "data": {
            "text/plain": [
              "{'name': 'Ali', 'age': '', 'roll_no': ''}"
            ]
          },
          "metadata": {},
          "execution_count": 69
        }
      ]
    },
    {
      "cell_type": "markdown",
      "source": [
        "##  7. `setdefault()` Method\n",
        "The setdefault() method checks if a key exists in the dictionary. If it does, it returns the value. If it doesn’t, it adds the key with a specified default value."
      ],
      "metadata": {
        "id": "zaEUOlCVR1hT"
      }
    },
    {
      "cell_type": "code",
      "source": [
        "students = {\"name\":\"ali\",\"age\":\"20\",\"roll_no\":\"40\"}\n",
        "\n",
        "students.update(\"name\",\"bilal\")\n",
        "students"
      ],
      "metadata": {
        "id": "fISPothqR7YW",
        "colab": {
          "base_uri": "https://localhost:8080/"
        },
        "outputId": "39277b38-1cfd-4d8f-da2d-7eca70efdd2f"
      },
      "execution_count": null,
      "outputs": [
        {
          "output_type": "execute_result",
          "data": {
            "text/plain": [
              "{'name': 'ali', 'age': '20', 'roll_no': '40'}"
            ]
          },
          "metadata": {},
          "execution_count": 71
        }
      ]
    },
    {
      "cell_type": "markdown",
      "source": [
        "# Checking for Key Existence with in\n",
        "\n",
        "You can use the in keyword to check if a key exists in the dictionary. This is useful to prevent KeyError when accessing keys."
      ],
      "metadata": {
        "id": "29EiWs8OR-xo"
      }
    },
    {
      "cell_type": "code",
      "source": [
        "students = {\"name\":\"ali\",\"age\":\"20\",\"roll_no\":\"40\",\"ali\":5}\n",
        "print(\"ali\" in students)\n"
      ],
      "metadata": {
        "id": "GLJzcrGdR-et",
        "colab": {
          "base_uri": "https://localhost:8080/"
        },
        "outputId": "ca22b8fa-57f9-4051-99c6-d2cea7264c52"
      },
      "execution_count": null,
      "outputs": [
        {
          "output_type": "stream",
          "name": "stdout",
          "text": [
            "True\n"
          ]
        }
      ]
    },
    {
      "cell_type": "markdown",
      "source": [
        "## Dictionary Comprehension"
      ],
      "metadata": {
        "id": "AX6_JBogSLF-"
      }
    },
    {
      "cell_type": "markdown",
      "source": [
        "## Basic Dictionary Comprehension"
      ],
      "metadata": {
        "id": "0izYaDhNSQK4"
      }
    },
    {
      "cell_type": "code",
      "source": [
        "squares = {num : num**2 for num in range(1,6)}\n",
        "squares"
      ],
      "metadata": {
        "id": "h_Dlb5HJSN2m",
        "colab": {
          "base_uri": "https://localhost:8080/"
        },
        "outputId": "d34ee135-2b4d-4c89-ad40-97b52332806e"
      },
      "execution_count": null,
      "outputs": [
        {
          "output_type": "execute_result",
          "data": {
            "text/plain": [
              "{1: 1, 2: 4, 3: 9, 4: 16, 5: 25}"
            ]
          },
          "metadata": {},
          "execution_count": 75
        }
      ]
    },
    {
      "cell_type": "markdown",
      "source": [
        "## Conditional Dictionary Comprehension"
      ],
      "metadata": {
        "id": "zA4NrBIlSRaC"
      }
    },
    {
      "cell_type": "code",
      "source": [
        "squares = {num : num**2 for num in range(1,6) if num %2 == 0}\n",
        "squares"
      ],
      "metadata": {
        "id": "Ixn_cM69SVuH",
        "colab": {
          "base_uri": "https://localhost:8080/"
        },
        "outputId": "cb762daa-3def-454d-c1bc-3080a39c4b35"
      },
      "execution_count": null,
      "outputs": [
        {
          "output_type": "execute_result",
          "data": {
            "text/plain": [
              "{2: 4, 4: 16}"
            ]
          },
          "metadata": {},
          "execution_count": 78
        }
      ]
    },
    {
      "cell_type": "markdown",
      "source": [
        "# Dictionary Iteration Techniques"
      ],
      "metadata": {
        "id": "bP9l8qgaS8MU"
      }
    },
    {
      "cell_type": "markdown",
      "source": [
        "## 1. Iterating Over Keys"
      ],
      "metadata": {
        "id": "NIzuOfkAS9KO"
      }
    },
    {
      "cell_type": "code",
      "source": [
        "students = {\"name\":\"ali\",\"age\":\"20\",\"roll_no\":\"40\",\"ali\":5}\n",
        "\n",
        "for key in students.keys():\n",
        "  print(key)\n"
      ],
      "metadata": {
        "id": "0ZK8e-hZTBz6",
        "colab": {
          "base_uri": "https://localhost:8080/"
        },
        "outputId": "7f8a955b-1d98-4887-bed8-95e46d208b32"
      },
      "execution_count": null,
      "outputs": [
        {
          "output_type": "stream",
          "name": "stdout",
          "text": [
            "name\n",
            "age\n",
            "roll_no\n",
            "ali\n"
          ]
        }
      ]
    },
    {
      "cell_type": "markdown",
      "source": [
        "## 2. Iterating Over Values"
      ],
      "metadata": {
        "id": "TL3npYenTDdc"
      }
    },
    {
      "cell_type": "code",
      "source": [
        "students = {\"name\":\"ali\",\"age\":\"20\",\"roll_no\":\"40\",\"ali\":5}\n",
        "\n",
        "for val in students.values():\n",
        "  print(val)"
      ],
      "metadata": {
        "id": "HcOh5ldqTPO1",
        "colab": {
          "base_uri": "https://localhost:8080/"
        },
        "outputId": "a27c37bf-0b4d-4ef6-b7b5-ff61723fd97f"
      },
      "execution_count": null,
      "outputs": [
        {
          "output_type": "stream",
          "name": "stdout",
          "text": [
            "ali\n",
            "20\n",
            "40\n",
            "5\n"
          ]
        }
      ]
    },
    {
      "cell_type": "markdown",
      "source": [
        "## 3. Iterating Over Key-Value Pairs"
      ],
      "metadata": {
        "id": "mq3Bg_zZTRmb"
      }
    },
    {
      "cell_type": "code",
      "source": [
        "students = {\"name\":\"ali\",\"age\":\"20\",\"roll_no\":\"40\",\"ali\":5}\n",
        "\n",
        "for i,j in students.items():\n",
        "  print(i)\n",
        "  print(j)\n",
        "\n"
      ],
      "metadata": {
        "id": "FrdQkwLoTUFl",
        "colab": {
          "base_uri": "https://localhost:8080/"
        },
        "outputId": "dfd76a7f-f773-4f11-9868-dc05ff9e9d2b"
      },
      "execution_count": null,
      "outputs": [
        {
          "output_type": "stream",
          "name": "stdout",
          "text": [
            "name\n",
            "ali\n",
            "age\n",
            "20\n",
            "roll_no\n",
            "40\n",
            "ali\n",
            "5\n"
          ]
        }
      ]
    },
    {
      "cell_type": "markdown",
      "source": [
        "# Merging and Updating Dictionaries"
      ],
      "metadata": {
        "id": "D8uJASKJTVWy"
      }
    },
    {
      "cell_type": "markdown",
      "source": [
        "## 1. Using the update() Method"
      ],
      "metadata": {
        "id": "OwfNeCGvTrEQ"
      }
    },
    {
      "cell_type": "code",
      "source": [
        "students = {\"name\":\"Ali\",\"age\":15}\n",
        "\n",
        "cnic = {\"cnic_no\":35201,\"DOB\": 11120}\n",
        "\n",
        "students.update(cnic)\n",
        "students"
      ],
      "metadata": {
        "id": "aUl_QH7kT0Vx",
        "colab": {
          "base_uri": "https://localhost:8080/"
        },
        "outputId": "c11dd2fa-9906-4a0d-a1bc-3c06178ae394"
      },
      "execution_count": null,
      "outputs": [
        {
          "output_type": "execute_result",
          "data": {
            "text/plain": [
              "{'name': 'Ali', 'age': 15, 'cnic_no': 35201, 'DOB': 11120}"
            ]
          },
          "metadata": {},
          "execution_count": 4
        }
      ]
    },
    {
      "cell_type": "markdown",
      "source": [
        "## 2. Using the `|` Operator\n",
        "\n",
        "The` | `operator for dictionary merging. It creates a new dictionary containing the merged key-value pairs, without modifying the original dictionaries"
      ],
      "metadata": {
        "id": "OagCuDpST1Le"
      }
    },
    {
      "cell_type": "code",
      "source": [
        "students = {\"name\":\"Ali\",\"age\":15}\n",
        "\n",
        "cnic = {\"cnic_no\":35201,\"DOB\": \"01112024\",\"name\":\"bilal\"}\n",
        "\n",
        "merged_dict = cnic | students\n",
        "\n",
        "print(students)\n",
        "print(cnic)\n",
        "print(merged_dict)\n"
      ],
      "metadata": {
        "id": "rSeuN8nLUENX",
        "colab": {
          "base_uri": "https://localhost:8080/"
        },
        "outputId": "e5b6b6d6-192a-48f8-d3f7-5240a98fab9b"
      },
      "execution_count": null,
      "outputs": [
        {
          "output_type": "stream",
          "name": "stdout",
          "text": [
            "{'name': 'Ali', 'age': 15}\n",
            "{'cnic_no': 35201, 'DOB': '01112024', 'name': 'bilal'}\n",
            "{'cnic_no': 35201, 'DOB': '01112024', 'name': 'Ali', 'age': 15}\n"
          ]
        }
      ]
    },
    {
      "cell_type": "markdown",
      "source": [
        "## Using the |= Operator for In-Place Updates"
      ],
      "metadata": {
        "id": "48wkhJGBUF_D"
      }
    },
    {
      "cell_type": "code",
      "source": [
        "students = {\"name\":\"Ali\",\"age\":15}\n",
        "\n",
        "cnic = {\"cnic_no\":35201,\"DOB\": \"01112024\",\"name\":\"bilal\"}\n",
        "\n",
        "students |= cnic\n",
        "students"
      ],
      "metadata": {
        "id": "4Ax68syTUFoT",
        "colab": {
          "base_uri": "https://localhost:8080/"
        },
        "outputId": "cba667fb-17ae-479c-c4eb-27f1c7e0da3a"
      },
      "execution_count": null,
      "outputs": [
        {
          "output_type": "execute_result",
          "data": {
            "text/plain": [
              "{'name': 'bilal', 'age': 15, 'cnic_no': 35201, 'DOB': '01112024'}"
            ]
          },
          "metadata": {},
          "execution_count": 9
        }
      ]
    },
    {
      "cell_type": "markdown",
      "source": [
        "# Advanced Dictionary Concepts"
      ],
      "metadata": {
        "id": "o57hj4xFURua"
      }
    },
    {
      "cell_type": "markdown",
      "source": [
        "## 1. Nested Dictionaries\n",
        "A nested dictionary is a dictionary within a dictionary"
      ],
      "metadata": {
        "id": "UWWRSj_MUm0M"
      }
    },
    {
      "cell_type": "code",
      "source": [
        "company = {\"emp1\":{\"name\":\"abc\",\"age\":15},\"emp2\":{\"name\":\"xyz\",\"age\": 20}}\n",
        "company[\"emp1\"][\"name\"]"
      ],
      "metadata": {
        "id": "kfXBr15MUrcb",
        "colab": {
          "base_uri": "https://localhost:8080/",
          "height": 35
        },
        "outputId": "4dc23013-6a13-42f1-f8e2-812a7fe92eb8"
      },
      "execution_count": null,
      "outputs": [
        {
          "output_type": "execute_result",
          "data": {
            "text/plain": [
              "'abc'"
            ],
            "application/vnd.google.colaboratory.intrinsic+json": {
              "type": "string"
            }
          },
          "metadata": {},
          "execution_count": 13
        }
      ]
    },
    {
      "cell_type": "markdown",
      "source": [
        "## Converting a List to Dictionary"
      ],
      "metadata": {
        "id": "WcSACqWim8jO"
      }
    },
    {
      "cell_type": "code",
      "source": [
        "# list_demo = {1:\"a\",2:\"b\"}\n",
        "\n",
        "# temp = list_demo[1]\n",
        "# list_demo[1] =  list_demo[2]\n",
        "# list_demo[2] =temp\n",
        "\n",
        "# list_demo\n",
        "\n",
        "list_demo = [[0,\"a\"],[2,\"b\"],[3,\"c\"]]\n",
        "list_to_dict = dict((list_demo))\n",
        "list_to_dict   # {1:a,2:b,3:c}\n"
      ],
      "metadata": {
        "id": "RUEUVhWAm-6b",
        "colab": {
          "base_uri": "https://localhost:8080/"
        },
        "outputId": "0eb17a6b-24ab-41ce-8eb7-999340feaed2"
      },
      "execution_count": null,
      "outputs": [
        {
          "output_type": "execute_result",
          "data": {
            "text/plain": [
              "{0: 'a', 2: 'b', 3: 'c'}"
            ]
          },
          "metadata": {},
          "execution_count": 27
        }
      ]
    }
  ]
}