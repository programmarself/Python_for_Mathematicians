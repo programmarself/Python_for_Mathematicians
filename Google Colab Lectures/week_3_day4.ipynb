{
  "nbformat": 4,
  "nbformat_minor": 0,
  "metadata": {
    "colab": {
      "provenance": []
    },
    "kernelspec": {
      "name": "python3",
      "display_name": "Python 3"
    },
    "language_info": {
      "name": "python"
    }
  },
  "cells": [
    {
      "cell_type": "code",
      "execution_count": null,
      "metadata": {
        "id": "vmxMIf5NKI1D"
      },
      "outputs": [],
      "source": [
        "def add_numbers(a,b):\n",
        "  c= a+b\n",
        "  return c\n",
        "\n",
        "def subtract_numbers(a, b):\n",
        "    d= a-b\n",
        "    return d\n",
        "\n",
        "def multiply_numbers(a, b):\n",
        "    e= a * b\n",
        "    return e\n",
        "\n",
        "def divide_numbers(a, b):\n",
        "    if b != 0:\n",
        "        return a / b\n",
        "    else:\n",
        "        return \"Division by zero is not allowed\"\n"
      ]
    },
    {
      "cell_type": "code",
      "source": [
        "divide_numbers(2,4)"
      ],
      "metadata": {
        "colab": {
          "base_uri": "https://localhost:8080/"
        },
        "id": "6G1GioSyUgcF",
        "outputId": "591a0992-2fb0-46ef-8a47-20c15c1e5f7c"
      },
      "execution_count": null,
      "outputs": [
        {
          "output_type": "execute_result",
          "data": {
            "text/plain": [
              "0.5"
            ]
          },
          "metadata": {},
          "execution_count": 11
        }
      ]
    },
    {
      "cell_type": "code",
      "source": [
        "import math\n",
        "\n",
        "def area_of_circle(radius):\n",
        "    area = math.pi * radius ** 2\n",
        "    return area\n"
      ],
      "metadata": {
        "id": "hjgO7UdgKtUk"
      },
      "execution_count": null,
      "outputs": []
    },
    {
      "cell_type": "code",
      "source": [
        "area_of_circle(5)"
      ],
      "metadata": {
        "colab": {
          "base_uri": "https://localhost:8080/"
        },
        "id": "ehHedTiRK2n_",
        "outputId": "b1bf2474-d6da-4ec1-aa27-4039d458f2a2"
      },
      "execution_count": null,
      "outputs": [
        {
          "output_type": "execute_result",
          "data": {
            "text/plain": [
              "78.53981633974483"
            ]
          },
          "metadata": {},
          "execution_count": 14
        }
      ]
    },
    {
      "cell_type": "code",
      "source": [
        "def factorial(n):\n",
        "    if n == 0 or n == 1:\n",
        "        return 1\n",
        "    else:\n",
        "        fac = n * factorial(n - 1)\n",
        "        return fac\n"
      ],
      "metadata": {
        "id": "BJr5pbC7K3CK"
      },
      "execution_count": null,
      "outputs": []
    },
    {
      "cell_type": "code",
      "source": [
        "factorial(0.5)"
      ],
      "metadata": {
        "id": "pvVjR13OK8vo"
      },
      "execution_count": null,
      "outputs": []
    },
    {
      "cell_type": "code",
      "source": [
        "def gcd(a, b):\n",
        "    while b:\n",
        "      b= a % b\n",
        "      a= b\n",
        "      return a\n"
      ],
      "metadata": {
        "id": "1TIgRA8jK9KA"
      },
      "execution_count": null,
      "outputs": []
    },
    {
      "cell_type": "code",
      "source": [
        "gcd(14,4)\n"
      ],
      "metadata": {
        "colab": {
          "base_uri": "https://localhost:8080/"
        },
        "id": "sUU9o9D3LArH",
        "outputId": "cfa540c2-19b8-4f3e-cafb-6f6731a64ea5"
      },
      "execution_count": null,
      "outputs": [
        {
          "output_type": "execute_result",
          "data": {
            "text/plain": [
              "2"
            ]
          },
          "metadata": {},
          "execution_count": 14
        }
      ]
    },
    {
      "cell_type": "code",
      "source": [
        "def is_prime(n):\n",
        "    if n < 2:\n",
        "        return False\n",
        "    for i in range(2, n):\n",
        "        if n % i == 0:\n",
        "            return False\n",
        "    return True\n"
      ],
      "metadata": {
        "id": "3R6fs4SjLA0n"
      },
      "execution_count": null,
      "outputs": []
    },
    {
      "cell_type": "code",
      "source": [
        " is_prime(1)"
      ],
      "metadata": {
        "colab": {
          "base_uri": "https://localhost:8080/"
        },
        "id": "tiwD3jt1LEPv",
        "outputId": "f8aa5011-5042-4347-8dd4-17a61874dc64"
      },
      "execution_count": null,
      "outputs": [
        {
          "output_type": "execute_result",
          "data": {
            "text/plain": [
              "False"
            ]
          },
          "metadata": {},
          "execution_count": 26
        }
      ]
    },
    {
      "cell_type": "code",
      "source": [
        "import math\n",
        "\n",
        "def solve_quadratic(a, b, c):\n",
        "    discriminant = b**2 - 4 * a * c\n",
        "    if discriminant > 0:\n",
        "        root1 = (-b + math.sqrt(discriminant)) / (2 * a)\n",
        "        root2 = (-b - math.sqrt(discriminant)) / (2 * a)\n",
        "        return root1, root2\n",
        "    elif discriminant == 0:\n",
        "        root = -b / (2 * a)\n",
        "        return root\n",
        "    else:\n",
        "        return \"No real roots\"\n"
      ],
      "metadata": {
        "id": "-W30JayiLFUl"
      },
      "execution_count": null,
      "outputs": []
    },
    {
      "cell_type": "code",
      "source": [],
      "metadata": {
        "id": "N7hlWuUQLJ5l"
      },
      "execution_count": null,
      "outputs": []
    },
    {
      "cell_type": "code",
      "source": [
        "def perimeter_rectangle(length, width):\n",
        "    return 2 * (length + width)\n"
      ],
      "metadata": {
        "id": "OVS0szScL5Cc"
      },
      "execution_count": null,
      "outputs": []
    },
    {
      "cell_type": "code",
      "source": [],
      "metadata": {
        "id": "F8Ma1vi3L6cZ"
      },
      "execution_count": null,
      "outputs": []
    },
    {
      "cell_type": "code",
      "source": [
        "def hours_to_minutes(hours):\n",
        "    return hours * 60\n"
      ],
      "metadata": {
        "id": "btF_YMItL7Bq"
      },
      "execution_count": null,
      "outputs": []
    }
  ]
}