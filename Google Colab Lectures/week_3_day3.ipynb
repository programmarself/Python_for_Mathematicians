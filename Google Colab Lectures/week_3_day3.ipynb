{
  "nbformat": 4,
  "nbformat_minor": 0,
  "metadata": {
    "colab": {
      "provenance": []
    },
    "kernelspec": {
      "name": "python3",
      "display_name": "Python 3"
    },
    "language_info": {
      "name": "python"
    }
  },
  "cells": [
    {
      "cell_type": "code",
      "execution_count": null,
      "metadata": {
        "id": "Ine2awqIiNf0"
      },
      "outputs": [],
      "source": []
    },
    {
      "cell_type": "markdown",
      "source": [
        "**Functions:**\n",
        "functions are blocks of code that perform a specific task and can be used multiple times\n",
        "\n",
        "**how to create a function?**\n",
        "1.def is the keyword used to define a function.\n",
        "2.function_name is the name you give to the function.\n",
        "3.parameters (optional) are inputs passed to the function.\n",
        "4.return (optional) sends a value back to the caller.\n",
        "\n",
        "**parameter and argument?**\n",
        "difference between module and argument.\n",
        "\n",
        "**MODULE**\n",
        "these are the set of funtions, classes and varriables stored in a .py file\n",
        "\n",
        "**Math module**\n",
        "The math module in Python provides a wide range of mathematical functions, constants, and tools for performing complex calculations.\n",
        "\n",
        "\n",
        "\n"
      ],
      "metadata": {
        "id": "9BROVnyBiQYk"
      }
    },
    {
      "cell_type": "markdown",
      "source": [
        "**STEP 1**\n",
        "Import the module"
      ],
      "metadata": {
        "id": "70vcOmvvkuG4"
      }
    },
    {
      "cell_type": "code",
      "source": [
        "import math\n"
      ],
      "metadata": {
        "id": "4W1Dxpr9kZB7"
      },
      "execution_count": null,
      "outputs": []
    },
    {
      "cell_type": "markdown",
      "source": [
        "**step 2** call the module"
      ],
      "metadata": {
        "id": "jAKTvFcOk4du"
      }
    },
    {
      "cell_type": "code",
      "source": [
        "print(math.pi)\n",
        "print(math.e)\n"
      ],
      "metadata": {
        "colab": {
          "base_uri": "https://localhost:8080/"
        },
        "id": "eyeJfKQelAtQ",
        "outputId": "aaf7a6c6-f6a2-470f-b91a-3f1745338e36"
      },
      "execution_count": null,
      "outputs": [
        {
          "output_type": "stream",
          "name": "stdout",
          "text": [
            "3.141592653589793\n",
            "2.718281828459045\n"
          ]
        }
      ]
    },
    {
      "cell_type": "markdown",
      "source": [
        "BASIC OPERATIONS:"
      ],
      "metadata": {
        "id": "uQ7HW6UllSnS"
      }
    },
    {
      "cell_type": "code",
      "source": [
        "print(math.sqrt(16))"
      ],
      "metadata": {
        "colab": {
          "base_uri": "https://localhost:8080/"
        },
        "id": "y9UU_0APlSW0",
        "outputId": "4551aaad-dd27-4e84-c4f0-14d23280ee52"
      },
      "execution_count": null,
      "outputs": [
        {
          "output_type": "stream",
          "name": "stdout",
          "text": [
            "4.0\n"
          ]
        }
      ]
    },
    {
      "cell_type": "code",
      "source": [
        "print(math.pow(2, 3))"
      ],
      "metadata": {
        "id": "dP61Zd5-lcoU"
      },
      "execution_count": null,
      "outputs": []
    },
    {
      "cell_type": "code",
      "source": [
        "print(math.fabs(-7.5))"
      ],
      "metadata": {
        "colab": {
          "base_uri": "https://localhost:8080/"
        },
        "id": "Xf3BfKe2lc1T",
        "outputId": "7add8a6c-2dec-4bf0-9058-6f06fb133f2b"
      },
      "execution_count": null,
      "outputs": [
        {
          "output_type": "stream",
          "name": "stdout",
          "text": [
            "7.5\n"
          ]
        }
      ]
    },
    {
      "cell_type": "markdown",
      "source": [
        "ROUNDING FUNCTION:\n",
        "The math module has rounding functions to round up or down:\n",
        "\n",
        "Ceiling: math.ceil(x) Rounds x up to the nearest integer.\n",
        "Floor: math.floor(x) Rounds x down to the nearest integer.\n",
        "Truncate: math.trunc(x)  Removes the decimal part of x."
      ],
      "metadata": {
        "id": "OvNZ4wrzllu6"
      }
    },
    {
      "cell_type": "code",
      "source": [
        "print(math.ceil(4.3))\n"
      ],
      "metadata": {
        "colab": {
          "base_uri": "https://localhost:8080/"
        },
        "id": "rtm93WFOlytk",
        "outputId": "3ae2f4f0-0419-4f50-e6f8-f23ba3104dc6"
      },
      "execution_count": null,
      "outputs": [
        {
          "output_type": "stream",
          "name": "stdout",
          "text": [
            "5\n"
          ]
        }
      ]
    },
    {
      "cell_type": "code",
      "source": [
        "print(math.floor(4.7))"
      ],
      "metadata": {
        "colab": {
          "base_uri": "https://localhost:8080/"
        },
        "id": "KgklNxQLlyxy",
        "outputId": "46494d80-27d5-42e7-a133-c59484b0134d"
      },
      "execution_count": null,
      "outputs": [
        {
          "output_type": "stream",
          "name": "stdout",
          "text": [
            "4\n"
          ]
        }
      ]
    },
    {
      "cell_type": "code",
      "source": [
        "print(math.trunc(4.8))\n"
      ],
      "metadata": {
        "colab": {
          "base_uri": "https://localhost:8080/"
        },
        "id": "pMlEXthuly6J",
        "outputId": "b973d138-7e2d-4575-9449-5bc48cd1f524"
      },
      "execution_count": null,
      "outputs": [
        {
          "output_type": "stream",
          "name": "stdout",
          "text": [
            "4\n"
          ]
        }
      ]
    },
    {
      "cell_type": "markdown",
      "source": [
        "**Trigonometric Function**\n",
        "\n",
        "Sine: math.sin(x) Returns the sine of x.\n",
        "Cosine: math.cos(x) Returns the cosine of x.\n",
        "Tangent: math.tan(x) Returns the tangent of x"
      ],
      "metadata": {
        "id": "cj8xaBrCmABG"
      }
    },
    {
      "cell_type": "code",
      "source": [
        "# Convert 60 degrees to radians\n",
        "angle_in_radians = math.radians(60)\n",
        "print(math.sin(angle_in_radians))\n"
      ],
      "metadata": {
        "id": "-FkHGKm5mJsD"
      },
      "execution_count": null,
      "outputs": []
    },
    {
      "cell_type": "code",
      "source": [
        "print(math.cos(angle_in_radians))"
      ],
      "metadata": {
        "id": "XxeKUVLdmNg0"
      },
      "execution_count": null,
      "outputs": []
    },
    {
      "cell_type": "code",
      "source": [
        "print(math.tan(angle_in_radians))"
      ],
      "metadata": {
        "id": "NHJclpbRmNu9"
      },
      "execution_count": null,
      "outputs": []
    },
    {
      "cell_type": "markdown",
      "source": [
        "**Logarithmic Functions**\n",
        "Natural Logarithm: math.log(x) Returns the natural log of x (base e).\n",
        "Log Base 10: math.log10(x)  Returns the log of x to base 10.\n",
        "Log Base 2: math.log2(x) Returns the log of x to base 2."
      ],
      "metadata": {
        "id": "HBctvXPlmhdH"
      }
    },
    {
      "cell_type": "code",
      "source": [
        "print(math.log(math.e))\n",
        "print(math.log10(100))\n",
        "print(math.log2(8))\n"
      ],
      "metadata": {
        "id": "w38pjvt1moCG"
      },
      "execution_count": null,
      "outputs": []
    },
    {
      "cell_type": "code",
      "source": [
        "y=float(input(\"Enter the value of angle in radian: \"))\n",
        "angle_in_degree=math.degrees(y)\n",
        "print(angle_in_degree)"
      ],
      "metadata": {
        "id": "gN6UXt6W9XdW"
      },
      "execution_count": null,
      "outputs": []
    },
    {
      "cell_type": "markdown",
      "source": [
        "Checking All Functions in the math Module"
      ],
      "metadata": {
        "id": "re_71znXnPPa"
      }
    },
    {
      "cell_type": "code",
      "source": [
        "import math\n",
        "\n",
        "print(dir(math))\n"
      ],
      "metadata": {
        "colab": {
          "base_uri": "https://localhost:8080/"
        },
        "id": "Nk4_7ddEnQZv",
        "outputId": "d7a1050d-b432-45ca-c78c-87e2290f8e66"
      },
      "execution_count": null,
      "outputs": [
        {
          "output_type": "stream",
          "name": "stdout",
          "text": [
            "['__doc__', '__loader__', '__name__', '__package__', '__spec__', 'acos', 'acosh', 'asin', 'asinh', 'atan', 'atan2', 'atanh', 'ceil', 'comb', 'copysign', 'cos', 'cosh', 'degrees', 'dist', 'e', 'erf', 'erfc', 'exp', 'expm1', 'fabs', 'factorial', 'floor', 'fmod', 'frexp', 'fsum', 'gamma', 'gcd', 'hypot', 'inf', 'isclose', 'isfinite', 'isinf', 'isnan', 'isqrt', 'lcm', 'ldexp', 'lgamma', 'log', 'log10', 'log1p', 'log2', 'modf', 'nan', 'nextafter', 'perm', 'pi', 'pow', 'prod', 'radians', 'remainder', 'sin', 'sinh', 'sqrt', 'tan', 'tanh', 'tau', 'trunc', 'ulp']\n"
          ]
        }
      ]
    },
    {
      "cell_type": "code",
      "source": [
        "help(math.sqrt)"
      ],
      "metadata": {
        "colab": {
          "base_uri": "https://localhost:8080/"
        },
        "id": "liIvKloVnYIX",
        "outputId": "351b5a3c-dde3-445c-e538-29ff732e3a98"
      },
      "execution_count": null,
      "outputs": [
        {
          "output_type": "stream",
          "name": "stdout",
          "text": [
            "Help on built-in function sqrt in module math:\n",
            "\n",
            "sqrt(x, /)\n",
            "    Return the square root of x.\n",
            "\n"
          ]
        }
      ]
    },
    {
      "cell_type": "markdown",
      "source": [
        "creating a module\n",
        "1. create a .py file\n",
        "2. add functions in it\n",
        "3. use like any other module"
      ],
      "metadata": {
        "id": "BYlCGElln9X0"
      }
    },
    {
      "cell_type": "code",
      "source": [
        "%%writefile extention.py\n",
        "def birthday(name,age):\n",
        "    print(f\"happy birthday {name}. your age is now {age}\")\n",
        "\n",
        "x=input(\"enter the name:\")\n",
        "y=int(input(\"enter the age\"))\n",
        "\n",
        "birthday(x,y)"
      ],
      "metadata": {
        "colab": {
          "base_uri": "https://localhost:8080/"
        },
        "id": "Ujj3cxzXoIDA",
        "outputId": "95d51ea1-b696-4985-e53c-894ea7b0dabe"
      },
      "execution_count": null,
      "outputs": [
        {
          "output_type": "stream",
          "name": "stdout",
          "text": [
            "Overwriting extention.py\n"
          ]
        }
      ]
    },
    {
      "cell_type": "code",
      "source": [
        "print()"
      ],
      "metadata": {
        "id": "bVgk_rWLQ8tS"
      },
      "execution_count": null,
      "outputs": []
    },
    {
      "cell_type": "code",
      "source": [
        "import extention"
      ],
      "metadata": {
        "id": "4XE7nICLJrnT"
      },
      "execution_count": null,
      "outputs": []
    }
  ]
}