{
  "nbformat": 4,
  "nbformat_minor": 0,
  "metadata": {
    "colab": {
      "provenance": []
    },
    "kernelspec": {
      "name": "python3",
      "display_name": "Python 3"
    },
    "language_info": {
      "name": "python"
    }
  },
  "cells": [
    {
      "cell_type": "markdown",
      "source": [
        "# Task Overview:\n",
        "\n",
        "## Student Attendance Tracker\n",
        "\n",
        "**Objective:**\n",
        "\n",
        "Track attendance by using sets to store present and absent students.\n",
        "\n",
        "**Task Outline:**\n",
        "\n",
        "Present Students: Use a set to store names of students who are present.\n",
        "\n",
        "Absent Students: Derive a set of absent students from a master set of all students.\n"
      ],
      "metadata": {
        "id": "6ZYo5oD5mBPc"
      }
    },
    {
      "cell_type": "code",
      "source": [
        "total_students = {\"ali\",\"ahmed\",\"subhan\",\"imran\",\"bilal\"}\n",
        "present_students = {\"ali\",\"ahmed\",\"bilal\"}\n",
        "\n",
        "absent_students = total_students - present_students\n",
        "absent_students"
      ],
      "metadata": {
        "id": "lIk77ponmZxL",
        "colab": {
          "base_uri": "https://localhost:8080/"
        },
        "outputId": "a88907db-ab8b-44f0-bc9a-a77ac4b2ca3b"
      },
      "execution_count": null,
      "outputs": [
        {
          "output_type": "execute_result",
          "data": {
            "text/plain": [
              "{'imran', 'subhan'}"
            ]
          },
          "metadata": {},
          "execution_count": 1
        }
      ]
    },
    {
      "cell_type": "markdown",
      "source": [
        "# Simple E-commerce System"
      ],
      "metadata": {
        "id": "7wlpiTLbnhlR"
      }
    },
    {
      "cell_type": "markdown",
      "source": [
        "# **Objective**\n",
        "Build a basic e-commerce system combining lists, tuples, sets, and dictionaries, focusing on different elements of the shopping process."
      ],
      "metadata": {
        "id": "sL-pFJNjs0rS"
      }
    },
    {
      "cell_type": "markdown",
      "source": [
        "`Step 1:` Catalog (Dictionary of Tuples)\n",
        "\n",
        "**Description**\n",
        "\n",
        "The catalog is represented by a dictionary where each key is an item name, and each value is a tuple containing the item’s price and stock quantity."
      ],
      "metadata": {
        "id": "ZmVTG8lNs5pA"
      }
    },
    {
      "cell_type": "code",
      "source": [
        "# Laptop = 1000 , 10\n",
        "# mobile_abc = 500 ,5\n",
        "# keyboard = 200 ,50\n",
        "# 1. Dict 2.Tuple , 3.List\n",
        "# \"ALyan\":--------------\n",
        "catalog = {\n",
        "    \"Laptop\":(1000,10),\n",
        "    \"mobile_abc\":(500,5),\n",
        "    \"keyboard\":(200,50)\n",
        "}\n",
        "\n",
        "print(\"availbe items:\")\n",
        "for key,val in catalog.items():\n",
        "  print(f\"Item name {key}\")\n",
        "  print(\"price\",val[0])\n",
        "  print(\"quantity\",val[1])\n"
      ],
      "metadata": {
        "id": "lK72R1G7oEyi",
        "colab": {
          "base_uri": "https://localhost:8080/"
        },
        "outputId": "611f08e8-af60-4b3d-f6de-9d2265555036"
      },
      "execution_count": null,
      "outputs": [
        {
          "output_type": "stream",
          "name": "stdout",
          "text": [
            "availbe items:\n",
            "Item name Laptop\n",
            "price 1000\n",
            "quantity 10\n",
            "Item name mobile_abc\n",
            "price 500\n",
            "quantity 5\n",
            "Item name keyboard\n",
            "price 200\n",
            "quantity 50\n"
          ]
        }
      ]
    },
    {
      "cell_type": "markdown",
      "source": [
        "## `Step 2:` Shopping Cart (List)\n",
        "\n",
        "**Description:**\n",
        "\n",
        "The shopping cart is represented by a list. Each time a user adds an item, it is appended to this list. This approach helps keep track of the order in which items were added."
      ],
      "metadata": {
        "id": "ja0ln5iotHgy"
      }
    },
    {
      "cell_type": "code",
      "source": [
        "# 1. dict 2. list\n",
        "shopping_cart = []\n",
        "\n",
        "def add_cart(item): # item =\"Laptop\"\n",
        "  if item in catalog:\n",
        "    if catalog[item][1]  > 0:   #quantity\n",
        "      shopping_cart.append(item)\n",
        "  else:\n",
        "    print(\"Not exsit.\")\n",
        "\n",
        "\n",
        "add_cart(\"Laptop\")\n",
        "add_cart(\"keyboard\")\n",
        "add_cart(\"mobile_abc\")\n",
        "add_cart(\"Laptop\")\n",
        "shopping_cart"
      ],
      "metadata": {
        "id": "5X8A7oQ3tPvr",
        "colab": {
          "base_uri": "https://localhost:8080/"
        },
        "outputId": "42a0fbd6-b195-4e50-fceb-12ec8199a361"
      },
      "execution_count": null,
      "outputs": [
        {
          "output_type": "execute_result",
          "data": {
            "text/plain": [
              "['Laptop', 'keyboard', 'mobile_abc', 'Laptop']"
            ]
          },
          "metadata": {},
          "execution_count": 30
        }
      ]
    },
    {
      "cell_type": "markdown",
      "source": [
        "`Step 3:` Wishlist (Set)\n",
        "\n",
        "**Description:**\n",
        "\n",
        "The wishlist is a set containing unique items the user wishes to buy later. Using a set ensures there are no duplicates in the wishlist."
      ],
      "metadata": {
        "id": "DbcidQJGtSDu"
      }
    },
    {
      "cell_type": "code",
      "source": [
        "wishlist = set()\n",
        "\n",
        "def add_to_wishlist(item):\n",
        "  for i in range(len(item)):\n",
        "    if item[i] in catalog:\n",
        "      wishlist.add(item[i])\n",
        "\n",
        "add_to_wishlist((\"Laptop\",\"keyboard\",\"mobile\"))\n",
        "# add_to_wishlist()\n",
        "wishlist"
      ],
      "metadata": {
        "id": "7u3o5K_8tWG6",
        "colab": {
          "base_uri": "https://localhost:8080/"
        },
        "outputId": "c4c3bb3a-67a3-4541-9952-b68fc0df1fc4"
      },
      "execution_count": null,
      "outputs": [
        {
          "output_type": "execute_result",
          "data": {
            "text/plain": [
              "{'Laptop', 'keyboard'}"
            ]
          },
          "metadata": {},
          "execution_count": 22
        }
      ]
    },
    {
      "cell_type": "markdown",
      "source": [
        "`Step 4:` Remove Items from Cart\n",
        "\n",
        "**Description:**\n",
        "\n",
        "Provide a function to remove items from the shopping cart, allowing users to change their minds about what they want to buy."
      ],
      "metadata": {
        "id": "gtlugFWytXV0"
      }
    },
    {
      "cell_type": "code",
      "source": [
        "def remove_product(item):\n",
        "  if item in shopping_cart:\n",
        "    shopping_cart.remove(item)\n",
        "\n",
        "remove_product(\"Laptop\")\n",
        "shopping_cart"
      ],
      "metadata": {
        "id": "SH9kS5U2tgKg",
        "colab": {
          "base_uri": "https://localhost:8080/"
        },
        "outputId": "d498ac2a-9689-4c30-829e-fca9dde674ff"
      },
      "execution_count": null,
      "outputs": [
        {
          "output_type": "execute_result",
          "data": {
            "text/plain": [
              "['keyboard', 'mobile_abc', 'Laptop']"
            ]
          },
          "metadata": {},
          "execution_count": 27
        }
      ]
    },
    {
      "cell_type": "markdown",
      "source": [
        "`Step 5:` Checkout (Calculate Total Cost and Update Stock)\n",
        "\n",
        "**Description**\n",
        "\n",
        "When the user checks out, calculate the total cost by summing up the prices of items in the shopping cart. Deduct the stock quantity for each item purchased."
      ],
      "metadata": {
        "id": "ztfJZ5PetiVg"
      }
    },
    {
      "cell_type": "code",
      "source": [
        "from sre_constants import CATEGORY_UNI_SPACE\n",
        "def checkout():\n",
        "  total_price = 0\n",
        "  for item in shopping_cart: # ['Laptop', 'keyboard', 'mobile_abc', 'Laptop']\n",
        "    total_price = total_price + catalog[item][0]  #catalog = {\"Laptop\":(1000,10),\"mobile_abc\":(500,5),\"keyboard\":(200,50)}\n",
        "    price, stock = catalog[item]\n",
        "    stock = stock - 1\n",
        "    catalog[item] = price, stock\n",
        "    print(f\"{item} : Stock availble: {catalog[item][1]}\")\n",
        "  print(\"Total price: \", total_price)\n",
        "\n",
        "\n",
        "checkout()\n",
        "catalog"
      ],
      "metadata": {
        "id": "7Qyy7uhUtw5Z",
        "colab": {
          "base_uri": "https://localhost:8080/"
        },
        "outputId": "dc8994de-b3ae-4019-b1b9-a2f2031a8f0c"
      },
      "execution_count": null,
      "outputs": [
        {
          "output_type": "stream",
          "name": "stdout",
          "text": [
            "Laptop : Stock availble: 7\n",
            "keyboard : Stock availble: 48\n",
            "mobile_abc : Stock availble: 3\n",
            "Laptop : Stock availble: 6\n",
            "Total price:  2700\n"
          ]
        },
        {
          "output_type": "execute_result",
          "data": {
            "text/plain": [
              "{'Laptop': (1000, 6), 'mobile_abc': (500, 3), 'keyboard': (200, 48)}"
            ]
          },
          "metadata": {},
          "execution_count": 34
        }
      ]
    }
  ]
}