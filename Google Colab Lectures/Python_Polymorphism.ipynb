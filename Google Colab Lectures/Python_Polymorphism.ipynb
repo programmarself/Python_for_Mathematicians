{
  "nbformat": 4,
  "nbformat_minor": 0,
  "metadata": {
    "colab": {
      "provenance": []
    },
    "kernelspec": {
      "name": "python3",
      "display_name": "Python 3"
    },
    "language_info": {
      "name": "python"
    }
  },
  "cells": [
    {
      "cell_type": "markdown",
      "source": [
        "# Polymorphism in Python\n",
        "## Polymorphism is one of the four pillars of Object-Oriented Programming (OOP). It provides a way to perform a single action in different forms. Polymorphism enables the use of a single interface to represent different data types or class types."
      ],
      "metadata": {
        "id": "T7qY98eGpuLv"
      }
    },
    {
      "cell_type": "markdown",
      "source": [
        "#  Concept of Polymorphism\n",
        "## In simple terms, polymorphism means \"many forms.\" In programming, it refers to the ability of different objects to respond to the same function call in different ways.\n",
        "\n",
        "## For example, both a Dog class and a Cat class may have a speak() method, but each class implements it differently. Polymorphism allows us to call the same method on different objects, and each object responds according to its class's behavior.\n",
        "\n",
        "## Real-Life Example:\n",
        "## Consider the term \"run.\" A human runs, a car runs, and a computer program runs. The word \"run\" means different things in each context, but the action depends on the subject. This is polymorphism.\n",
        "\n"
      ],
      "metadata": {
        "id": "Ze4T20-HqB5A"
      }
    },
    {
      "cell_type": "markdown",
      "source": [
        "\n",
        "## The word \"polymorphism\" means \"many forms\", and in programming it refers to methods/functions/operators with the same name that can be executed on many objects or classes."
      ],
      "metadata": {
        "id": "PbXrDNTBh9hf"
      }
    },
    {
      "cell_type": "markdown",
      "source": [
        "# Function Polymorphism\n",
        "## An example of a Python function that can be used on different objects is the len() function.\n",
        "\n"
      ],
      "metadata": {
        "id": "T87ND8ACiDeL"
      }
    },
    {
      "cell_type": "markdown",
      "source": [
        "# String\n",
        "## For strings len() returns the number of characters:"
      ],
      "metadata": {
        "id": "YDIp8E8AiMuc"
      }
    },
    {
      "cell_type": "code",
      "execution_count": null,
      "metadata": {
        "id": "qKdRNstyd0MW",
        "colab": {
          "base_uri": "https://localhost:8080/"
        },
        "outputId": "e9957816-e893-43f3-9230-1c223da59d57"
      },
      "outputs": [
        {
          "output_type": "stream",
          "name": "stdout",
          "text": [
            "12\n"
          ]
        }
      ],
      "source": [
        "x = \"Hello World!\"\n",
        "\n",
        "print(len(x))"
      ]
    },
    {
      "cell_type": "markdown",
      "source": [
        "# Tuple\n",
        "## For tuples len() returns the number of items in the tuple:"
      ],
      "metadata": {
        "id": "cKUS-EmuiSWa"
      }
    },
    {
      "cell_type": "code",
      "source": [
        "mytuple = (\"apple\", \"banana\", \"cherry\")\n",
        "\n",
        "print(len(mytuple))"
      ],
      "metadata": {
        "id": "i3izAKIsiT2D",
        "colab": {
          "base_uri": "https://localhost:8080/"
        },
        "outputId": "2d22c84a-4743-4a40-e1ed-e2e6c141a428"
      },
      "execution_count": null,
      "outputs": [
        {
          "output_type": "stream",
          "name": "stdout",
          "text": [
            "3\n"
          ]
        }
      ]
    },
    {
      "cell_type": "markdown",
      "source": [
        "# Dictionary\n",
        "## For dictionaries len() returns the number of key/value pairs in the dictionary:\n"
      ],
      "metadata": {
        "id": "6MWd-SRNiXeK"
      }
    },
    {
      "cell_type": "code",
      "source": [
        "thisdict = {\n",
        "  \"brand\": \"Ford\",\n",
        "  \"model\": \"Mustang\",\n",
        "  \"year\": 1964\n",
        "}\n",
        "\n",
        "print(len(thisdict))"
      ],
      "metadata": {
        "id": "svIyYh6IiZo7",
        "colab": {
          "base_uri": "https://localhost:8080/"
        },
        "outputId": "51f3bb8a-7990-4c67-c90e-0df9207e477e"
      },
      "execution_count": null,
      "outputs": [
        {
          "output_type": "stream",
          "name": "stdout",
          "text": [
            "3\n"
          ]
        }
      ]
    },
    {
      "cell_type": "markdown",
      "source": [
        "# Method Overriding vs Method Overloading\n",
        "## In Python, method overriding is supported, while method overloading (a concept from other OOP languages) is not natively supported. Let’s explore both concepts:\n",
        "# Method Overriding\n",
        "## Method overriding occurs when a child class defines a method that has the same name, signature, and parameters as a method in the parent class, but the behavior in the child class is different.\n"
      ],
      "metadata": {
        "id": "3TUJbvngqbyV"
      }
    },
    {
      "cell_type": "code",
      "source": [
        "class Animal:\n",
        "    def speak(self):\n",
        "        print(\"Animal makes a sound.\")\n",
        "\n",
        "class Dog(Animal):\n",
        "    # Overriding the speak method in the child class\n",
        "    def speak(self):\n",
        "        print(\"Dog barks.\")\n",
        "\n",
        "class Cat(Animal):\n",
        "    # Overriding the speak method in the child class\n",
        "    def speak(self):\n",
        "        print(\"Cat meows.\")\n",
        "\n",
        "# Demonstrating polymorphic behavior\n",
        "animal = Animal()\n",
        "dog = Dog()\n",
        "cat = Cat()\n",
        "\n",
        "# Calling the overridden methods\n",
        "animal.speak()  # Output: Animal makes a sound.\n",
        "dog.speak()     # Output: Dog barks.\n",
        "cat.speak()     # Output: Cat meows.\n"
      ],
      "metadata": {
        "id": "NC9-V55Mqp8S",
        "colab": {
          "base_uri": "https://localhost:8080/"
        },
        "outputId": "92796473-ded6-489b-b841-07a5c3636176"
      },
      "execution_count": null,
      "outputs": [
        {
          "output_type": "stream",
          "name": "stdout",
          "text": [
            "Animal makes a sound.\n",
            "Animal makes a sound.\n",
            "Cat meows.\n"
          ]
        }
      ]
    },
    {
      "cell_type": "markdown",
      "source": [
        "# Explanation:\n",
        "\n",
        "## The speak() method is overridden in the Dog and Cat classes.\n",
        "## Polymorphism allows different objects (Animal, Dog, Cat) to use the same method (speak()), but each implementation is specific to the class."
      ],
      "metadata": {
        "id": "KmaUNVnsrAPI"
      }
    },
    {
      "cell_type": "markdown",
      "source": [
        "# Class Polymorphism\n",
        "## Polymorphism is often used in Class methods, where we can have multiple classes with the same method name.\n",
        "\n",
        "## For example, say we have three classes: Car, Boat, and Plane, and they all have a method called move():\n",
        "\n"
      ],
      "metadata": {
        "id": "YQzpKhCVic5f"
      }
    },
    {
      "cell_type": "code",
      "source": [
        "# Different classes with the same method:\n",
        "class Car:\n",
        "  def __init__(self, brand, model):\n",
        "    self.brand = brand\n",
        "    self.model = model\n",
        "\n",
        "  def move(self):\n",
        "    print(\"Drive!\")\n",
        "\n",
        "class Boat:\n",
        "  def __init__(self, brand, model):\n",
        "    self.brand = brand\n",
        "    self.model = model\n",
        "\n",
        "  def move(self):\n",
        "    print(\"Sail!\")\n",
        "\n",
        "class Plane:\n",
        "  def __init__(self, brand, model):\n",
        "    self.brand = brand\n",
        "    self.model = model\n",
        "\n",
        "  def move(self):\n",
        "    print(\"Fly!\")\n",
        "\n",
        "car1 = Car(\"Ford\", \"Mustang\")       #Create a Car class\n",
        "boat1 = Boat(\"Ibiza\", \"Touring 20\") #Create a Boat class\n",
        "plane1 = Plane(\"Boeing\", \"747\")     #Create a Plane class\n",
        "\n",
        "for x in (car1, boat1, plane1):\n",
        "  x.move()"
      ],
      "metadata": {
        "id": "1wJJYhVPimS4",
        "colab": {
          "base_uri": "https://localhost:8080/"
        },
        "outputId": "05bdf364-2501-43ef-db0f-ad6bebadf230"
      },
      "execution_count": null,
      "outputs": [
        {
          "output_type": "stream",
          "name": "stdout",
          "text": [
            "Drive!\n",
            "Sail!\n",
            "Fly!\n"
          ]
        }
      ]
    },
    {
      "cell_type": "markdown",
      "source": [
        "# Inheritance Class Polymorphism\n",
        "## What about classes with child classes with the same name? Can we use polymorphism there?\n",
        "\n",
        "## Yes. If we use the example above and make a parent class called Vehicle, and make Car, Boat, Plane child classes of Vehicle, the child classes inherits the Vehicle methods, but can override them:\n"
      ],
      "metadata": {
        "id": "Yh0dTrf2jC75"
      }
    },
    {
      "cell_type": "code",
      "source": [
        "# Create a class called Vehicle and make Car, Boat, Plane child classes of Vehicle:\n",
        "class Vehicle:\n",
        "  def __init__(self, brand, model):\n",
        "    self.brand = brand\n",
        "    self.model = model\n",
        "\n",
        "  def move(self):\n",
        "    print(\"Move!\")\n",
        "\n",
        "class Car(Vehicle):\n",
        "  pass\n",
        "\n",
        "class Boat(Vehicle):\n",
        "  def move(self):\n",
        "    print(\"Sail!\")\n",
        "\n",
        "class Plane(Vehicle):\n",
        "  def move(self):\n",
        "    print(\"Fly!\")\n",
        "\n",
        "car1 = Car(\"Ford\", \"Mustang\") #Create a Car object\n",
        "boat1 = Boat(\"Ibiza\", \"Touring 20\") #Create a Boat object\n",
        "plane1 = Plane(\"Boeing\", \"747\") #Create a Plane object\n",
        "\n",
        "for x in (car1, boat1, plane1):\n",
        "  print(x.brand)\n",
        "  print(x.model)\n",
        "  x.move()\n",
        "  print(\"------\")"
      ],
      "metadata": {
        "id": "wEPmLgiEjKWk",
        "colab": {
          "base_uri": "https://localhost:8080/"
        },
        "outputId": "ca5303a6-d524-43fe-ba3f-39425e37f7e0"
      },
      "execution_count": null,
      "outputs": [
        {
          "output_type": "stream",
          "name": "stdout",
          "text": [
            "Ford\n",
            "Mustang\n",
            "Move!\n",
            "------\n",
            "Ibiza\n",
            "Touring 20\n",
            "Sail!\n",
            "------\n",
            "Boeing\n",
            "747\n",
            "Fly!\n",
            "------\n"
          ]
        }
      ]
    },
    {
      "cell_type": "markdown",
      "source": [
        "## Polymorphism is often used with inheritance, where child classes inherit methods from a parent class, and the behavior of the method can be changed (overridden) in the child class.\n",
        "\n",
        "##  This allows different objects to be treated uniformly. For example, different animal objects can all be handled using their shared behavior (method), even though they perform that behavior differently."
      ],
      "metadata": {
        "id": "obLBGp9-rqBB"
      }
    },
    {
      "cell_type": "markdown",
      "source": [
        "## Child classes inherits the properties and methods from the parent class.\n",
        "\n",
        "## In the example above you can see that the Car class is empty, but it inherits brand, model, and move() from Vehicle.\n",
        "\n",
        "## The Boat and Plane classes also inherit brand, model, and move() from Vehicle, but they both override the move() method.\n",
        "\n",
        "## Because of polymorphism we can execute the same method for all classes."
      ],
      "metadata": {
        "id": "KK3Zr42ZjsTp"
      }
    },
    {
      "cell_type": "code",
      "source": [
        "class Animal:\n",
        "    def speak(self):\n",
        "        raise NotImplementedError(\"Subclass must implement abstract method\")\n",
        "\n",
        "class Dog(Animal):\n",
        "    def speak(self):\n",
        "        return \"Woof!\"\n",
        "\n",
        "class Cat(Animal):\n",
        "    def speak(self):\n",
        "        return \"Meow!\"\n",
        "\n",
        "class Cow(Animal):\n",
        "    def speak(self):\n",
        "        return \"Moo!\"\n",
        "\n",
        "# Polymorphic behavior with inheritance\n",
        "animals = [Dog(), Cat(), Cow()]\n",
        "\n",
        "for animal in animals:\n",
        "    print(animal.speak())\n"
      ],
      "metadata": {
        "id": "7IroXqwGryEn",
        "colab": {
          "base_uri": "https://localhost:8080/"
        },
        "outputId": "df8ff3b2-970a-4b00-8e3f-39df1ad7112c"
      },
      "execution_count": null,
      "outputs": [
        {
          "output_type": "stream",
          "name": "stdout",
          "text": [
            "Woof!\n",
            "Meow!\n",
            "Moo!\n"
          ]
        }
      ]
    },
    {
      "cell_type": "markdown",
      "source": [
        "# Explanation:\n",
        "\n",
        "## Each subclass (Dog, Cat, Cow) implements its own version of the speak() method.\n",
        "## In the loop, each object is treated as an Animal and calls the speak() method, showing polymorphism in action."
      ],
      "metadata": {
        "id": "6n9XO_fHr2pf"
      }
    },
    {
      "cell_type": "markdown",
      "source": [
        "# Method Overriding in Action\n",
        "\n",
        "## Create a base class Shape with a method area(). Then, create two derived classes, Circle and Rectangle, and override the area() method in each class to calculate the area specific to that shape."
      ],
      "metadata": {
        "id": "nlEDCTwXsHhZ"
      }
    },
    {
      "cell_type": "code",
      "source": [
        "import math\n",
        "\n",
        "# Base Class\n",
        "class Shape:\n",
        "    def area(self):\n",
        "        raise NotImplementedError(\"Subclass must implement abstract method\")\n",
        "\n",
        "# Derived Class 1\n",
        "class Circle(Shape):\n",
        "    def __init__(self, radius):\n",
        "        self.radius = radius\n",
        "\n",
        "    def area(self):\n",
        "        return math.pi * self.radius ** 2\n",
        "\n",
        "# Derived Class 2\n",
        "class Rectangle(Shape):\n",
        "    def __init__(self, width, height):\n",
        "        self.width = width\n",
        "        self.height = height\n",
        "\n",
        "    def area(self):\n",
        "        return self.width * self.height\n",
        "\n",
        "# Creating objects of Circle and Rectangle\n",
        "circle = Circle(5)\n",
        "rectangle = Rectangle(4, 6)\n",
        "\n",
        "# Demonstrating polymorphic behavior\n",
        "shapes = [circle, rectangle]\n",
        "\n",
        "for shape in shapes:\n",
        "    print(f\"Area: {shape.area()}\")\n"
      ],
      "metadata": {
        "id": "B1qaBqevsN4A",
        "colab": {
          "base_uri": "https://localhost:8080/"
        },
        "outputId": "155a1b9f-79c3-406d-c665-8d5b93d428bd"
      },
      "execution_count": null,
      "outputs": [
        {
          "output_type": "stream",
          "name": "stdout",
          "text": [
            "Area: 78.53981633974483\n",
            "Area: 24\n"
          ]
        }
      ]
    },
    {
      "cell_type": "markdown",
      "source": [
        "# Explanation:\n",
        "\n",
        "## The Shape class has an abstract method area() that must be implemented by any derived class.\n",
        "## Circle and Rectangle override the area() method to calculate the area of their specific shapes.\n",
        "## We demonstrate polymorphism by calling area() on different objects (Circle and Rectangle), but each object responds differently based on its implementation."
      ],
      "metadata": {
        "id": "QRvfKwgfsfgr"
      }
    },
    {
      "cell_type": "markdown",
      "source": [
        "# Polymorphic Behavior with a Common Method\n",
        "\n",
        "## Create a base class Employee with a method get_role(). Then, create two derived classes, Manager and Developer, and override the get_role() method in each class. Demonstrate polymorphism by calling the method for different employee types."
      ],
      "metadata": {
        "id": "J63C6nOVtC8M"
      }
    },
    {
      "cell_type": "code",
      "source": [
        "# Base Class\n",
        "class Employee:\n",
        "    def get_role(self):\n",
        "        raise NotImplementedError(\"Subclass must implement abstract method\")\n",
        "\n",
        "# Derived Class 1\n",
        "class Manager(Employee):\n",
        "    def get_role(self):\n",
        "        return \"Manager\"\n",
        "\n",
        "# Derived Class 2\n",
        "class Developer(Employee):\n",
        "    def get_role(self):\n",
        "        return \"Developer\"\n",
        "\n",
        "# Creating objects of Manager and Developer\n",
        "employees = [Manager(), Developer()]\n",
        "\n",
        "# Demonstrating polymorphism\n",
        "for employee in employees:\n",
        "    print(f\"Role: {employee.get_role()}\")\n"
      ],
      "metadata": {
        "id": "mufW3l83tG_B",
        "colab": {
          "base_uri": "https://localhost:8080/"
        },
        "outputId": "7ea57889-c853-4bbb-d3f8-64a727ead9b4"
      },
      "execution_count": null,
      "outputs": [
        {
          "output_type": "stream",
          "name": "stdout",
          "text": [
            "Role: Manager\n",
            "Role: Developer\n"
          ]
        }
      ]
    },
    {
      "cell_type": "markdown",
      "source": [
        "# Explanation:\n",
        "\n",
        "## The Employee class defines an abstract method get_role().\n",
        "## Manager and Developer classes override the method to provide their own implementations.\n",
        "## The for loop demonstrates polymorphism, where the get_role() method is called on different objects, but each object provides a different response."
      ],
      "metadata": {
        "id": "0KrZAtrRtJPK"
      }
    },
    {
      "cell_type": "markdown",
      "source": [
        "# Method Overloading\n",
        "## Method overloading refers to defining multiple methods with the same name but with different signatures (number or type of parameters).\n",
        "\n",
        "## Python does not support method overloading directly. However, you can achieve similar behavior using default parameters or *args and **kwargs to pass a variable number of arguments."
      ],
      "metadata": {
        "id": "TZsnndpwrGPK"
      }
    },
    {
      "cell_type": "code",
      "source": [
        "# Simulating Method Overloading with Default Parameters\n",
        "class Calculator:\n",
        "    def add(self, a, b=0, c=0):\n",
        "        return a + b + c\n",
        "\n",
        "# Creating an object of Calculator\n",
        "calc = Calculator()\n",
        "\n",
        "# Calling add method with different number of arguments\n",
        "print(calc.add(5))           # Output: 5\n",
        "print(calc.add(5, 10))       # Output: 15\n",
        "print(calc.add(5, 10, 20))   # Output: 35\n"
      ],
      "metadata": {
        "id": "2q9gxDserWAv",
        "colab": {
          "base_uri": "https://localhost:8080/"
        },
        "outputId": "83f8364b-b7bb-4fdc-bc00-82c844392c50"
      },
      "execution_count": null,
      "outputs": [
        {
          "output_type": "stream",
          "name": "stdout",
          "text": [
            "5\n",
            "15\n",
            "35\n"
          ]
        }
      ]
    },
    {
      "cell_type": "markdown",
      "source": [
        "# Explanation:\n",
        "\n",
        "## The add() method can handle different numbers of arguments due to default values.\n",
        "## Note: True method overloading, where methods differ based on the number or type of arguments, is not supported in Python like in Java or C++."
      ],
      "metadata": {
        "id": "ycPAeey8rZWY"
      }
    },
    {
      "cell_type": "markdown",
      "source": [
        "# Summary\n",
        "## **Polymorphism**: The ability to define a common interface (method) for multiple classes while allowing each class to implement the method in its own way.\n",
        "## **Method Overriding**: A child class provides a specific implementation of a method that is already defined in its parent class.\n",
        "## **Method Overloading**: Although Python does not directly support method overloading, it can be simulated using default parameters or variable-length arguments.\n",
        "## **Polymorphism with Inheritance**: Different derived classes implement the same method in different ways, allowing objects to be used interchangeably with polymorphic behavior."
      ],
      "metadata": {
        "id": "ZApvN6j6tSXK"
      }
    },
    {
      "cell_type": "code",
      "source": [],
      "metadata": {
        "id": "YGB3d0mWtg1C"
      },
      "execution_count": null,
      "outputs": []
    }
  ]
}