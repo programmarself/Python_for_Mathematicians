{
  "nbformat": 4,
  "nbformat_minor": 0,
  "metadata": {
    "colab": {
      "provenance": []
    },
    "kernelspec": {
      "name": "python3",
      "display_name": "Python 3"
    },
    "language_info": {
      "name": "python"
    }
  },
  "cells": [
    {
      "cell_type": "markdown",
      "source": [
        "# Encapsulation and Access Modifiers\n",
        "## Encapsulation is a fundamental concept in Object-Oriented Programming (OOP) that binds data (attributes) and functions (methods) that manipulate the data into a single unit (class). It also restricts access to some attributes and methods, ensuring that an object’s internal state is protected from unintended interference and misuse."
      ],
      "metadata": {
        "id": "RCh-4XdRSvb0"
      }
    },
    {
      "cell_type": "markdown",
      "source": [
        "#1. Concept of Encapsulation\n",
        "## Encapsulation means keeping the details (attributes and methods) of an object hidden from outside access and only exposing a controlled interface to interact with them. This is achieved through access control mechanisms.\n",
        "\n",
        "* Public Attributes/Methods: These can be accessed from anywhere (inside or outside the class).\n",
        "* Private Attributes/Methods: These are restricted and cannot be accessed directly from outside the class.\n",
        "\n",
        "\n",
        "### The key benefit of encapsulation is that it allows us to control how the data is accessed or modified, providing security and integrity to the data."
      ],
      "metadata": {
        "id": "XKhVI3UKS0yV"
      }
    },
    {
      "cell_type": "markdown",
      "source": [
        "# Example of Encapsulation in Real Life:\n",
        "## A car's gear system is encapsulated. The driver can only shift the gears using a gear stick (public interface) without knowing the internal mechanism that controls the transmission (private details)."
      ],
      "metadata": {
        "id": "vRVcDHLiS_0y"
      }
    },
    {
      "cell_type": "markdown",
      "source": [
        "# 2. Private and Public Attributes\n",
        "In Python, attributes and methods can be:\n",
        "\n",
        "#### * Public: By default, all attributes and methods in a class are public and can be accessed from outside the class.\n",
        "#### * Private: To make an attribute or method private, we use a double underscore (__) before the attribute name. Private members cannot be accessed directly outside the class."
      ],
      "metadata": {
        "id": "l3WuOdr5TFBS"
      }
    },
    {
      "cell_type": "markdown",
      "source": [
        "# Example: Public vs Private Attributes"
      ],
      "metadata": {
        "id": "DSRBM01PTQz1"
      }
    },
    {
      "cell_type": "code",
      "execution_count": null,
      "metadata": {
        "id": "5FGjDTjRSsFA",
        "colab": {
          "base_uri": "https://localhost:8080/"
        },
        "outputId": "1a4e570a-21ca-455c-b124-d52ff1283440"
      },
      "outputs": [
        {
          "output_type": "stream",
          "name": "stdout",
          "text": [
            "John\n"
          ]
        }
      ],
      "source": [
        "class Employee:\n",
        "    def __init__(self, name, salary):\n",
        "        self.name = name  # Public attribute\n",
        "        self.__salary = salary  # Private attribute\n",
        "\n",
        "# Creating an object of the Employee class\n",
        "emp1 = Employee(\"John\", 50000)\n",
        "\n",
        "# Accessing public attribute\n",
        "print(emp1.name)  # Output: John\n",
        "\n",
        "# Trying to access the private attribute directly\n",
        "#print(emp1.__salary)  # This will raise an AttributeError\n",
        "\n",
        "# Output: AttributeError: 'Employee' object has no attribute '__salary'\n"
      ]
    },
    {
      "cell_type": "markdown",
      "source": [
        "## Explanation:\n",
        "\n",
        "* Public attribute: name is accessible directly via emp1.name.\n",
        "* Private attribute: __salary cannot be accessed directly because it is private."
      ],
      "metadata": {
        "id": "SBDsj7FLTUk6"
      }
    },
    {
      "cell_type": "markdown",
      "source": [
        "# 3. Getters and Setters\n",
        "## Getters and setters are methods used to access and modify private attributes. They provide controlled access to private data, allowing you to define how attributes are retrieved and updated.\n",
        "\n",
        "* Getter: Retrieves the value of a private attribute.\n",
        "* Setter: Updates the value of a private attribute, ensuring any constraints or validation rules are applied."
      ],
      "metadata": {
        "id": "3FfjmpC_TZye"
      }
    },
    {
      "cell_type": "markdown",
      "source": [
        "# Example: Using Getters and Setters"
      ],
      "metadata": {
        "id": "gwfN_TKPTfjq"
      }
    },
    {
      "cell_type": "code",
      "source": [
        "class Employee:\n",
        "    def __init__(self, name, salary):\n",
        "        self.name = name  # Public attribute\n",
        "        self.__salary = salary  # Private attribute\n",
        "\n",
        "    # Getter method for salary\n",
        "    def get_salary(self):\n",
        "        return self.__salary\n",
        "\n",
        "    # Setter method for salary\n",
        "    def set_salary(self, new_salary):\n",
        "        if new_salary > 0:\n",
        "            self.__salary = new_salary\n",
        "        else:\n",
        "            print(\"Invalid salary amount!\")\n",
        "\n",
        "# Creating an object of the Employee class\n",
        "emp1 = Employee(\"John\", 50000)\n",
        "\n",
        "# Accessing the private salary attribute using the getter\n",
        "print(emp1.get_salary())  # Output: 50000\n",
        "\n",
        "# Updating the private salary attribute using the setter\n",
        "emp1.set_salary(55000)\n",
        "print(emp1.get_salary())  # Output: 55000\n",
        "\n",
        "# Trying to set an invalid salary\n",
        "emp1.set_salary(-1000)  # Output: Invalid salary amount!\n"
      ],
      "metadata": {
        "id": "69R3pto_TYHV",
        "colab": {
          "base_uri": "https://localhost:8080/"
        },
        "outputId": "f1a64c67-ca8d-478a-808d-ecde469f8a94"
      },
      "execution_count": null,
      "outputs": [
        {
          "output_type": "stream",
          "name": "stdout",
          "text": [
            "50000\n",
            "55000\n",
            "Invalid salary amount!\n"
          ]
        }
      ]
    },
    {
      "cell_type": "markdown",
      "source": [
        "# Explanation:\n",
        "\n",
        "* The getter get_salary() allows access to the private __salary attribute.\n",
        "* The setter set_salary(new_salary) updates the __salary attribute only if the new salary is valid (greater than 0)."
      ],
      "metadata": {
        "id": "S3GlAtu5Tjuy"
      }
    },
    {
      "cell_type": "markdown",
      "source": [
        "# 4. Practical: Implementing Private Attributes and Using Getter/Setter Methods for Controlled Access\n",
        "\n",
        "### 1. Create a class BankAccount.\n",
        "### 2. The class should have the following attributes: account_number (public), balance (private).\n",
        "### 3. Implement getter and setter methods for balance.\n",
        "### 4. Ensure that balance can only be modified via deposits and withdrawals (use the setter to validate these operations)."
      ],
      "metadata": {
        "id": "b03mxz3oQyjN"
      }
    },
    {
      "cell_type": "code",
      "source": [
        "class BankAccount:\n",
        "    def __init__(self, account_number, balance):\n",
        "        self.account_number = account_number  # Public attribute\n",
        "        self.__balance = balance  # Private attribute\n",
        "\n",
        "    # Getter method for balance\n",
        "    def get_balance(self):\n",
        "        return self.__balance\n",
        "\n",
        "    # Method to deposit money (setter for balance with validation)\n",
        "    def deposit(self, amount):\n",
        "        if amount > 0:\n",
        "            self.__balance += amount\n",
        "            print(f\"Deposited {amount}. New balance is {self.__balance}.\")\n",
        "        else:\n",
        "            print(\"Deposit amount must be positive!\")\n",
        "\n",
        "    # Method to withdraw money (setter for balance with validation)\n",
        "    def withdraw(self, amount):\n",
        "        if 0 < amount <= self.__balance:\n",
        "            self.__balance -= amount\n",
        "            print(f\"Withdrew {amount}. New balance is {self.__balance}.\")\n",
        "        else:\n",
        "            print(\"Insufficient funds or invalid withdrawal amount!\")\n",
        "\n",
        "# Creating an object of BankAccount class\n",
        "account1 = BankAccount(\"123456789\", 1000)\n",
        "\n",
        "# Accessing public attribute\n",
        "print(f\"Account Number: {account1.account_number}\")  # Output: Account Number: 123456789\n",
        "\n",
        "# Accessing private attribute through getter\n",
        "print(f\"Initial Balance: {account1.get_balance()}\")  # Output: Initial Balance: 1000\n",
        "\n",
        "# Depositing money\n",
        "account1.deposit(500)  # Output: Deposited 500. New balance is 1500.\n",
        "\n",
        "# Withdrawing money\n",
        "account1.withdraw(300)  # Output: Withdrew 300. New balance is 1200.\n",
        "\n",
        "# Trying to withdraw an invalid amount\n",
        "account1.withdraw(2000)  # Output: Insufficient funds or invalid withdrawal amount!\n"
      ],
      "metadata": {
        "id": "wCwA6nOiTmIc",
        "colab": {
          "base_uri": "https://localhost:8080/"
        },
        "outputId": "1d05fe45-085e-4743-9d25-5cdaa3a405e4"
      },
      "execution_count": null,
      "outputs": [
        {
          "output_type": "stream",
          "name": "stdout",
          "text": [
            "Account Number: 123456789\n",
            "Initial Balance: 1000\n",
            "Deposited 500. New balance is 1500.\n",
            "Withdrew 300. New balance is 1200.\n",
            "Insufficient funds or invalid withdrawal amount!\n"
          ]
        }
      ]
    }
  ]
}