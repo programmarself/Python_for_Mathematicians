{
  "nbformat": 4,
  "nbformat_minor": 0,
  "metadata": {
    "colab": {
      "provenance": []
    },
    "kernelspec": {
      "name": "python3",
      "display_name": "Python 3"
    },
    "language_info": {
      "name": "python"
    }
  },
  "cells": [
    {
      "cell_type": "code",
      "source": [
        " # triangles.py\n",
        "\n",
        "import math\n",
        "\n",
        "def law_of_sines(a=None, A=None, b=None, B=None, c=None, C=None):\n",
        "\n",
        "    if A and a and B:\n",
        "        return (a * math.sin(math.radians(B))) / math.sin(math.radians(A))\n",
        "    elif A and a and C:\n",
        "        return (a * math.sin(math.radians(C))) / math.sin(math.radians(A))\n",
        "    elif B and b and A:\n",
        "        return (b * math.sin(math.radians(A))) / math.sin(math.radians(B))\n",
        "    elif B and b and C:\n",
        "        return (b * math.sin(math.radians(C))) / math.sin(math.radians(B))\n",
        "    elif C and c and A:\n",
        "        return (c * math.sin(math.radians(A))) / math.sin(math.radians(C))\n",
        "    elif C and c and B:\n",
        "        return (c * math.sin(math.radians(B))) / math.sin(math.radians(C))\n",
        "    else:\n",
        "        return \"Insufficient information.\"\n",
        "\n",
        "def law_of_cosines(a=None, b=None, c=None, A=None, B=None, C=None):\n",
        "    if a and b and C is not None:  # Calculate side 'c'\n",
        "        return math.sqrt(a**2 + b**2 - 2 * a * b * math.cos(math.radians(C)))\n",
        "    elif a and c and B is not None:  # Calculate side 'b'\n",
        "        return math.sqrt(a**2 + c**2 - 2 * a * c * math.cos(math.radians(B)))\n",
        "    elif b and c and A is not None:  # Calculate side 'a'\n",
        "        return math.sqrt(b**2 + c**2 - 2 * b * c * math.cos(math.radians(A)))\n",
        "    elif a and b and c:\n",
        "        if A is None:  # Calculate angle A\n",
        "            return math.degrees(math.acos((b**2 + c**2 - a**2) / (2 * b * c)))\n",
        "        elif B is None:  # Calculate angle B\n",
        "            return math.degrees(math.acos((a**2 + c**2 - b**2) / (2 * a * c)))\n",
        "        elif C is None:  # Calculate angle C\n",
        "            return math.degrees(math.acos((a**2 + b**2 - c**2) / (2 * a * b)))\n",
        "    else:\n",
        "        return \"Insufficient information.\"\n",
        "\n",
        "def area_by_sides(a, b, c):\n",
        "\n",
        "    s = (a + b + c) / 2\n",
        "    return math.sqrt(s * (s - a) * (s - b) * (s - c))\n",
        "\n",
        "def area_by_base_height(base, height):\n",
        "\n",
        "    return 0.5 * base * height\n"
      ],
      "metadata": {
        "id": "V39F5Qj9GPM9"
      },
      "execution_count": null,
      "outputs": []
    },
    {
      "cell_type": "code",
      "source": [
        "import triangles as tr"
      ],
      "metadata": {
        "id": "tdkUSQdcM_c5"
      },
      "execution_count": null,
      "outputs": []
    },
    {
      "cell_type": "code",
      "source": [
        "a = tr.area_by_base_height(10,7)\n",
        "print(a)"
      ],
      "metadata": {
        "colab": {
          "base_uri": "https://localhost:8080/"
        },
        "id": "OpwSUUIhNfDH",
        "outputId": "b6512c84-3395-4489-a5c1-15c042e57b72"
      },
      "execution_count": null,
      "outputs": [
        {
          "output_type": "stream",
          "name": "stdout",
          "text": [
            "35.0\n"
          ]
        }
      ]
    },
    {
      "cell_type": "code",
      "source": [
        "b= tr.area_by_sides(6,7,8)\n",
        "print(b)"
      ],
      "metadata": {
        "colab": {
          "base_uri": "https://localhost:8080/"
        },
        "id": "j0s8WAhsOCTx",
        "outputId": "60ce8008-a6b6-4e45-dc9d-88f036a01be7"
      },
      "execution_count": null,
      "outputs": [
        {
          "output_type": "stream",
          "name": "stdout",
          "text": [
            "20.33316256758894\n"
          ]
        }
      ]
    },
    {
      "cell_type": "code",
      "source": [
        "from triangles import law_of_sines\n",
        "#a =7, b= 10, c = 12\n",
        "#A =30, B= 45, C= 60\n",
        "\n",
        "#calculate side b, when a is given\n",
        "side_b =law_of_sines(a=7, A=30, B=45)\n",
        "print(\"side_b:\",side_b)\n",
        "\n",
        "#calculate side c, when a is given\n",
        "side_c =law_of_sines(a=7, A=30, C=60)\n",
        "print(\"side_c:\",side_c)\n",
        "\n",
        "#calculate side a, when b is given\n",
        "side_a =law_of_sines(b=10, A=30, B=45)\n",
        "print(\"side_a:\",side_a)\n",
        "\n",
        "#calculate side c, when b is given\n",
        "side_c1 =law_of_sines(b=10, C=60, B=45)\n",
        "print(\"side_c1:\",side_c1)\n",
        "\n",
        "#calculate side a, when c is given\n",
        "side_a1 =law_of_sines(A=30, c=12, C=60)\n",
        "print(\"side_a1:\",side_a1)\n",
        "\n",
        "#calculate side b, when c is given\n",
        "side_b1 =law_of_sines(c=12, B=45, C=60)\n",
        "print(\"side_b1:\",side_b1)"
      ],
      "metadata": {
        "colab": {
          "base_uri": "https://localhost:8080/"
        },
        "id": "H6S5CQuqePFq",
        "outputId": "be4fc48b-6552-4405-8756-101f56a38c6b"
      },
      "execution_count": null,
      "outputs": [
        {
          "output_type": "stream",
          "name": "stdout",
          "text": [
            "side_b: 9.899494936611665\n",
            "side_c: 12.124355652982143\n",
            "side_a: 7.071067811865475\n",
            "side_c1: 12.24744871391589\n",
            "side_a1: 6.928203230275509\n",
            "side_b1: 9.797958971132712\n"
          ]
        }
      ]
    },
    {
      "cell_type": "code",
      "source": [
        "from triangles import law_of_cosines\n",
        "#a =7, b= 10, c = 12\n",
        "#A =30, B= 45, C= 60\n",
        "\n",
        "#calculate side c\n",
        "side_c =law_of_cosines(a=7, b=10, C=60)\n",
        "print(\"side_c:\",side_c)\n",
        "\n",
        "#calculate side b\n",
        "side_b =law_of_cosines(a=7, c=12, B=45)\n",
        "print(\"side_b:\",side_b)\n",
        "\n",
        "#calculate side a\n",
        "side_a =law_of_cosines(b=10, c=12, A=30)\n",
        "print(\"side_a:\",side_a)\n",
        "\n",
        "#calculate angle A\n",
        "angle_A = law_of_cosines(a=7, b=10, c=12, A=None)\n",
        "print(angle_A)"
      ],
      "metadata": {
        "colab": {
          "base_uri": "https://localhost:8080/"
        },
        "id": "GssPdD9ygP_x",
        "outputId": "2c56779f-6e2e-4163-c443-0e0aa98156b0"
      },
      "execution_count": null,
      "outputs": [
        {
          "output_type": "stream",
          "name": "stdout",
          "text": [
            "side_c: 8.888194417315589\n",
            "side_b: 8.614293979233587\n",
            "side_a: 6.012811579596913\n",
            "None\n"
          ]
        }
      ]
    }
  ]
}