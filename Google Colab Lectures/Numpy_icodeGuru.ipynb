{
  "nbformat": 4,
  "nbformat_minor": 0,
  "metadata": {
    "colab": {
      "provenance": [],
      "gpuType": "T4"
    },
    "kernelspec": {
      "name": "python3",
      "display_name": "Python 3"
    },
    "language_info": {
      "name": "python"
    },
    "accelerator": "GPU"
  },
  "cells": [
    {
      "cell_type": "markdown",
      "source": [
        "# Numpy"
      ],
      "metadata": {
        "id": "oJV_shk8aqOJ"
      }
    },
    {
      "cell_type": "code",
      "execution_count": null,
      "metadata": {
        "colab": {
          "base_uri": "https://localhost:8080/"
        },
        "id": "-0WTaOiAaiqE",
        "outputId": "08c2f36e-70f6-4ab7-9967-c0640097e0a2"
      },
      "outputs": [
        {
          "output_type": "stream",
          "name": "stdout",
          "text": [
            "[1, 2, 3, 2, 4, 5]\n"
          ]
        }
      ],
      "source": [
        "list1 = [1,2,3]\n",
        "list2 = [2,4,5]\n",
        "print(list1+list2)"
      ]
    },
    {
      "cell_type": "code",
      "source": [
        "list1 = [1,2,3]\n",
        "list2 = [2,4,5,4]\n",
        "results = []\n",
        "results.append(list1[0] + list2[0])\n",
        "results.append(list1[1] + list2[1])\n",
        "results.append(list1[2] + list2[2])\n",
        "print(results)"
      ],
      "metadata": {
        "colab": {
          "base_uri": "https://localhost:8080/"
        },
        "id": "fVy4APEqhJKz",
        "outputId": "94d75520-0f9a-4832-f2c2-0885dfd84443"
      },
      "execution_count": null,
      "outputs": [
        {
          "output_type": "stream",
          "name": "stdout",
          "text": [
            "[3, 6, 8]\n"
          ]
        }
      ]
    },
    {
      "cell_type": "code",
      "source": [
        "list1 = [1, 2, 3]\n",
        "list2 = [2, 4, 5]\n",
        "\n",
        "# Initialize an empty list to store the results\n",
        "result = []\n",
        "\n",
        "# Use a simple for loop for element-wise addition\n",
        "for i in range(len(list1)):\n",
        "    result.append(list1[i] + list2[i])\n",
        "\n",
        "print(result)  # Output: [3, 6, 8]\n"
      ],
      "metadata": {
        "colab": {
          "base_uri": "https://localhost:8080/"
        },
        "id": "UBzqmLnFhyzw",
        "outputId": "d7c92568-b526-47d1-b26b-525fb503d624"
      },
      "execution_count": null,
      "outputs": [
        {
          "output_type": "stream",
          "name": "stdout",
          "text": [
            "[3, 6, 8]\n"
          ]
        }
      ]
    },
    {
      "cell_type": "code",
      "source": [
        "#alias(like a nickname)\n",
        "import numpy as np\n",
        "print(np.__version__)"
      ],
      "metadata": {
        "colab": {
          "base_uri": "https://localhost:8080/"
        },
        "id": "Y4lt7XZrjAWm",
        "outputId": "687ccc75-a8b8-4cc3-c2c8-0f4e499d032f"
      },
      "execution_count": null,
      "outputs": [
        {
          "output_type": "stream",
          "name": "stdout",
          "text": [
            "1.26.4\n"
          ]
        }
      ]
    },
    {
      "cell_type": "code",
      "source": [
        "a = np.array([1,2,3])\n",
        "print(a+a)"
      ],
      "metadata": {
        "colab": {
          "base_uri": "https://localhost:8080/"
        },
        "id": "nPOPPmOiiKd8",
        "outputId": "b5c8c987-2c5b-47ad-c43c-8ed5c3229764"
      },
      "execution_count": null,
      "outputs": [
        {
          "output_type": "stream",
          "name": "stdout",
          "text": [
            "[2 4 6]\n"
          ]
        }
      ]
    },
    {
      "cell_type": "code",
      "source": [
        "import time\n",
        "list1 = list(range(1000000))\n",
        "list2 = list(range(1000000))\n",
        "\n",
        "start = time.time()\n",
        "result = []\n",
        "for i in range(len(list1)):\n",
        "    result.append(list1[i] + list2[i])\n",
        "end = time.time()\n",
        "print(\"loop addition time:\", end - start)\n",
        "\n",
        "# Adding with NumPy\n",
        "array1 = np.array(list1)\n",
        "array2 = np.array(list2)\n",
        "\n",
        "start = time.time()\n",
        "result = array1 + array2\n",
        "end = time.time()\n",
        "print(\"loop addition time:\", end - start)\n",
        "\n",
        "\n"
      ],
      "metadata": {
        "colab": {
          "base_uri": "https://localhost:8080/"
        },
        "id": "lY8_KpTvj7ag",
        "outputId": "b439859e-e5f7-4872-aa33-0348bfb88842"
      },
      "execution_count": null,
      "outputs": [
        {
          "output_type": "stream",
          "name": "stdout",
          "text": [
            "loop addition time: 0.3145484924316406\n",
            "loop addition time: 0.0023033618927001953\n"
          ]
        }
      ]
    },
    {
      "cell_type": "code",
      "source": [
        "def print_array_details(a):\n",
        "  print(f\"Dimensions: {a.ndim}\\nshape: {a.shape}\\ndtype: {a.dtype}\")\n",
        "\n",
        "a = np.array([1,2,3,4,5,6,7,8])\n",
        "print(a)\n",
        "print_array_details(a)"
      ],
      "metadata": {
        "colab": {
          "base_uri": "https://localhost:8080/"
        },
        "id": "jB2YKhX9lRFX",
        "outputId": "de8cc614-c85f-4e46-b4bd-e10301dfa83e"
      },
      "execution_count": null,
      "outputs": [
        {
          "output_type": "stream",
          "name": "stdout",
          "text": [
            "[1 2 3 4 5 6 7 8]\n",
            "Dimensions: 1\n",
            "shape: (8,)\n",
            "dtype: int64\n"
          ]
        }
      ]
    },
    {
      "cell_type": "code",
      "source": [
        "a2 = a.reshape([2,4])\n",
        "print(a2)\n",
        "print(a2.shape)"
      ],
      "metadata": {
        "colab": {
          "base_uri": "https://localhost:8080/"
        },
        "id": "GT6P0_PfpI1a",
        "outputId": "77813940-cb41-48ee-a5da-201e19ad72ea"
      },
      "execution_count": null,
      "outputs": [
        {
          "output_type": "stream",
          "name": "stdout",
          "text": [
            "[[1 2 3 4]\n",
            " [5 6 7 8]]\n",
            "(2, 4)\n"
          ]
        }
      ]
    },
    {
      "cell_type": "code",
      "source": [
        "#Then a 3d array from our 1d array\n",
        "a = np.array([1,2,3,4,5,6,7,8])\n",
        "a3 = a.reshape([2,2,2])\n",
        "print(a3)"
      ],
      "metadata": {
        "colab": {
          "base_uri": "https://localhost:8080/"
        },
        "id": "Bi4L48pXmVTM",
        "outputId": "1ae090ae-ef80-49b9-e87c-bf7f3a288129"
      },
      "execution_count": null,
      "outputs": [
        {
          "output_type": "stream",
          "name": "stdout",
          "text": [
            "[[[1 2]\n",
            "  [3 4]]\n",
            "\n",
            " [[5 6]\n",
            "  [7 8]]]\n"
          ]
        }
      ]
    },
    {
      "cell_type": "code",
      "source": [
        "a = np.array([1,2,3,4,5,6,7,8,9, 10,11,12])\n",
        "a4 = a.reshape([2,3,2])\n",
        "print(a4)"
      ],
      "metadata": {
        "colab": {
          "base_uri": "https://localhost:8080/"
        },
        "id": "SD78esSFq8q-",
        "outputId": "3e215adc-c27b-49c6-c2ba-4ce10f7e23b6"
      },
      "execution_count": null,
      "outputs": [
        {
          "output_type": "stream",
          "name": "stdout",
          "text": [
            "[[[ 1  2]\n",
            "  [ 3  4]\n",
            "  [ 5  6]]\n",
            "\n",
            " [[ 7  8]\n",
            "  [ 9 10]\n",
            "  [11 12]]]\n"
          ]
        }
      ]
    },
    {
      "cell_type": "code",
      "source": [],
      "metadata": {
        "id": "fWpmPTzisquM"
      },
      "execution_count": null,
      "outputs": []
    },
    {
      "cell_type": "code",
      "source": [
        "zeros_array = np.zeros([2, 3])\n",
        "print(type(zeros_array))   # <class 'numpy.ndarray'>\n",
        "print(zeros_array.dtype)"
      ],
      "metadata": {
        "colab": {
          "base_uri": "https://localhost:8080/"
        },
        "id": "sZROTLcMtg2p",
        "outputId": "2b7296ab-7645-40f7-99f0-becd61da63ae"
      },
      "execution_count": null,
      "outputs": [
        {
          "output_type": "stream",
          "name": "stdout",
          "text": [
            "<class 'numpy.ndarray'>\n",
            "float64\n"
          ]
        }
      ]
    },
    {
      "cell_type": "code",
      "source": [
        "print(np.ones([3,3]))"
      ],
      "metadata": {
        "colab": {
          "base_uri": "https://localhost:8080/"
        },
        "id": "YYEK6RYYtkFT",
        "outputId": "d708f84f-7ec3-40e4-e9e7-9ee132163606"
      },
      "execution_count": null,
      "outputs": [
        {
          "output_type": "stream",
          "name": "stdout",
          "text": [
            "[[1. 1. 1.]\n",
            " [1. 1. 1.]\n",
            " [1. 1. 1.]]\n"
          ]
        }
      ]
    },
    {
      "cell_type": "code",
      "source": [
        "print(np.empty([3,3]))"
      ],
      "metadata": {
        "colab": {
          "base_uri": "https://localhost:8080/"
        },
        "id": "pOoNGpcGtw2A",
        "outputId": "71a326c5-ee97-4df6-f09d-dbbb6d6fb3fa"
      },
      "execution_count": null,
      "outputs": [
        {
          "output_type": "stream",
          "name": "stdout",
          "text": [
            "[[1. 1. 1.]\n",
            " [1. 1. 1.]\n",
            " [1. 1. 1.]]\n"
          ]
        }
      ]
    },
    {
      "cell_type": "code",
      "source": [
        "import numpy as np\n",
        "print(np.empty([3,3]))"
      ],
      "metadata": {
        "colab": {
          "base_uri": "https://localhost:8080/"
        },
        "id": "n8I0xE7Gt8gE",
        "outputId": "833816e7-671b-4137-f151-797b64082477"
      },
      "execution_count": null,
      "outputs": [
        {
          "output_type": "stream",
          "name": "stdout",
          "text": [
            "[[4.87796773e-310 0.00000000e+000 0.00000000e+000]\n",
            " [0.00000000e+000 0.00000000e+000 0.00000000e+000]\n",
            " [0.00000000e+000 0.00000000e+000 0.00000000e+000]]\n"
          ]
        }
      ]
    },
    {
      "cell_type": "code",
      "source": [
        "print(np.random.random((2,2)))\n",
        "print(np.linspace(2,11,5)) # five numbers range 2-10\n",
        "print(np.arange(2,10,2)) # 2 being the step size"
      ],
      "metadata": {
        "id": "uEo26mawvRQf",
        "outputId": "d1f72280-4b6c-4ee8-b5c5-2e5c7abb126f",
        "colab": {
          "base_uri": "https://localhost:8080/"
        }
      },
      "execution_count": null,
      "outputs": [
        {
          "output_type": "stream",
          "name": "stdout",
          "text": [
            "[[0.6093875  0.24693459]\n",
            " [0.9706154  0.38462575]]\n",
            "[ 2.    4.25  6.5   8.75 11.  ]\n",
            "[2 4 6 8]\n"
          ]
        }
      ]
    },
    {
      "cell_type": "code",
      "source": [
        "a = np.array((1,2,3,4,5,6,7,8))\n",
        "print(a[-2])\n",
        "print(a[3:7]) # a slice"
      ],
      "metadata": {
        "colab": {
          "base_uri": "https://localhost:8080/"
        },
        "id": "Azb1s-7xuKS4",
        "outputId": "cf235a6f-2e3e-426d-db91-dd5ebbcd80fb"
      },
      "execution_count": null,
      "outputs": [
        {
          "output_type": "stream",
          "name": "stdout",
          "text": [
            "7\n",
            "[4 5 6 7]\n"
          ]
        }
      ]
    },
    {
      "cell_type": "code",
      "source": [
        "print(a*2)\n",
        "print(a/2)"
      ],
      "metadata": {
        "id": "w_VP0Bq5wiMa",
        "outputId": "cb69cce2-0542-43bf-b2b4-965689dca400",
        "colab": {
          "base_uri": "https://localhost:8080/"
        }
      },
      "execution_count": null,
      "outputs": [
        {
          "output_type": "stream",
          "name": "stdout",
          "text": [
            "[ 2  4  6  8 10 12 14 16]\n",
            "[0.5 1.  1.5 2.  2.5 3.  3.5 4. ]\n"
          ]
        }
      ]
    }
  ]
}