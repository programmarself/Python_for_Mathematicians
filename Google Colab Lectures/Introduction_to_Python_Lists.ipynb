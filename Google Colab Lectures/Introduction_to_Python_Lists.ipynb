{
  "cells": [
    {
      "cell_type": "markdown",
      "source": [
        "\n",
        "\n",
        "> \"Programming can be very rewarding, and Everyone can do it well.\"\n",
        "\n"
      ],
      "metadata": {
        "id": "NY5dHNOQMv8Y"
      },
      "id": "NY5dHNOQMv8Y"
    },
    {
      "cell_type": "markdown",
      "id": "c551b6c3",
      "metadata": {
        "id": "c551b6c3"
      },
      "source": [
        "# Introduction to Python Lists\n",
        "\n",
        "This notebook introduces Python lists, covering creation, indexing, slicing, list methods, and more advanced list operations."
      ]
    },
    {
      "cell_type": "markdown",
      "id": "3a4155c6",
      "metadata": {
        "id": "3a4155c6"
      },
      "source": [
        "# 1. Introduction to Lists\n",
        "# 1.1 What is a List?\n",
        "A list is a collection of items in a particular order. Lists are **mutable** and can contain elements of different types."
      ]
    },
    {
      "cell_type": "code",
      "execution_count": null,
      "id": "8d24eb44",
      "metadata": {
        "colab": {
          "base_uri": "https://localhost:8080/"
        },
        "id": "8d24eb44",
        "outputId": "9225d865-2a66-4ebb-dddd-80708fe0a20e"
      },
      "outputs": [
        {
          "output_type": "execute_result",
          "data": {
            "text/plain": [
              "['ali', 5, 'bilai', 6]"
            ]
          },
          "metadata": {},
          "execution_count": 5
        }
      ],
      "source": [
        "gadgets = [\"laptop\",\"Mobile\",\"PC\"]\n",
        "abc_list = [\"ali\",5,\"bilai\",6]\n",
        "abc_list"
      ]
    },
    {
      "cell_type": "markdown",
      "id": "6c91f67e",
      "metadata": {
        "id": "6c91f67e"
      },
      "source": [
        "# 2. Creating Lists\n",
        "\n",
        "# 2.1 Empty List\n",
        "You can create an empty list using square brackets or the `list()` constructor."
      ]
    },
    {
      "cell_type": "code",
      "execution_count": null,
      "id": "9f9f2cd7",
      "metadata": {
        "colab": {
          "base_uri": "https://localhost:8080/"
        },
        "id": "9f9f2cd7",
        "outputId": "aad6b0e6-a997-4b6a-9019-3d428cfcc6fd"
      },
      "outputs": [
        {
          "output_type": "stream",
          "name": "stdout",
          "text": [
            "[] ['b', 'l', 'u', 'e']\n"
          ]
        }
      ],
      "source": [
        "empty_list = []\n",
        "empty_list_2 = list()\n",
        "print(empty_list,empty_list_2)"
      ]
    },
    {
      "cell_type": "markdown",
      "id": "df016396",
      "metadata": {
        "id": "df016396"
      },
      "source": [
        "# 2.2 Lists with Elements\n",
        "Lists can contain various types of elements, including integers, strings, and even other lists."
      ]
    },
    {
      "cell_type": "code",
      "source": [
        "fruits = [\"apple\",\"orange\",1,4,True, False,3.5]\n",
        "\n",
        "# fruits\n",
        "type(fruits)"
      ],
      "metadata": {
        "colab": {
          "base_uri": "https://localhost:8080/"
        },
        "id": "ueTr8lm1Ds7l",
        "outputId": "1cc03ce5-60d2-443e-ef22-b3e54c177fd1"
      },
      "id": "ueTr8lm1Ds7l",
      "execution_count": null,
      "outputs": [
        {
          "output_type": "execute_result",
          "data": {
            "text/plain": [
              "list"
            ]
          },
          "metadata": {},
          "execution_count": 18
        }
      ]
    },
    {
      "cell_type": "code",
      "execution_count": null,
      "id": "dcf06a1b",
      "metadata": {
        "id": "dcf06a1b"
      },
      "outputs": [],
      "source": []
    },
    {
      "cell_type": "markdown",
      "id": "dfd350ba",
      "metadata": {
        "id": "dfd350ba"
      },
      "source": [
        "# 3. Indexing and Accessing Elements\n",
        "\n",
        "# 3.1 Accessing Elements by Index\n",
        "Access list elements using their index, with indices starting from 0."
      ]
    },
    {
      "cell_type": "code",
      "execution_count": null,
      "id": "c5b3078e",
      "metadata": {
        "colab": {
          "base_uri": "https://localhost:8080/",
          "height": 158
        },
        "id": "c5b3078e",
        "outputId": "d0f04ce8-d6c1-447e-c5ec-1eeeeba252eb"
      },
      "outputs": [
        {
          "output_type": "error",
          "ename": "IndexError",
          "evalue": "list index out of range",
          "traceback": [
            "\u001b[0;31m---------------------------------------------------------------------------\u001b[0m",
            "\u001b[0;31mIndexError\u001b[0m                                Traceback (most recent call last)",
            "\u001b[0;32m<ipython-input-22-a91b818268cb>\u001b[0m in \u001b[0;36m<cell line: 2>\u001b[0;34m()\u001b[0m\n\u001b[1;32m      1\u001b[0m \u001b[0mgadgets\u001b[0m\u001b[0;34m=\u001b[0m \u001b[0;34m[\u001b[0m\u001b[0;34m\"computer\"\u001b[0m\u001b[0;34m,\u001b[0m\u001b[0;34m\"cpu\"\u001b[0m\u001b[0;34m,\u001b[0m\u001b[0;36m1\u001b[0m\u001b[0;34m,\u001b[0m\u001b[0;36m5\u001b[0m\u001b[0;34m,\u001b[0m\u001b[0;36m8\u001b[0m\u001b[0;34m]\u001b[0m\u001b[0;34m\u001b[0m\u001b[0;34m\u001b[0m\u001b[0m\n\u001b[0;32m----> 2\u001b[0;31m \u001b[0mgadgets\u001b[0m\u001b[0;34m[\u001b[0m\u001b[0;36m10\u001b[0m\u001b[0;34m]\u001b[0m\u001b[0;34m\u001b[0m\u001b[0;34m\u001b[0m\u001b[0m\n\u001b[0m",
            "\u001b[0;31mIndexError\u001b[0m: list index out of range"
          ]
        }
      ],
      "source": [
        "gadgets= [\"computer\",\"cpu\",1,5,8]\n",
        "gadgets[10]"
      ]
    },
    {
      "cell_type": "markdown",
      "source": [
        "# 3.2 Negative Indexing\n",
        "\n",
        "In Python, lists support negative indexing, which allows you to access elements from the end of the list."
      ],
      "metadata": {
        "id": "Xmu9rwNVEK2R"
      },
      "id": "Xmu9rwNVEK2R"
    },
    {
      "cell_type": "code",
      "source": [
        "gadgets = [\"computer\",\"cpu\",1,5,8]\n",
        "gadgets[-5]"
      ],
      "metadata": {
        "colab": {
          "base_uri": "https://localhost:8080/",
          "height": 35
        },
        "id": "tnoxpaDFETLE",
        "outputId": "adba43df-50d9-4792-b24d-f23c2ab53562"
      },
      "id": "tnoxpaDFETLE",
      "execution_count": null,
      "outputs": [
        {
          "output_type": "execute_result",
          "data": {
            "text/plain": [
              "'computer'"
            ],
            "application/vnd.google.colaboratory.intrinsic+json": {
              "type": "string"
            }
          },
          "metadata": {},
          "execution_count": 23
        }
      ]
    },
    {
      "cell_type": "markdown",
      "source": [
        "# 3.3 Iterating Through a List"
      ],
      "metadata": {
        "id": "f4ZrHTEoEbfV"
      },
      "id": "f4ZrHTEoEbfV"
    },
    {
      "cell_type": "code",
      "source": [
        "gadgets = [\"computer\",\"cpu\",1,5,8]\n",
        "for val in gadgets:\n",
        "  print(val,end=\",\")\n",
        "\n"
      ],
      "metadata": {
        "colab": {
          "base_uri": "https://localhost:8080/"
        },
        "id": "nn7WPMi-EdBG",
        "outputId": "cfec2be7-422d-40f8-932a-f2195fd39ef9"
      },
      "id": "nn7WPMi-EdBG",
      "execution_count": null,
      "outputs": [
        {
          "output_type": "stream",
          "name": "stdout",
          "text": [
            "computer,cpu,1,5,8,"
          ]
        }
      ]
    },
    {
      "cell_type": "markdown",
      "id": "c1225261",
      "metadata": {
        "id": "c1225261"
      },
      "source": [
        "# 4. Slicing Lists\n",
        "\n",
        "# 4.1 Basic Slicing Syntax\n",
        "You can slice a list using `list[start:end]` syntax. The slice includes the `start` index but excludes the `end` index."
      ]
    },
    {
      "cell_type": "code",
      "execution_count": null,
      "id": "e79c300b",
      "metadata": {
        "colab": {
          "base_uri": "https://localhost:8080/"
        },
        "id": "e79c300b",
        "outputId": "819d1dea-4f74-4b08-9cef-790e2f289d5e"
      },
      "outputs": [
        {
          "output_type": "execute_result",
          "data": {
            "text/plain": [
              "[15, 25, 30]"
            ]
          },
          "metadata": {},
          "execution_count": 27
        }
      ],
      "source": [
        "numbers = [5,15,25,30,50,60,70]\n",
        "numbers[1:4]"
      ]
    },
    {
      "cell_type": "markdown",
      "source": [
        "# 4.2 Step Values in Slicing\n",
        "Slicing allows you to access a subset of a list using a range of indices. Slicing syntax includes an optional step value, which controls the interval between elements in the slice.\n",
        "\n",
        "\n",
        "```\n",
        "list[start:end:step]\n",
        "\n",
        "```\n",
        "\n"
      ],
      "metadata": {
        "id": "LTAfmZ_hJC7r"
      },
      "id": "LTAfmZ_hJC7r"
    },
    {
      "cell_type": "code",
      "source": [
        "numbers[0:4:2]"
      ],
      "metadata": {
        "colab": {
          "base_uri": "https://localhost:8080/"
        },
        "id": "4e7Di_CvJJSw",
        "outputId": "09bf8f6d-f620-4daa-dde2-87834b8fa658"
      },
      "id": "4e7Di_CvJJSw",
      "execution_count": null,
      "outputs": [
        {
          "output_type": "execute_result",
          "data": {
            "text/plain": [
              "[5, 25]"
            ]
          },
          "metadata": {},
          "execution_count": 30
        }
      ]
    },
    {
      "cell_type": "markdown",
      "source": [
        "# 4.3 Reverse Slicing\n"
      ],
      "metadata": {
        "id": "nn8ejHBhJT9F"
      },
      "id": "nn8ejHBhJT9F"
    },
    {
      "cell_type": "code",
      "source": [
        "reverse_list = numbers[::-1]\n",
        "reverse_list"
      ],
      "metadata": {
        "colab": {
          "base_uri": "https://localhost:8080/"
        },
        "id": "leI46hE_JWse",
        "outputId": "e789db9e-5a39-4534-8a01-a7359e2441a6"
      },
      "id": "leI46hE_JWse",
      "execution_count": null,
      "outputs": [
        {
          "output_type": "execute_result",
          "data": {
            "text/plain": [
              "[5, 15, 25, 30, 50, 60]"
            ]
          },
          "metadata": {},
          "execution_count": 35
        }
      ]
    },
    {
      "cell_type": "markdown",
      "source": [
        "# 4.4 Modifying Sliced Sections"
      ],
      "metadata": {
        "id": "qx5n3MOuJZ_E"
      },
      "id": "qx5n3MOuJZ_E"
    },
    {
      "cell_type": "code",
      "source": [
        "num = [2,3,5,7,8,9,7,5,7]\n",
        "num[2:5]=[20,5]\n",
        "num"
      ],
      "metadata": {
        "colab": {
          "base_uri": "https://localhost:8080/"
        },
        "id": "Oj71ToiOJdNF",
        "outputId": "eb86fca6-6236-473d-b090-a19fb49cff09"
      },
      "id": "Oj71ToiOJdNF",
      "execution_count": null,
      "outputs": [
        {
          "output_type": "execute_result",
          "data": {
            "text/plain": [
              "[2, 3, 20, 5, 9, 7, 5, 7]"
            ]
          },
          "metadata": {},
          "execution_count": 45
        }
      ]
    },
    {
      "cell_type": "markdown",
      "id": "c783d93e",
      "metadata": {
        "id": "c783d93e"
      },
      "source": [
        "# 5. List Operations\n",
        "\n",
        "# 5.1 Concatenation\n",
        "Lists can be combined using the `+` operator."
      ]
    },
    {
      "cell_type": "code",
      "execution_count": null,
      "id": "d08f1f3f",
      "metadata": {
        "colab": {
          "base_uri": "https://localhost:8080/"
        },
        "id": "d08f1f3f",
        "outputId": "5fd522fc-4c0c-407b-d2b4-124d5fc99554"
      },
      "outputs": [
        {
          "output_type": "execute_result",
          "data": {
            "text/plain": [
              "[1, 5, 7, 7, 8, 9]"
            ]
          },
          "metadata": {},
          "execution_count": 59
        }
      ],
      "source": [
        "list_1 = [1,5,7]\n",
        "list_2 =[7,8,9]\n",
        "# combined_list =  list_1[0] + list_2[0]\n",
        "list_1.extend(list_2)\n",
        "list_1"
      ]
    },
    {
      "cell_type": "markdown",
      "source": [
        "# 5.2 Repetition (*)\n",
        "The * operator allows you to repeat the elements in a list a specified number of times. This operation returns a new list with the original list’s contents repeated."
      ],
      "metadata": {
        "id": "_2imNp3tMAJ0"
      },
      "id": "_2imNp3tMAJ0"
    },
    {
      "cell_type": "code",
      "source": [
        "names = [\"ali\",\"bilal\",\"subhan\"]\n",
        "names_3x = names * 3\n",
        "names_3x"
      ],
      "metadata": {
        "colab": {
          "base_uri": "https://localhost:8080/"
        },
        "id": "mOzr4COEMINO",
        "outputId": "df7a7400-5af9-44a0-e03c-bb35d4ddba42"
      },
      "id": "mOzr4COEMINO",
      "execution_count": null,
      "outputs": [
        {
          "output_type": "execute_result",
          "data": {
            "text/plain": [
              "['ali', 'bilal', 'subhan', 'ali', 'bilal', 'subhan', 'ali', 'bilal', 'subhan']"
            ]
          },
          "metadata": {},
          "execution_count": 47
        }
      ]
    },
    {
      "cell_type": "markdown",
      "source": [
        "# 5.3 Membership Testing (in, not in)"
      ],
      "metadata": {
        "id": "Q1UtsBWPMOe8"
      },
      "id": "Q1UtsBWPMOe8"
    },
    {
      "cell_type": "code",
      "source": [
        "animal = [\"cat\",\"dog\",\"horse\"]\n",
        "print(\"c\" in animal)"
      ],
      "metadata": {
        "colab": {
          "base_uri": "https://localhost:8080/"
        },
        "id": "-iyTCVGxMQGJ",
        "outputId": "445caaed-6544-4fb7-a4f6-f3b92768d01e"
      },
      "id": "-iyTCVGxMQGJ",
      "execution_count": null,
      "outputs": [
        {
          "output_type": "stream",
          "name": "stdout",
          "text": [
            "False\n"
          ]
        }
      ]
    },
    {
      "cell_type": "markdown",
      "source": [
        "# 5.4 Finding Length with len()"
      ],
      "metadata": {
        "id": "zbjRDIwsMUkw"
      },
      "id": "zbjRDIwsMUkw"
    },
    {
      "cell_type": "code",
      "source": [
        "len(animal)"
      ],
      "metadata": {
        "colab": {
          "base_uri": "https://localhost:8080/"
        },
        "id": "bMZpqlUeMT2o",
        "outputId": "729ff02b-4ef4-4bd3-e7d1-b43c3db7ffc8"
      },
      "id": "bMZpqlUeMT2o",
      "execution_count": null,
      "outputs": [
        {
          "output_type": "execute_result",
          "data": {
            "text/plain": [
              "3"
            ]
          },
          "metadata": {},
          "execution_count": 53
        }
      ]
    },
    {
      "cell_type": "markdown",
      "id": "6f2536b7",
      "metadata": {
        "id": "6f2536b7"
      },
      "source": [
        "# 6. List Methods\n",
        "\n"
      ]
    },
    {
      "cell_type": "markdown",
      "source": [
        "# List Copying"
      ],
      "metadata": {
        "id": "lsLfV4qPE5IF"
      },
      "id": "lsLfV4qPE5IF"
    },
    {
      "cell_type": "code",
      "source": [
        "animal_list = animal.copy()\n",
        "animal_list"
      ],
      "metadata": {
        "colab": {
          "base_uri": "https://localhost:8080/"
        },
        "id": "bbCfnjSLE5tn",
        "outputId": "25f7fbfe-6de6-48c9-a198-92d00490e5ce"
      },
      "id": "bbCfnjSLE5tn",
      "execution_count": null,
      "outputs": [
        {
          "output_type": "execute_result",
          "data": {
            "text/plain": [
              "['cat', 'dog', 'horse', 'Lion', 'cow', 'Goat', 'cow', 'Goat']"
            ]
          },
          "metadata": {},
          "execution_count": 61
        }
      ]
    },
    {
      "cell_type": "markdown",
      "source": [
        "# 6.1 Adding Elements\n",
        "The `append()` method adds an item to the end of the list."
      ],
      "metadata": {
        "id": "rWT5PraDE3aC"
      },
      "id": "rWT5PraDE3aC"
    },
    {
      "cell_type": "code",
      "execution_count": null,
      "id": "82a4a959",
      "metadata": {
        "colab": {
          "base_uri": "https://localhost:8080/"
        },
        "id": "82a4a959",
        "outputId": "4ad3c041-0d72-4bec-e8a1-7c98b42ba51f"
      },
      "outputs": [
        {
          "output_type": "execute_result",
          "data": {
            "text/plain": [
              "['cat', 'dog', 'horse', 'Lion']"
            ]
          },
          "metadata": {},
          "execution_count": 55
        }
      ],
      "source": [
        "animal.append(\"Lion\")\n",
        "animal"
      ]
    },
    {
      "cell_type": "markdown",
      "source": [
        "The `extend()` method adds all elements of an iterable (e.g., another list, tuple, or string) to the end of the current list."
      ],
      "metadata": {
        "id": "85FAWKweMskR"
      },
      "id": "85FAWKweMskR"
    },
    {
      "cell_type": "code",
      "source": [
        "animal = [\"a\",\"c\",\"c\"]\n",
        "abc_list =[\"cow\",\"Goat\"]\n",
        "animal.extend(abc_list)\n",
        "animal"
      ],
      "metadata": {
        "colab": {
          "base_uri": "https://localhost:8080/"
        },
        "id": "at2ipNOjMxhf",
        "outputId": "89dfb7f2-2a05-40ae-802a-b13a739fa509"
      },
      "id": "at2ipNOjMxhf",
      "execution_count": null,
      "outputs": [
        {
          "output_type": "execute_result",
          "data": {
            "text/plain": [
              "['a', 'c', 'c', 'cow', 'Goat']"
            ]
          },
          "metadata": {},
          "execution_count": 62
        }
      ]
    },
    {
      "cell_type": "markdown",
      "source": [
        "The `insert() `method adds a single element at a specified index in the list, shifting the existing elements to the right. Unlike `append()`, which adds an element to the end, `insert()` allows you to place the element at any position within the list."
      ],
      "metadata": {
        "id": "5ZTazpyxNvzL"
      },
      "id": "5ZTazpyxNvzL"
    },
    {
      "cell_type": "code",
      "source": [
        "animal.insert(2,\"d\")\n",
        "animal"
      ],
      "metadata": {
        "colab": {
          "base_uri": "https://localhost:8080/",
          "height": 158
        },
        "id": "889NTSI7Nz3O",
        "outputId": "72463ddd-52a6-4ab8-fe48-aa0f7482f085"
      },
      "id": "889NTSI7Nz3O",
      "execution_count": null,
      "outputs": [
        {
          "output_type": "error",
          "ename": "TypeError",
          "evalue": "insert expected 2 arguments, got 1",
          "traceback": [
            "\u001b[0;31m---------------------------------------------------------------------------\u001b[0m",
            "\u001b[0;31mTypeError\u001b[0m                                 Traceback (most recent call last)",
            "\u001b[0;32m<ipython-input-66-23368b16faaa>\u001b[0m in \u001b[0;36m<cell line: 1>\u001b[0;34m()\u001b[0m\n\u001b[0;32m----> 1\u001b[0;31m \u001b[0manimal\u001b[0m\u001b[0;34m.\u001b[0m\u001b[0minsert\u001b[0m\u001b[0;34m(\u001b[0m\u001b[0;34m\"d\"\u001b[0m\u001b[0;34m)\u001b[0m\u001b[0;34m\u001b[0m\u001b[0;34m\u001b[0m\u001b[0m\n\u001b[0m\u001b[1;32m      2\u001b[0m \u001b[0manimal\u001b[0m\u001b[0;34m\u001b[0m\u001b[0;34m\u001b[0m\u001b[0m\n",
            "\u001b[0;31mTypeError\u001b[0m: insert expected 2 arguments, got 1"
          ]
        }
      ]
    },
    {
      "cell_type": "markdown",
      "id": "a25b4963",
      "metadata": {
        "id": "a25b4963"
      },
      "source": [
        "### 6.2 Removing Elements\n",
        "The `pop()` method removes the last element from the list or the element at a specified index."
      ]
    },
    {
      "cell_type": "code",
      "execution_count": null,
      "id": "34fda5c7",
      "metadata": {
        "colab": {
          "base_uri": "https://localhost:8080/"
        },
        "id": "34fda5c7",
        "outputId": "7a0b2e9f-c365-45f1-edee-ce151c2e3aa4"
      },
      "outputs": [
        {
          "output_type": "execute_result",
          "data": {
            "text/plain": [
              "['a', 'c', 'd', 'cow']"
            ]
          },
          "metadata": {},
          "execution_count": 65
        }
      ],
      "source": [
        "animal.pop(2)\n",
        "animal"
      ]
    },
    {
      "cell_type": "markdown",
      "source": [
        "The `remove()` method deletes the first occurrence of a specified element from the list. If the element is not found, it raises a ValueError."
      ],
      "metadata": {
        "id": "Y2RV3_4_ODgZ"
      },
      "id": "Y2RV3_4_ODgZ"
    },
    {
      "cell_type": "code",
      "source": [
        "letters = [\"a\",\"b\",\"c\"]\n",
        "letters[0:2] =[]\n",
        "letters"
      ],
      "metadata": {
        "colab": {
          "base_uri": "https://localhost:8080/"
        },
        "id": "tpLnY5opOB86",
        "outputId": "b5e72f5f-5693-41db-f6e2-317b0a0038f0"
      },
      "id": "tpLnY5opOB86",
      "execution_count": null,
      "outputs": [
        {
          "output_type": "execute_result",
          "data": {
            "text/plain": [
              "['c']"
            ]
          },
          "metadata": {},
          "execution_count": 69
        }
      ]
    },
    {
      "cell_type": "markdown",
      "source": [
        "The `clear()` method removes all elements from the list, leaving it empty."
      ],
      "metadata": {
        "id": "Yu7iX2SJOGmB"
      },
      "id": "Yu7iX2SJOGmB"
    },
    {
      "cell_type": "code",
      "source": [
        "fruits = [\"apple\",\"ornage\",\"green\"]\n",
        "fruits.clear()\n",
        "fruits\n"
      ],
      "metadata": {
        "colab": {
          "base_uri": "https://localhost:8080/"
        },
        "id": "qIwiNmteOG46",
        "outputId": "f6a98284-8add-4207-c928-e6ba9c1b571b"
      },
      "id": "qIwiNmteOG46",
      "execution_count": null,
      "outputs": [
        {
          "output_type": "execute_result",
          "data": {
            "text/plain": [
              "[]"
            ]
          },
          "metadata": {},
          "execution_count": 70
        }
      ]
    },
    {
      "cell_type": "markdown",
      "source": [
        "# 6.4 Sorting and Reversing"
      ],
      "metadata": {
        "id": "wVaX7cGaOr0k"
      },
      "id": "wVaX7cGaOr0k"
    },
    {
      "cell_type": "markdown",
      "source": [
        "The `sort()` method sorts the elements of a list in place, meaning it modifies the original list itself."
      ],
      "metadata": {
        "id": "AQfhZijFO4aZ"
      },
      "id": "AQfhZijFO4aZ"
    },
    {
      "cell_type": "code",
      "source": [
        "letters= [5,8,10,100,50,50,54,41,20,18]\n",
        "abc = letters.sort(reverse=True)\n",
        "letters\n"
      ],
      "metadata": {
        "colab": {
          "base_uri": "https://localhost:8080/"
        },
        "id": "q6pkcKx6O-dT",
        "outputId": "bead8849-d700-45d8-fb95-3c2c48a7eadc"
      },
      "id": "q6pkcKx6O-dT",
      "execution_count": null,
      "outputs": [
        {
          "output_type": "execute_result",
          "data": {
            "text/plain": [
              "[100, 54, 50, 50, 41, 20, 18, 10, 8, 5]"
            ]
          },
          "metadata": {},
          "execution_count": 80
        }
      ]
    },
    {
      "cell_type": "markdown",
      "source": [
        "The `sorted()` function returns a new sorted list from an iterable, leaving the original iterable (e.g., list) unchanged."
      ],
      "metadata": {
        "id": "ujFLJb_NPHus"
      },
      "id": "ujFLJb_NPHus"
    },
    {
      "cell_type": "code",
      "source": [
        "letters_1= [5,8,10,100,50,50,54,41,20,18]\n",
        "letters_2 =sorted(letters_1)\n",
        "letters_1"
      ],
      "metadata": {
        "colab": {
          "base_uri": "https://localhost:8080/"
        },
        "id": "Vxsm9NOVPJps",
        "outputId": "8d0bbff8-3945-4fd1-f381-9b5ef170aac6"
      },
      "id": "Vxsm9NOVPJps",
      "execution_count": null,
      "outputs": [
        {
          "output_type": "execute_result",
          "data": {
            "text/plain": [
              "[5, 8, 10, 100, 50, 50, 54, 41, 20, 18]"
            ]
          },
          "metadata": {},
          "execution_count": 77
        }
      ]
    },
    {
      "cell_type": "markdown",
      "source": [
        "The `reverse()` method reverses the elements of a list in place without sorting them."
      ],
      "metadata": {
        "id": "238Nmgl3PO1D"
      },
      "id": "238Nmgl3PO1D"
    },
    {
      "cell_type": "code",
      "source": [
        "letters_1= [5,8,10,100,50,50,54,41,20,18]\n",
        "letters_1.reverse()\n",
        "letters_1.sort()\n",
        "letters_1"
      ],
      "metadata": {
        "colab": {
          "base_uri": "https://localhost:8080/"
        },
        "id": "_zEXxQgqPQYx",
        "outputId": "d007869a-e48c-474d-f664-428202b70cce"
      },
      "id": "_zEXxQgqPQYx",
      "execution_count": null,
      "outputs": [
        {
          "output_type": "execute_result",
          "data": {
            "text/plain": [
              "[5, 8, 10, 18, 20, 41, 50, 50, 54, 100]"
            ]
          },
          "metadata": {},
          "execution_count": 83
        }
      ]
    },
    {
      "cell_type": "markdown",
      "id": "f15b2efc",
      "metadata": {
        "id": "f15b2efc"
      },
      "source": [
        "# 7. Advanced List Operations\n"
      ]
    },
    {
      "cell_type": "markdown",
      "source": [
        "# 7.1 List Comprehensions\n",
        "\n",
        "\n",
        "List comprehension is a concise way to create lists by applying an expression to each element in a sequence.\n",
        "```\n",
        "new_list = [expression for item in iterable]\n",
        "```\n"
      ],
      "metadata": {
        "id": "mgVjR4fmUr1H"
      },
      "id": "mgVjR4fmUr1H"
    },
    {
      "cell_type": "code",
      "execution_count": null,
      "id": "d3fcf52d",
      "metadata": {
        "id": "d3fcf52d",
        "colab": {
          "base_uri": "https://localhost:8080/"
        },
        "outputId": "f5df9ee5-c71c-465b-bc94-d55df17a1f85"
      },
      "outputs": [
        {
          "output_type": "execute_result",
          "data": {
            "text/plain": [
              "[4, 9, 16, 25]"
            ]
          },
          "metadata": {},
          "execution_count": 20
        }
      ],
      "source": [
        "# numbers= [1,2,3]\n",
        "# squares = [x**2 for x in range(1,5)]\n",
        "# squares\n",
        "L=[2,3,4,5,6]\n",
        "list_sq=[x**2 for x in L if 2<= x <=5]\n",
        "list_sq"
      ]
    },
    {
      "cell_type": "markdown",
      "source": [
        "# 7.2 Nesting Lists (Multidimensional Lists)\n"
      ],
      "metadata": {
        "id": "BKaVZFBuUaja"
      },
      "id": "BKaVZFBuUaja"
    },
    {
      "cell_type": "code",
      "source": [
        "\n",
        "matrix = [[1,4,5],[3,4,5],[1,7,8],[9,4,5]]\n",
        "\n",
        "\n",
        "matrix[1][1]"
      ],
      "metadata": {
        "id": "mzDOrw7MUciJ",
        "colab": {
          "base_uri": "https://localhost:8080/"
        },
        "outputId": "b1419686-8ee8-401f-a651-42e863ec5aa0"
      },
      "id": "mzDOrw7MUciJ",
      "execution_count": null,
      "outputs": [
        {
          "output_type": "execute_result",
          "data": {
            "text/plain": [
              "4"
            ]
          },
          "metadata": {},
          "execution_count": 8
        }
      ]
    },
    {
      "cell_type": "markdown",
      "source": [
        "# 7.3 List Unpacking"
      ],
      "metadata": {
        "id": "EH5KugmpU2HA"
      },
      "id": "EH5KugmpU2HA"
    },
    {
      "cell_type": "code",
      "source": [
        "fruits = [\"apple\",\"banna\",\"orange\"]\n",
        "a,b,c = fruits\n",
        "print(a)\n",
        "print(b)\n",
        "print(c)"
      ],
      "metadata": {
        "id": "Xw93leAHVPbs",
        "colab": {
          "base_uri": "https://localhost:8080/"
        },
        "outputId": "caf033e2-5c33-4cb8-f0f0-70a8e9ca8a51"
      },
      "id": "Xw93leAHVPbs",
      "execution_count": null,
      "outputs": [
        {
          "output_type": "stream",
          "name": "stdout",
          "text": [
            "apple\n",
            "banna\n",
            "orange\n"
          ]
        }
      ]
    },
    {
      "cell_type": "markdown",
      "source": [
        "# 7.4 Enumerate for Indexed Iteration\n",
        "The `enumerate()` function allows you to iterate over a list while also keeping track of each element’s index."
      ],
      "metadata": {
        "id": "zUYZrAXiVcwb"
      },
      "id": "zUYZrAXiVcwb"
    },
    {
      "cell_type": "code",
      "source": [
        "gadgets= [\"PC\",\"laptop\",\"Mobile\"]\n",
        "\n",
        "# for index,name in enumerate(gadgets):\n",
        "print(gadgets.index(\"laptop\"))\n"
      ],
      "metadata": {
        "id": "3bHqY_zcVhMM",
        "colab": {
          "base_uri": "https://localhost:8080/"
        },
        "outputId": "53d40b70-9c76-4064-aa6e-1b5927741914"
      },
      "id": "3bHqY_zcVhMM",
      "execution_count": null,
      "outputs": [
        {
          "output_type": "stream",
          "name": "stdout",
          "text": [
            "1\n"
          ]
        }
      ]
    }
  ],
  "metadata": {
    "colab": {
      "provenance": [],
      "gpuType": "T4"
    },
    "language_info": {
      "name": "python"
    },
    "kernelspec": {
      "name": "python3",
      "display_name": "Python 3"
    },
    "accelerator": "GPU"
  },
  "nbformat": 4,
  "nbformat_minor": 5
}