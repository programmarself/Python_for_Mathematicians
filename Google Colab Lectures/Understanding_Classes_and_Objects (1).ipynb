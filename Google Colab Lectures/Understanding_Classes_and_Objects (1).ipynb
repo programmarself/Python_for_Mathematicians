{
  "nbformat": 4,
  "nbformat_minor": 0,
  "metadata": {
    "colab": {
      "provenance": []
    },
    "kernelspec": {
      "name": "python3",
      "display_name": "Python 3"
    },
    "language_info": {
      "name": "python"
    }
  },
  "cells": [
    {
      "cell_type": "markdown",
      "source": [
        "# Classes and Objects"
      ],
      "metadata": {
        "id": "HVwdRAg9Oh22"
      }
    },
    {
      "cell_type": "markdown",
      "source": [
        "1. **Attributes and Methods (Instance Variables and Methods)**\n",
        "* **Attributes** (also known as instance variables) store the state or data associated with an object. Each object of a class can have its own values for these attributes.\n",
        "\n",
        "* **Methods** define the behavior of an object. Methods are functions defined within a class that operate on the object's attributes."
      ],
      "metadata": {
        "id": "W02yb6ulRIoM"
      }
    },
    {
      "cell_type": "code",
      "execution_count": null,
      "metadata": {
        "id": "zFPApmW3OdYX"
      },
      "outputs": [],
      "source": [
        "class Dog:\n",
        "    # Constructor to initialize attributes\n",
        "    def __init__(self, name, breed, age):\n",
        "        self.name = name  # Attribute (instance variable)\n",
        "        self.breed = breed  # Attribute (instance variable)\n",
        "        self.age = age  # Attribute (instance variable)\n",
        "\n",
        "    # Method to display dog's details\n",
        "    def display_info(self):\n",
        "        print(f\"{self.name} is a {self.age}-year-old {self.breed}.\")\n",
        "\n",
        "# Creating an object of the Dog class\n",
        "dog1 = Dog(\"Buddy\", \"Golden Retriever\", 3)\n",
        "dog1.display_info()  # Output: Buddy is a 3-year-old Golden Retriever.\n"
      ]
    },
    {
      "cell_type": "markdown",
      "source": [
        "## Explanation:\n",
        "\n",
        "* **Attributes**: name, breed, and age store the dog's details.\n",
        "* **Method** (display_info): Outputs the dog's details by accessing its attributes."
      ],
      "metadata": {
        "id": "Bf_vU7VrRYeI"
      }
    },
    {
      "cell_type": "markdown",
      "source": [
        "#2. **__init__ Method (Constructor)**\n",
        "### The __init__ method is a special method in Python, known as the constructor. It is automatically called when an object is created and is used to initialize the object's attributes."
      ],
      "metadata": {
        "id": "HYGxF5b1Rfa0"
      }
    },
    {
      "cell_type": "code",
      "source": [
        "def __init__(self, parameters):\n",
        "    # Initialization code (attributes)\n"
      ],
      "metadata": {
        "id": "BPn-nBzKRc5J"
      },
      "execution_count": null,
      "outputs": []
    },
    {
      "cell_type": "code",
      "source": [
        "class Car:\n",
        "    # Constructor to initialize the car's brand, model, and year\n",
        "    def __init__(self, brand, model, year):\n",
        "        self.brand = brand\n",
        "        self.model = model\n",
        "        self.year = year\n",
        "\n",
        "# Creating objects of the Car class\n",
        "car1 = Car(\"Toyota\", \"Camry\", 2022)\n",
        "car2 = Car(\"Honda\", \"Accord\", 2021)\n",
        "\n",
        "print(f\"Car 1: {car1.brand} {car1.model}, Year: {car1.year}\")\n",
        "# Output: Car 1: Toyota Camry, Year: 2022\n",
        "\n",
        "print(f\"Car 2: {car2.brand} {car2.model}, Year: {car2.year}\")\n",
        "# Output: Car 2: Honda Accord, Year: 2021\n"
      ],
      "metadata": {
        "id": "Jx4mUY8GRo-M"
      },
      "execution_count": null,
      "outputs": []
    },
    {
      "cell_type": "markdown",
      "source": [
        "# Explanation:\n",
        "\n",
        "* The __init__ method initializes the values for brand, model, and year when objects car1 and car2 are created."
      ],
      "metadata": {
        "id": "v4oxsF1VRuVA"
      }
    },
    {
      "cell_type": "markdown",
      "source": [
        "#3. Accessing Attributes and Methods\n",
        "### Once an object is created, you can access its attributes and methods using dot notation: object.attribute or object.method()."
      ],
      "metadata": {
        "id": "VjpVJ7MgRzsv"
      }
    },
    {
      "cell_type": "code",
      "source": [
        "class Student:\n",
        "    def __init__(self, name, age, grade):\n",
        "        self.name = name\n",
        "        self.age = age\n",
        "        self.grade = grade\n",
        "\n",
        "    # Method to display student information\n",
        "    def display_info(self):\n",
        "        print(f\"Student Name: {self.name}, Age: {self.age}, Grade: {self.grade}\")\n",
        "\n",
        "# Creating objects of the Student class\n",
        "student1 = Student(\"Alice\", 20, \"A\")\n",
        "student2 = Student(\"Bob\", 22, \"B\")\n",
        "\n",
        "# Accessing attributes\n",
        "print(f\"{student1.name} is {student1.age} years old.\")\n",
        "# Output: Alice is 20 years old.\n",
        "\n",
        "# Accessing methods\n",
        "student1.display_info()\n",
        "# Output: Student Name: Alice, Age: 20, Grade: A\n",
        "\n",
        "student2.display_info()\n",
        "# Output: Student Name: Bob, Age: 22, Grade: B\n"
      ],
      "metadata": {
        "id": "AAey8KQbRwUE",
        "colab": {
          "base_uri": "https://localhost:8080/"
        },
        "outputId": "1ed2c9d5-6220-47db-8f5c-8afc4e9ccd18"
      },
      "execution_count": null,
      "outputs": [
        {
          "output_type": "stream",
          "name": "stdout",
          "text": [
            "Alice is 20 years old.\n",
            "Student Name: Alice, Age: 20, Grade: A\n",
            "Student Name: Bob, Age: 22, Grade: B\n"
          ]
        }
      ]
    },
    {
      "cell_type": "markdown",
      "source": [
        "## Explanation:\n",
        "\n",
        "* Attributes (name, age, grade) are accessed using dot notation, e.g., student1.name.\n",
        "* Methods (display_info()) are called using student1.display_info()."
      ],
      "metadata": {
        "id": "LeIQkIWTR-gc"
      }
    },
    {
      "cell_type": "markdown",
      "source": [
        "# 4. self Parameter\n",
        "* The self parameter refers to the instance of the class (i.e., the object itself). It is automatically passed to instance methods and allows access to the object's attributes and other methods.\n",
        "\n",
        "* Note: You do not need to pass the self argument explicitly when calling methods; Python does this for you."
      ],
      "metadata": {
        "id": "4XKu5yyySDYF"
      }
    },
    {
      "cell_type": "code",
      "source": [
        "class Rectangle:\n",
        "    def __init__(self, width, height):\n",
        "        self.width = width\n",
        "        self.height = height\n",
        "\n",
        "    # Method to calculate the area of the rectangle\n",
        "    def calculate_area(self):\n",
        "        return self.width * self.height\n",
        "\n",
        "# Creating an object of the Rectangle class\n",
        "rect1 = Rectangle(5, 10)\n",
        "rect2 = Rectangle(4, 1)\n",
        "\n",
        "\n",
        "# Accessing the calculate_area method\n",
        "area = rect1.calculate_area()\n",
        "print(f\"Area of the rectangle: {area}\")\n",
        "# Output: Area of the rectangle: 50\n"
      ],
      "metadata": {
        "id": "vvqNZz3cR6Pw"
      },
      "execution_count": null,
      "outputs": []
    },
    {
      "cell_type": "markdown",
      "source": [
        "## Explanation:\n",
        "\n",
        "* The self parameter allows the method calculate_area to access the attributes width and height of the object rect1."
      ],
      "metadata": {
        "id": "KkMFZ6x_SP0X"
      }
    },
    {
      "cell_type": "markdown",
      "source": [
        "# Defining a Class with Attributes and Methods, Creating Multiple Objects\n",
        "## Task:\n",
        "\n",
        "1. Create a class called Book.\n",
        "2. The class should have attributes: title, author, and pages.\n",
        "3. Define a method called book_info() to display the book's details.\n",
        "4. Create three objects of the Book class and display their details using the book_info() method."
      ],
      "metadata": {
        "id": "cqaHaJ1RSWDy"
      }
    },
    {
      "cell_type": "code",
      "source": [
        "class Book:\n",
        "    # Constructor to initialize the book's attributes\n",
        "    def __init__(self, title, author, pages):\n",
        "        self.title = title\n",
        "        self.author = author\n",
        "        self.pages = pages\n",
        "\n",
        "    # Method to display book details\n",
        "    def book_info(self):\n",
        "        print(f\"'{self.title}' by {self.author}, {self.pages} pages.\")\n",
        "\n",
        "# Creating multiple objects of the Book class\n",
        "book1 = Book(\"The Great Gatsby\", \"F. Scott Fitzgerald\", 218)\n",
        "book2 = Book(\"To Kill a Mockingbird\", \"Harper Lee\", 324)\n",
        "book3 = Book(\"1984\", \"George Orwell\", 328)\n",
        "\n",
        "# Displaying details of the books\n",
        "book1.book_info()\n",
        "# Output: 'The Great Gatsby' by F. Scott Fitzgerald, 218 pages.\n",
        "\n",
        "book2.book_info()\n",
        "# Output: 'To Kill a Mockingbird' by Harper Lee, 324 pages.\n",
        "\n",
        "book3.book_info()\n",
        "# Output: '1984' by George Orwell, 328 pages.\n"
      ],
      "metadata": {
        "id": "G3dsRVbWSR3D",
        "colab": {
          "base_uri": "https://localhost:8080/"
        },
        "outputId": "d87a8fcd-cf72-4c87-9795-c083a5ab0065"
      },
      "execution_count": null,
      "outputs": [
        {
          "output_type": "stream",
          "name": "stdout",
          "text": [
            "'The Great Gatsby' by F. Scott Fitzgerald, 218 pages.\n",
            "'To Kill a Mockingbird' by Harper Lee, 324 pages.\n",
            "'1984' by George Orwell, 328 pages.\n"
          ]
        }
      ]
    },
    {
      "cell_type": "markdown",
      "source": [
        "## Explanation:\n",
        "\n",
        "* We define a class Book with attributes: title, author, and pages.\n",
        "* We implement a method book_info to display the book's details.\n",
        "* Multiple objects are created to represent different books, and we call book_info for each object.\n"
      ],
      "metadata": {
        "id": "7xO_GIOXSgxS"
      }
    }
  ]
}