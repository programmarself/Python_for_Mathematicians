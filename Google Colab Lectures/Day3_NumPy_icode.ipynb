{
  "cells": [
    {
      "cell_type": "code",
      "execution_count": null,
      "metadata": {
        "id": "sfkbOCykRkpj",
        "colab": {
          "base_uri": "https://localhost:8080/"
        },
        "outputId": "f3876dfb-c163-46b1-92a4-2c7351b0dc8c"
      },
      "outputs": [
        {
          "output_type": "stream",
          "name": "stdout",
          "text": [
            "[1 2 3 4]\n"
          ]
        }
      ],
      "source": [
        "import numpy as np\n",
        "a = np.array([1,2,3,4])\n",
        "print(a)"
      ]
    },
    {
      "cell_type": "code",
      "execution_count": null,
      "metadata": {
        "id": "n2fGQO-nRkpj",
        "colab": {
          "base_uri": "https://localhost:8080/"
        },
        "outputId": "7e936627-13b9-4bdc-b63d-d76d7f672127"
      },
      "outputs": [
        {
          "output_type": "execute_result",
          "data": {
            "text/plain": [
              "array([3, 4, 5, 6])"
            ]
          },
          "metadata": {},
          "execution_count": 2
        }
      ],
      "source": [
        "a + 2"
      ]
    },
    {
      "cell_type": "code",
      "execution_count": null,
      "metadata": {
        "id": "XTvNulLFRkpj",
        "colab": {
          "base_uri": "https://localhost:8080/"
        },
        "outputId": "dcca1dbc-4faa-4a89-ac7c-b5ea71692858"
      },
      "outputs": [
        {
          "output_type": "execute_result",
          "data": {
            "text/plain": [
              "array([-1,  0,  1,  2])"
            ]
          },
          "metadata": {},
          "execution_count": 3
        }
      ],
      "source": [
        "a - 2"
      ]
    },
    {
      "cell_type": "code",
      "execution_count": null,
      "metadata": {
        "id": "uflFLfjMRkpk",
        "colab": {
          "base_uri": "https://localhost:8080/"
        },
        "outputId": "765de1a6-c334-41f8-bb50-fe80d6ce13d2"
      },
      "outputs": [
        {
          "output_type": "execute_result",
          "data": {
            "text/plain": [
              "array([2, 4, 6, 8])"
            ]
          },
          "metadata": {},
          "execution_count": 4
        }
      ],
      "source": [
        "a * 2"
      ]
    },
    {
      "cell_type": "code",
      "execution_count": null,
      "metadata": {
        "id": "Qe9MzqV1Rkpk",
        "colab": {
          "base_uri": "https://localhost:8080/"
        },
        "outputId": "1cfcf0ee-8315-4863-cdf0-e784b67b20f3"
      },
      "outputs": [
        {
          "output_type": "execute_result",
          "data": {
            "text/plain": [
              "array([0.5, 1. , 1.5, 2. ])"
            ]
          },
          "metadata": {},
          "execution_count": 5
        }
      ],
      "source": [
        "a / 2"
      ]
    },
    {
      "cell_type": "code",
      "execution_count": null,
      "metadata": {
        "id": "oG2rEVnsRkpk",
        "colab": {
          "base_uri": "https://localhost:8080/"
        },
        "outputId": "a18bc852-38c2-42c9-e88b-8daa24e80874"
      },
      "outputs": [
        {
          "output_type": "execute_result",
          "data": {
            "text/plain": [
              "array([2, 2, 4, 4])"
            ]
          },
          "metadata": {},
          "execution_count": 6
        }
      ],
      "source": [
        "b = np.array([1,0,1,0])\n",
        "a + b"
      ]
    },
    {
      "cell_type": "code",
      "execution_count": null,
      "metadata": {
        "id": "ljS2YdoORkpk",
        "colab": {
          "base_uri": "https://localhost:8080/"
        },
        "outputId": "74f7f573-9447-4fbc-e567-06b9ecee2be2"
      },
      "outputs": [
        {
          "output_type": "execute_result",
          "data": {
            "text/plain": [
              "array([ 1,  4,  9, 16])"
            ]
          },
          "metadata": {},
          "execution_count": 7
        }
      ],
      "source": [
        "np.power(a,2)"
      ]
    },
    {
      "cell_type": "code",
      "execution_count": null,
      "metadata": {
        "id": "6RO5HGscRkpk",
        "colab": {
          "base_uri": "https://localhost:8080/"
        },
        "outputId": "05deb3bc-6aa9-4832-e2d2-bc97bb0fd7eb"
      },
      "outputs": [
        {
          "output_type": "execute_result",
          "data": {
            "text/plain": [
              "array([ 1.        , -0.41614684, -0.9899925 , -0.65364362])"
            ]
          },
          "metadata": {},
          "execution_count": 8
        }
      ],
      "source": [
        "# Take the sin\n",
        "ary = np.array([0,2,3,4]) #ans in radian\n",
        "np.cos(ary)"
      ]
    },
    {
      "cell_type": "markdown",
      "metadata": {
        "id": "P6iajae9Rkpk"
      },
      "source": [
        "##### Linear Algebra"
      ]
    },
    {
      "cell_type": "markdown",
      "source": [
        "The np.matmul(a, b) function performs matrix multiplication between a and b.\n",
        "For matrix multiplication, the number of columns in the first matrix a must equal the number of rows in the second matrix b."
      ],
      "metadata": {
        "id": "RPrcoRZtUynr"
      }
    },
    {
      "cell_type": "code",
      "execution_count": null,
      "metadata": {
        "id": "b-ld2XMORkpl",
        "colab": {
          "base_uri": "https://localhost:8080/"
        },
        "outputId": "0948a355-0ecb-4685-ddda-b8dd574d5e56"
      },
      "outputs": [
        {
          "output_type": "stream",
          "name": "stdout",
          "text": [
            "[[1 2]\n",
            " [3 4]]\n",
            "[[5 6]\n",
            " [7 8]]\n"
          ]
        }
      ],
      "source": [
        "import numpy as np\n",
        "\n",
        "# 2D Matrix Multiplication\n",
        "A = np.array([[1, 2], [3, 4]])\n",
        "B = np.array([[5, 6], [7, 8]])\n",
        "\n",
        "print(A)\n",
        "print(B)"
      ]
    },
    {
      "cell_type": "code",
      "source": [
        "result = np.matmul(A, B)\n",
        "print(\"Matrix Multiplication with matmul:\\n\", result)"
      ],
      "metadata": {
        "colab": {
          "base_uri": "https://localhost:8080/"
        },
        "id": "Q_qB6PV-fefN",
        "outputId": "d08e3b0e-cffd-48db-c2a3-df912ea6cf73"
      },
      "execution_count": null,
      "outputs": [
        {
          "output_type": "stream",
          "name": "stdout",
          "text": [
            "Matrix Multiplication with matmul:\n",
            " [[19 22]\n",
            " [43 50]]\n"
          ]
        }
      ]
    },
    {
      "cell_type": "code",
      "source": [
        "#Determinant of a Matrix\n",
        "C = np.array([[1,2,5],[3,4,8],[8,7,6]])\n",
        "det = np.linalg.det(C)\n",
        "print(int(det))"
      ],
      "metadata": {
        "colab": {
          "base_uri": "https://localhost:8080/"
        },
        "id": "q05WfhYDn1xv",
        "outputId": "cd5f713b-dea8-4e4f-f655-f1a808ea7318"
      },
      "execution_count": null,
      "outputs": [
        {
          "output_type": "stream",
          "name": "stdout",
          "text": [
            "5\n"
          ]
        }
      ]
    },
    {
      "cell_type": "code",
      "execution_count": null,
      "metadata": {
        "id": "BZiGAGHHRkpl",
        "colab": {
          "base_uri": "https://localhost:8080/"
        },
        "outputId": "9546adf6-f71f-468f-d883-252a9e6cabd6"
      },
      "outputs": [
        {
          "output_type": "execute_result",
          "data": {
            "text/plain": [
              "1.0"
            ]
          },
          "metadata": {},
          "execution_count": 12
        }
      ],
      "source": [
        "# Find the determinant\n",
        "c = np.identity(5)\n",
        "np.linalg.det(c)"
      ]
    },
    {
      "cell_type": "code",
      "source": [
        "c = np.full((5,5),[8,7,6,9,4])\n",
        "print(c)\n",
        "print(np.linalg.det(c))"
      ],
      "metadata": {
        "colab": {
          "base_uri": "https://localhost:8080/"
        },
        "id": "dFyWxjBq5dqK",
        "outputId": "0adb09d5-ef1a-4ecd-9dc5-773d212957c8"
      },
      "execution_count": null,
      "outputs": [
        {
          "output_type": "stream",
          "name": "stdout",
          "text": [
            "[[8 7 6 9 4]\n",
            " [8 7 6 9 4]\n",
            " [8 7 6 9 4]\n",
            " [8 7 6 9 4]\n",
            " [8 7 6 9 4]]\n",
            "0.0\n"
          ]
        }
      ]
    },
    {
      "cell_type": "code",
      "source": [
        "import numpy as np\n",
        "print(np.empty([3,3]))"
      ],
      "metadata": {
        "colab": {
          "base_uri": "https://localhost:8080/"
        },
        "id": "misVwl3t4q6r",
        "outputId": "d0e55fe4-170d-46e3-dcee-5cbf251d08fa"
      },
      "execution_count": null,
      "outputs": [
        {
          "output_type": "stream",
          "name": "stdout",
          "text": [
            "[[1. 2. 5.]\n",
            " [3. 4. 8.]\n",
            " [8. 7. 6.]]\n"
          ]
        }
      ]
    },
    {
      "cell_type": "code",
      "source": [
        "# Example: Inverse of a Matrix\n",
        "D = np.array([[1, 2], [3, 4]])\n",
        "inv = np.linalg.inv(D)\n",
        "print(\"Inverse of the Matrix:\\n\", inv)\n"
      ],
      "metadata": {
        "colab": {
          "base_uri": "https://localhost:8080/"
        },
        "id": "jqbKgEd5otm-",
        "outputId": "e246518f-6700-406f-ab58-286d5eeb6be8"
      },
      "execution_count": null,
      "outputs": [
        {
          "output_type": "stream",
          "name": "stdout",
          "text": [
            "Inverse of the Matrix:\n",
            " [[-2.   1. ]\n",
            " [ 1.5 -0.5]]\n"
          ]
        }
      ]
    },
    {
      "cell_type": "code",
      "source": [
        "\n",
        "D = np.array([[1, 2], [3, 4]])\n",
        "E = np.array([5, 6])\n",
        "X=np.linalg.solve(D,E)\n",
        "print(\"(x,y)=\",X)\n",
        "# AX=B\n",
        "# x=A**(-1)*B"
      ],
      "metadata": {
        "colab": {
          "base_uri": "https://localhost:8080/"
        },
        "id": "MXwFIlRPnlDf",
        "outputId": "32661b42-f773-40f6-e9c2-097a64cb100e"
      },
      "execution_count": null,
      "outputs": [
        {
          "output_type": "stream",
          "name": "stdout",
          "text": [
            "(x,y)= [-4.   4.5]\n"
          ]
        }
      ]
    },
    {
      "cell_type": "code",
      "source": [
        "np.matmul(np.linalg.inv(D),E)"
      ],
      "metadata": {
        "colab": {
          "base_uri": "https://localhost:8080/"
        },
        "id": "zumGfrvTI7iR",
        "outputId": "96d22c13-7930-42e4-c320-140cae319928"
      },
      "execution_count": null,
      "outputs": [
        {
          "output_type": "execute_result",
          "data": {
            "text/plain": [
              "array([-4. ,  4.5])"
            ]
          },
          "metadata": {},
          "execution_count": 17
        }
      ]
    },
    {
      "cell_type": "markdown",
      "metadata": {
        "id": "tYACzDliRkpl"
      },
      "source": [
        "##### Statistics"
      ]
    },
    {
      "cell_type": "code",
      "execution_count": null,
      "metadata": {
        "id": "ivt0wiocRkpl",
        "colab": {
          "base_uri": "https://localhost:8080/"
        },
        "outputId": "7abbb6bc-6c58-40b3-e90b-a46e95323dca"
      },
      "outputs": [
        {
          "output_type": "execute_result",
          "data": {
            "text/plain": [
              "array([[1, 2, 3],\n",
              "       [4, 5, 6]])"
            ]
          },
          "metadata": {},
          "execution_count": 2
        }
      ],
      "source": [
        "import numpy as np\n",
        "stats = np.array([[1,2,3],[4,5,6]])\n",
        "stats"
      ]
    },
    {
      "cell_type": "code",
      "execution_count": null,
      "metadata": {
        "id": "-hRdgBz7Rkpl",
        "colab": {
          "base_uri": "https://localhost:8080/"
        },
        "outputId": "685366ca-d5a4-4432-ed78-1cd42d215fc0"
      },
      "outputs": [
        {
          "output_type": "execute_result",
          "data": {
            "text/plain": [
              "array([1, 2, 3])"
            ]
          },
          "metadata": {},
          "execution_count": 3
        }
      ],
      "source": [
        "np.min(stats,axis=0) # finds minimum value in each column"
      ]
    },
    {
      "cell_type": "code",
      "source": [
        "np.min(stats, axis =1) # finds minimum value in each row"
      ],
      "metadata": {
        "colab": {
          "base_uri": "https://localhost:8080/"
        },
        "id": "RC5wDj5Hs9CC",
        "outputId": "3d7443ed-fdf4-4d2b-9e17-3e9e1f500e01"
      },
      "execution_count": null,
      "outputs": [
        {
          "output_type": "execute_result",
          "data": {
            "text/plain": [
              "array([1, 4])"
            ]
          },
          "metadata": {},
          "execution_count": 20
        }
      ]
    },
    {
      "cell_type": "code",
      "execution_count": null,
      "metadata": {
        "id": "yKB4ciQuRkpl",
        "colab": {
          "base_uri": "https://localhost:8080/"
        },
        "outputId": "05f700ef-c4da-4501-8331-04f76a91eaf9"
      },
      "outputs": [
        {
          "output_type": "execute_result",
          "data": {
            "text/plain": [
              "6"
            ]
          },
          "metadata": {},
          "execution_count": 21
        }
      ],
      "source": [
        "np.max(stats)"
      ]
    },
    {
      "cell_type": "code",
      "execution_count": null,
      "metadata": {
        "id": "hRrbq2lcRkpm",
        "colab": {
          "base_uri": "https://localhost:8080/"
        },
        "outputId": "ab104335-5e55-4d7d-9f15-872f1fd9cc7a"
      },
      "outputs": [
        {
          "output_type": "execute_result",
          "data": {
            "text/plain": [
              "array([5, 7, 9])"
            ]
          },
          "metadata": {},
          "execution_count": 22
        }
      ],
      "source": [
        "np.sum(stats, axis=0) #computes sum for each column"
      ]
    },
    {
      "cell_type": "code",
      "source": [
        "np.sum(stats, axis=1) #compute the sum for each row:"
      ],
      "metadata": {
        "colab": {
          "base_uri": "https://localhost:8080/"
        },
        "id": "6ekWaJkithR6",
        "outputId": "02fe9341-5d50-48b9-8796-c3d930fba75d"
      },
      "execution_count": null,
      "outputs": [
        {
          "output_type": "execute_result",
          "data": {
            "text/plain": [
              "array([ 6, 15])"
            ]
          },
          "metadata": {},
          "execution_count": 23
        }
      ]
    },
    {
      "cell_type": "code",
      "source": [
        "a=np.arange(27).reshape(3,3,3)\n",
        "a"
      ],
      "metadata": {
        "colab": {
          "base_uri": "https://localhost:8080/"
        },
        "id": "_UQjGcJBBejN",
        "outputId": "63133f46-a2d4-4756-c240-100726109362"
      },
      "execution_count": null,
      "outputs": [
        {
          "output_type": "execute_result",
          "data": {
            "text/plain": [
              "array([[[ 0,  1,  2],\n",
              "        [ 3,  4,  5],\n",
              "        [ 6,  7,  8]],\n",
              "\n",
              "       [[ 9, 10, 11],\n",
              "        [12, 13, 14],\n",
              "        [15, 16, 17]],\n",
              "\n",
              "       [[18, 19, 20],\n",
              "        [21, 22, 23],\n",
              "        [24, 25, 26]]])"
            ]
          },
          "metadata": {},
          "execution_count": 24
        }
      ]
    },
    {
      "cell_type": "code",
      "source": [
        "np.sum(a,axis=0)"
      ],
      "metadata": {
        "colab": {
          "base_uri": "https://localhost:8080/"
        },
        "id": "RVdwQDNFBj2G",
        "outputId": "361244a6-74db-4a41-914d-9524cf9869db"
      },
      "execution_count": null,
      "outputs": [
        {
          "output_type": "execute_result",
          "data": {
            "text/plain": [
              "array([[27, 30, 33],\n",
              "       [36, 39, 42],\n",
              "       [45, 48, 51]])"
            ]
          },
          "metadata": {},
          "execution_count": 25
        }
      ]
    },
    {
      "cell_type": "code",
      "source": [
        "np.sum(a,axis=1)"
      ],
      "metadata": {
        "colab": {
          "base_uri": "https://localhost:8080/"
        },
        "id": "hGWznF9MBxXZ",
        "outputId": "146ffa6c-cdbc-4651-e2a3-7d4be00aea65"
      },
      "execution_count": null,
      "outputs": [
        {
          "output_type": "execute_result",
          "data": {
            "text/plain": [
              "array([[ 9, 12, 15],\n",
              "       [36, 39, 42],\n",
              "       [63, 66, 69]])"
            ]
          },
          "metadata": {},
          "execution_count": 26
        }
      ]
    },
    {
      "cell_type": "code",
      "source": [
        "np.sum(a,axis=2)"
      ],
      "metadata": {
        "colab": {
          "base_uri": "https://localhost:8080/"
        },
        "id": "Z7aLrPPFB8SL",
        "outputId": "63677433-0079-4c97-950d-4e4904ffd51f"
      },
      "execution_count": null,
      "outputs": [
        {
          "output_type": "execute_result",
          "data": {
            "text/plain": [
              "array([[ 3, 12, 21],\n",
              "       [30, 39, 48],\n",
              "       [57, 66, 75]])"
            ]
          },
          "metadata": {},
          "execution_count": 27
        }
      ]
    },
    {
      "cell_type": "code",
      "source": [],
      "metadata": {
        "id": "udwm4maSyER9"
      },
      "execution_count": null,
      "outputs": []
    }
  ],
  "metadata": {
    "kernelspec": {
      "display_name": "Python 3",
      "name": "python3"
    },
    "language_info": {
      "codemirror_mode": {
        "name": "ipython",
        "version": 3
      },
      "file_extension": ".py",
      "mimetype": "text/x-python",
      "name": "python",
      "nbconvert_exporter": "python",
      "pygments_lexer": "ipython3",
      "version": "3.6.5"
    },
    "colab": {
      "provenance": [],
      "gpuType": "T4"
    },
    "accelerator": "GPU"
  },
  "nbformat": 4,
  "nbformat_minor": 0
}