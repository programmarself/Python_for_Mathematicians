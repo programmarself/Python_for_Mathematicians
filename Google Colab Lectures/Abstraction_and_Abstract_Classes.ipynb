{
  "nbformat": 4,
  "nbformat_minor": 0,
  "metadata": {
    "colab": {
      "provenance": []
    },
    "kernelspec": {
      "name": "python3",
      "display_name": "Python 3"
    },
    "language_info": {
      "name": "python"
    }
  },
  "cells": [
    {
      "cell_type": "markdown",
      "source": [
        "## Abstraction is one of the four pillars of Object-Oriented Programming (OOP), along with Encapsulation, Inheritance, and Polymorphism. It focuses on hiding the implementation details of a system and showing only the essential features or functionalities. Abstraction is achieved using abstract classes and abstract methods in Python."
      ],
      "metadata": {
        "id": "ScF_7KEOKvDu"
      }
    },
    {
      "cell_type": "markdown",
      "source": [
        "# Concept of Abstraction\n",
        "## Abstraction allows you to focus on what an object does, without worrying about how it does it. It hides the internal details and exposes only necessary parts to the user.\n",
        "\n",
        "## For example, when you drive a car, you don't need to know how the engine works internally. You just need to know how to use the steering, pedals, and gears. This is abstraction in the real world.\n",
        "\n",
        "## In programming, abstraction allows the user to interact with an object at a higher level without needing to understand its underlying complexity. It provides a simplified interface for complex systems."
      ],
      "metadata": {
        "id": "pxsoIyJAKxum"
      }
    },
    {
      "cell_type": "markdown",
      "source": [
        "# Abstract Classes and Methods in Python\n",
        "## In Python, abstraction is achieved using abstract classes and abstract methods. Abstract classes provide a blueprint for other classes and cannot be instantiated directly. They are used when you want to define a common interface for all subclasses.\n",
        "\n",
        "# Key Points:\n",
        "\n",
        "## Abstract class: A class that contains one or more abstract methods. It cannot be instantiated.\n",
        "## Abstract method: A method declared in an abstract class but contains no implementation. Subclasses must override these methods and provide their own implementation.\n",
        "\n",
        "## Python provides the abc module, which stands for Abstract Base Classes. It allows us to define abstract classes and methods using decorators like @abstractmethod."
      ],
      "metadata": {
        "id": "Vj3YE5CBLBeH"
      }
    },
    {
      "cell_type": "code",
      "execution_count": null,
      "metadata": {
        "id": "iS-xT_aiKjwP"
      },
      "outputs": [],
      "source": [
        "from abc import ABC, abstractmethod\n",
        "\n",
        "class AbstractClass(ABC):\n",
        "    @abstractmethod\n",
        "    def abstract_method(self):\n",
        "        pass\n"
      ]
    },
    {
      "cell_type": "markdown",
      "source": [
        "# Using the abc Module in Python\n",
        "## The abc module is used to define abstract classes and methods in Python. It provides a way to enforce that subclasses implement certain methods, ensuring a consistent interface.\n",
        "\n",
        "## 1. ABC Class: This is the base class for defining abstract classes.\n",
        "## 2. @abstractmethod Decorator: This is used to mark a method as abstract. Any subclass of an abstract class must implement all the abstract methods.\n"
      ],
      "metadata": {
        "id": "GIwb986KLO2B"
      }
    },
    {
      "cell_type": "code",
      "source": [
        "# Abstract Class and Method\n",
        "from abc import ABC, abstractmethod\n",
        "\n",
        "# Abstract class\n",
        "class Shape(ABC):\n",
        "    # Abstract method\n",
        "    @abstractmethod\n",
        "    def area(self):\n",
        "        pass\n",
        "\n",
        "    # Abstract method\n",
        "    @abstractmethod\n",
        "    def perimeter(self):\n",
        "        pass\n"
      ],
      "metadata": {
        "id": "QXz-c79tLWzE"
      },
      "execution_count": null,
      "outputs": []
    },
    {
      "cell_type": "markdown",
      "source": [
        "#  Implementing an Abstract Class\n",
        "## To use an abstract class, you need to create a subclass that provides implementations for all the abstract methods. If the subclass does not implement all the abstract methods, it will also be considered an abstract class."
      ],
      "metadata": {
        "id": "clDxWecTLdBF"
      }
    },
    {
      "cell_type": "code",
      "source": [
        "# Implementing an Abstract Class\n",
        "from abc import ABC, abstractmethod\n",
        "\n",
        "# Abstract class\n",
        "class Shape(ABC):\n",
        "    @abstractmethod\n",
        "    def area(self):\n",
        "        pass\n",
        "\n",
        "    @abstractmethod\n",
        "    def perimeter(self):\n",
        "        pass\n",
        "\n",
        "# Derived class implementing the abstract methods\n",
        "class Rectangle(Shape):\n",
        "    def __init__(self, width, height):\n",
        "        self.width = width\n",
        "        self.height = height\n",
        "\n",
        "    def area(self):\n",
        "        return self.width * self.height\n",
        "\n",
        "    def perimeter(self):\n",
        "        return 2 * (self.width + self.height)\n",
        "\n",
        "# Creating an object of the derived class\n",
        "rect = Rectangle(4,5)\n",
        "\n",
        "print(\"Area:\", rect.area())         # Output: Area: 20\n",
        "print(\"Perimeter:\", rect.perimeter()) # Output: Perimeter: 18\n"
      ],
      "metadata": {
        "colab": {
          "base_uri": "https://localhost:8080/"
        },
        "id": "aSzEXNdsLft_",
        "outputId": "00da7eea-652e-48c7-cc3b-cce00d8f6a82"
      },
      "execution_count": null,
      "outputs": [
        {
          "output_type": "stream",
          "name": "stdout",
          "text": [
            "Area: 20\n",
            "Perimeter: 18\n"
          ]
        }
      ]
    },
    {
      "cell_type": "markdown",
      "source": [
        "# Practical Example: Implementing Abstract Class and Abstract Methods\n",
        "\n",
        "## In this practical example, we will create an abstract class called Vehicle that contains abstract methods for start() and stop(). We will then implement this abstract class in two derived classes, Car and Bike, and provide specific implementations for each.\n",
        "\n",
        "## Task:\n",
        "## 1. Create an abstract class Vehicle with abstract methods start() and stop().\n",
        "## 2. Create two derived classes, Car and Bike, that implement the abstract methods.\n",
        "## 3. Demonstrate the use of abstraction by creating objects of Car and Bike.\n"
      ],
      "metadata": {
        "id": "su3AI-mZLpu6"
      }
    },
    {
      "cell_type": "code",
      "source": [
        "from abc import ABC, abstractmethod\n",
        "\n",
        "# Abstract class\n",
        "class Vehicle(ABC):\n",
        "    @abstractmethod\n",
        "    def start(self):\n",
        "        pass\n",
        "\n",
        "    @abstractmethod\n",
        "    def stop(self):\n",
        "        pass\n",
        "\n",
        "# Derived class 1\n",
        "class Car(Vehicle):\n",
        "    def start(self):\n",
        "        print(\"Car is starting with a key ignition.\")\n",
        "\n",
        "    def stop(self):\n",
        "        print(\"Car is stopping using brakes.\")\n",
        "\n",
        "# Derived class 2\n",
        "class Bike(Vehicle):\n",
        "    def start(self):\n",
        "        print(\"Bike is starting with a self-start button.\")\n",
        "\n",
        "    def stop(self):\n",
        "        print(\"Bike is stopping using hand brakes.\")\n",
        "\n",
        "# Creating objects of Car and Bike\n",
        "car = Car()\n",
        "bike = Bike()\n",
        "\n",
        "# Demonstrating abstraction\n",
        "car.start()  # Output: Car is starting with a key ignition.\n",
        "car.stop()   # Output: Car is stopping using brakes.\n",
        "\n",
        "bike.start() # Output: Bike is starting with a self-start button.\n",
        "bike.stop()  # Output: Bike is stopping using hand brakes.\n"
      ],
      "metadata": {
        "colab": {
          "base_uri": "https://localhost:8080/"
        },
        "id": "QVpSzj4gLyxQ",
        "outputId": "72c17989-8692-465f-da50-01440551d6c0"
      },
      "execution_count": null,
      "outputs": [
        {
          "output_type": "stream",
          "name": "stdout",
          "text": [
            "Car is starting with a key ignition.\n",
            "Car is stopping using brakes.\n",
            "Bike is starting with a self-start button.\n",
            "Bike is stopping using hand brakes.\n"
          ]
        }
      ]
    },
    {
      "cell_type": "markdown",
      "source": [
        "# Abstract Class with Constructor and Attributes\n",
        "\n",
        "## Abstract classes can also have constructors and attributes like regular classes. These attributes can be used in the derived classes, allowing the abstract class to initialize common properties for its subclasses."
      ],
      "metadata": {
        "id": "ZudWgyMWL45x"
      }
    },
    {
      "cell_type": "code",
      "source": [
        "# Abstract Class with Constructor\n",
        "from abc import ABC, abstractmethod\n",
        "\n",
        "# Abstract class\n",
        "class Appliance(ABC):\n",
        "    def __init__(self, brand):\n",
        "        self.brand = brand\n",
        "\n",
        "    @abstractmethod\n",
        "    def turn_on(self):\n",
        "        pass\n",
        "\n",
        "# Derived class 1\n",
        "class WashingMachine(Appliance):\n",
        "    def turn_on(self):\n",
        "        print(f\"Turning on {self.brand} washing machine.\")\n",
        "\n",
        "# Derived class 2\n",
        "class Refrigerator(Appliance):\n",
        "    def turn_on(self):\n",
        "        print(f\"Turning on {self.brand} refrigerator.\")\n",
        "\n",
        "# Creating objects of WashingMachine and Refrigerator\n",
        "wm = WashingMachine(\"LG\")\n",
        "fridge = Refrigerator(\"Samsung\")\n",
        "\n",
        "wm.turn_on()   # Output: Turning on LG washing machine.\n",
        "fridge.turn_on() # Output: Turning on Samsung refrigerator.\n"
      ],
      "metadata": {
        "id": "y6y_2U-_L9JV",
        "colab": {
          "base_uri": "https://localhost:8080/"
        },
        "outputId": "48fc98c3-d9e7-45c5-fd37-c6cd6851aa3f"
      },
      "execution_count": null,
      "outputs": [
        {
          "output_type": "stream",
          "name": "stdout",
          "text": [
            "Turning on LG washing machine.\n",
            "Turning on Samsung refrigerator.\n"
          ]
        }
      ]
    },
    {
      "cell_type": "markdown",
      "source": [
        "# Summary\n",
        "\n",
        "## **Abstraction**: Hides implementation details and exposes only essential features to the user.\n",
        "## **Abstract Classes**: Classes that cannot be instantiated and contain abstract methods to be implemented by derived classes.\n",
        "## **Abstract Methods**: Methods that are declared in the abstract class but do not contain any implementation.\n",
        "## **abc Module**: Provides support for defining abstract classes and methods in Python using the ABC class and @abstractmethod decorator."
      ],
      "metadata": {
        "id": "pEM36n-0MD62"
      }
    },
    {
      "cell_type": "markdown",
      "source": [
        "# Difference between abstraction and encapsulation.\n",
        "\n",
        "## Abstraction and encapsulation are two key concepts in object-oriented programming (OOP), and although they are related, they serve different purposes. Here’s a breakdown of their differences:"
      ],
      "metadata": {
        "id": "4-zF46aDMQQU"
      }
    },
    {
      "cell_type": "markdown",
      "source": [
        "# Abstraction:\n",
        "\n",
        "## **Definition**: Abstraction is the concept of hiding the complexity of a system by exposing only the necessary parts. It focuses on what an object does rather than how it does it. The idea is to simplify the interface so that the user doesn't need to understand the underlying implementation details.\n",
        "\n",
        "## **Purpose**: To show only essential information and hide the internal details.\n",
        "\n",
        "## **How it's achieved**: By using abstract classes and interfaces in OOP. In Python, this can be done using abstract classes with the help of the ABC module."
      ],
      "metadata": {
        "id": "IfTgEOnwMUZC"
      }
    },
    {
      "cell_type": "code",
      "source": [
        "from abc import ABC, abstractmethod\n",
        "\n",
        "class Car(ABC):\n",
        "    @abstractmethod\n",
        "    def start(self):\n",
        "        pass\n",
        "\n",
        "class Tesla(Car):\n",
        "    def start(self):\n",
        "        print(\"Starting Tesla\")\n",
        "\n",
        "# Abstraction in action\n",
        "car = Tesla()\n",
        "car.start()  # Output: Starting Tesla\n"
      ],
      "metadata": {
        "id": "G2N3eaDiMLck"
      },
      "execution_count": null,
      "outputs": []
    },
    {
      "cell_type": "markdown",
      "source": [
        "## **Goal**: To simplify the interaction by hiding unnecessary implementation details and focusing on the functionality (what the object can do)."
      ],
      "metadata": {
        "id": "RHfVB9Z-Mhbx"
      }
    },
    {
      "cell_type": "markdown",
      "source": [
        "# Encapsulation:\n",
        "\n",
        "## **Definition**: Encapsulation refers to bundling data (attributes) and methods (functions) that operate on that data into a single unit or class. It also involves restricting access to certain components to protect the object’s integrity and prevent unintended interference.\n",
        "\n",
        "## **Purpose**: To control access to the data and protect it from unauthorized modification by enforcing access control (public, private, or protected attributes).\n",
        "\n",
        "## **How it's achieved**: By making class attributes and methods private (using the __ prefix) or protected (using the _ prefix) and providing public methods (getters/setters) to access or modify the data safely."
      ],
      "metadata": {
        "id": "_np519C0MkfL"
      }
    },
    {
      "cell_type": "code",
      "source": [
        "class Car:\n",
        "    def __init__(self, make, model):\n",
        "        self.__make = make  # Private attribute\n",
        "        self.__model = model  # Private attribute\n",
        "\n",
        "    def get_make(self):\n",
        "        return self.__make  # Getter method to access private attribute\n",
        "\n",
        "    def set_make(self, make):\n",
        "        self.__make = make  # Setter method to modify private attribute\n",
        "\n",
        "# Encapsulation in action\n",
        "car = Car(\"Tesla\", \"Model S\")\n",
        "print(car.get_make())  # Output: Tesla\n",
        "car.set_make(\"Ford\")   # Changing the value using a setter\n",
        "print(car.get_make())  # Output: Ford\n"
      ],
      "metadata": {
        "id": "mIQIr7CRMi32",
        "colab": {
          "base_uri": "https://localhost:8080/"
        },
        "outputId": "a1eebdf4-5a9f-4acf-88e6-8f4686c419bb"
      },
      "execution_count": null,
      "outputs": [
        {
          "output_type": "stream",
          "name": "stdout",
          "text": [
            "Tesla\n",
            "Ford\n"
          ]
        }
      ]
    },
    {
      "cell_type": "markdown",
      "source": [
        "## **Goal**: To protect the data and control access to the internal state of an object, ensuring that it's only modified in a controlled and safe manner.\n",
        "\n"
      ],
      "metadata": {
        "id": "ZOOpTEdKMvho"
      }
    },
    {
      "cell_type": "markdown",
      "source": [
        "## **Abstraction** is about hiding complexity and showing only the essential features to the user, focusing on what the object can do.\n",
        "## **Encapsulation** is about hiding the internal state of an object and controlling access to it, focusing on how the data inside the object is protected and managed."
      ],
      "metadata": {
        "id": "YxkLqFyhM08O"
      }
    }
  ]
}