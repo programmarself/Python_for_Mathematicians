{
  "nbformat": 4,
  "nbformat_minor": 0,
  "metadata": {
    "colab": {
      "provenance": []
    },
    "kernelspec": {
      "name": "python3",
      "display_name": "Python 3"
    },
    "language_info": {
      "name": "python"
    }
  },
  "cells": [
    {
      "cell_type": "markdown",
      "source": [
        "# Inheritance in Python\n",
        "## Inheritance is one of the key features of Object-Oriented Programming (OOP). It allows one class (the derived or child class) to inherit attributes and methods from another class (the base or parent class). This mechanism helps in code reusability, logical class structuring, and easy extension of functionality."
      ],
      "metadata": {
        "id": "qRjXSrcFSHvG"
      }
    },
    {
      "cell_type": "markdown",
      "source": [
        "# 1. Concept of Inheritance\n",
        "## Inheritance allows a new class to acquire the properties (attributes) and behaviors (methods) of an existing class. The new class can:\n",
        "\n",
        "### * Reuse methods and attributes of the base class.\n",
        "### * Extend by adding new methods and attributes.\n",
        "### * Override base class methods to alter behavior."
      ],
      "metadata": {
        "id": "EK3V3zelSXwb"
      }
    },
    {
      "cell_type": "markdown",
      "source": [
        "## Types of Inheritance in Python:\n",
        "\n",
        "## Single Inheritance: A child class inherits from one parent class.\n",
        "## Multilevel Inheritance: A class inherits from a parent class, and another class can inherit from this child class."
      ],
      "metadata": {
        "id": "KH8tCK4dSnLp"
      }
    },
    {
      "cell_type": "markdown",
      "source": [
        "# 2. Single Inheritance\n",
        "## In single inheritance, a child class inherits properties from one parent class."
      ],
      "metadata": {
        "id": "uFHmeY_BSv3_"
      }
    },
    {
      "cell_type": "code",
      "execution_count": null,
      "metadata": {
        "colab": {
          "base_uri": "https://localhost:8080/"
        },
        "id": "V-i_9P5URnHN",
        "outputId": "365823dd-ba52-4228-b63c-b7fee556ef65"
      },
      "outputs": [
        {
          "output_type": "stream",
          "name": "stdout",
          "text": [
            "Buddy makes a sound.\n",
            "Buddy is fetching!\n"
          ]
        }
      ],
      "source": [
        "# Base (Parent) Class\n",
        "class Animal:\n",
        "    def __init__(self, name):\n",
        "        self.name = name\n",
        "\n",
        "    def speak(self):\n",
        "        print(f\"{self.name} makes a sound.\")\n",
        "\n",
        "# Derived (Child) Class\n",
        "class Dog(Animal):\n",
        "    def __init__(self, name, breed):\n",
        "        # Call the constructor of the base class\n",
        "        super().__init__(name)\n",
        "        self.breed = breed\n",
        "\n",
        "    def fetch(self):\n",
        "        print(f\"{self.name} is fetching!\")\n",
        "\n",
        "# Creating an object of the derived class\n",
        "dog1 = Dog(\"Buddy\", \"Golden Retriever\")\n",
        "\n",
        "# Accessing methods from both base and derived class\n",
        "dog1.speak()   # Output: Buddy makes a sound. (inherited from Animal)\n",
        "dog1.fetch()   # Output: Buddy is fetching! (defined in Dog)\n"
      ]
    },
    {
      "cell_type": "markdown",
      "source": [
        "# Explanation:\n",
        "\n",
        "## The Dog class inherits the speak() method from the Animal class.\n",
        "## It can add its own behavior (e.g., fetch()), extending the functionality."
      ],
      "metadata": {
        "id": "uwwlIng3UwpD"
      }
    },
    {
      "cell_type": "code",
      "source": [
        "# Base (Parent) Class\n",
        "class Animal:\n",
        "    def __init__(self, name):\n",
        "        self.name = name\n",
        "\n",
        "    def speak(self):\n",
        "        print(f\"{self.name} makes a sound.\")\n",
        "\n",
        "# Derived (Child) Class\n",
        "class Dog(Animal):\n",
        "    def __init__(self, name, breed):\n",
        "        # Call the constructor of the base class\n",
        "        super().__init__(name)\n",
        "        self.breed = breed\n",
        "\n",
        "    def fetch(self):\n",
        "        print(f\"{self.name} is fetching!\")\n",
        "\n",
        "# Creating an object of the derived class\n",
        "dog1 = Dog(\"Buddy\", \"Golden Retriever\")\n",
        "\n",
        "\n",
        "# Accessing methods from both base and derived class\n",
        "dog1.speak()   # Output: Buddy makes a sound. (inherited from Animal)\n",
        "dog1.fetch()   # Output: Buddy is fetching! (defined in Dog)\n"
      ],
      "metadata": {
        "id": "IO5VimWPU2M0"
      },
      "execution_count": null,
      "outputs": []
    },
    {
      "cell_type": "markdown",
      "source": [
        "# 3. Multilevel Inheritance\n",
        "## In multilevel inheritance, a child class inherits from a parent class, and another class inherits from the child class."
      ],
      "metadata": {
        "id": "S7WpyZ18U4zM"
      }
    },
    {
      "cell_type": "code",
      "source": [
        "# Base Class\n",
        "class Vehicle:\n",
        "    def __init__(self, make, model):\n",
        "        self.make = make\n",
        "        self.model = model\n",
        "\n",
        "    def display_info(self):\n",
        "        print(f\"Vehicle: {self.make} {self.model}\")\n",
        "\n",
        "# Intermediate Derived Class\n",
        "class Car(Vehicle):\n",
        "    def __init__(self, make, model, doors):\n",
        "        super().__init__(make, model)\n",
        "        self.doors = doors\n",
        "\n",
        "    def display_car_info(self):\n",
        "        print(f\"Car: {self.make} {self.model}, {self.doors} doors\")\n",
        "\n",
        "# Further Derived Class\n",
        "class ElectricCar(Car):\n",
        "    def __init__(self, make, model, doors, battery_capacity):\n",
        "        super().__init__(make, model, doors)\n",
        "        self.battery_capacity = battery_capacity\n",
        "\n",
        "    def display_electric_car_info(self):\n",
        "        print(f\"Electric Car: {self.make} {self.model}, {self.doors} doors, Battery Capacity: {self.battery_capacity} kWh\")\n",
        "\n",
        "\n",
        "# Creating an object of the ElectricCar class\n",
        "ecar1 = ElectricCar(\"Tesla\", \"Model S\", 4, 100)\n",
        "\n",
        "# Accessing methods from all levels of the hierarchy\n",
        "ecar1.display_info()               # Output: Vehicle: Tesla Model S (from Vehicle class)\n",
        "ecar1.display_car_info()           # Output: Car: Tesla Model S, 4 doors (from Car class)\n",
        "ecar1.display_electric_car_info()  # Output: Electric Car: Tesla Model S, 4 doors, Battery Capacity: 100 kWh (from ElectricCar class)\n"
      ],
      "metadata": {
        "colab": {
          "base_uri": "https://localhost:8080/"
        },
        "id": "8UhiEeNzU8Qh",
        "outputId": "f4adab9c-e43f-4938-ef87-28eabe6c4161"
      },
      "execution_count": null,
      "outputs": [
        {
          "output_type": "stream",
          "name": "stdout",
          "text": [
            "Vehicle: Tesla Model S\n",
            "Car: Tesla Model S, 4 doors\n",
            "Electric Car: Tesla Model S, 4 doors, Battery Capacity: 100 kWh\n"
          ]
        }
      ]
    },
    {
      "cell_type": "markdown",
      "source": [
        "## Explanation:\n",
        "\n",
        "## The ElectricCar class inherits attributes and methods from both Car and Vehicle.\n",
        "## The class structure demonstrates code reuse across multiple levels."
      ],
      "metadata": {
        "id": "sZnKksB9WZRr"
      }
    },
    {
      "cell_type": "markdown",
      "source": [
        "# 4. Base and Derived Classes\n",
        "\n",
        "### * Base Class: The class from which attributes and methods are inherited.\n",
        "### * Derived Class: The class that inherits from the base class and can have additional or overridden attributes/methods.\n"
      ],
      "metadata": {
        "id": "LwmCPXDEWez9"
      }
    },
    {
      "cell_type": "code",
      "source": [
        "class BaseClass:\n",
        "    # attributes and methods of the base class\n",
        "\n",
        "class DerivedClass(BaseClass):\n",
        "    # attributes and methods of the derived class\n"
      ],
      "metadata": {
        "id": "_1mVywR8WUhC"
      },
      "execution_count": null,
      "outputs": []
    },
    {
      "cell_type": "code",
      "source": [
        "class Parent:\n",
        "    def __init__(self, name):\n",
        "        self.name = name\n",
        "\n",
        "    def show_name(self):\n",
        "        print(f\"Parent name: {self.name}\")\n",
        "\n",
        "class Child(Parent):\n",
        "    def __init__(self, name, age):\n",
        "        super().__init__(name)\n",
        "        self.age = age\n",
        "\n",
        "    def show_age(self):\n",
        "        print(f\"{self.name} is {self.age} years old.\")\n",
        "\n",
        "# Creating an object of the Child class\n",
        "child1 = Child(\"Alice\", 10)\n",
        "\n",
        "# Accessing methods from both the parent and child class\n",
        "child1.show_name()  # Output: Parent name: Alice\n",
        "child1.show_age()   # Output: Alice is 10 years old.\n"
      ],
      "metadata": {
        "colab": {
          "base_uri": "https://localhost:8080/"
        },
        "id": "EGf0cl-AW49P",
        "outputId": "b60dcfc9-b06f-48b9-945b-4f5e38eb7867"
      },
      "execution_count": null,
      "outputs": [
        {
          "output_type": "stream",
          "name": "stdout",
          "text": [
            "Parent name: Alice\n",
            "Alice is 10 years old.\n"
          ]
        }
      ]
    },
    {
      "cell_type": "markdown",
      "source": [
        "## Explanation:\n",
        "\n",
        "## The Parent class has a method show_name() and the Child class extends it by adding the show_age() method.\n",
        "## The child class inherits the attributes and methods of the parent class using the super() function."
      ],
      "metadata": {
        "id": "utpbPxEjXL7L"
      }
    },
    {
      "cell_type": "markdown",
      "source": [
        "# 5. Overriding Methods\n",
        "\n",
        "## Method overriding allows a derived class to provide a specific implementation for a method that is already defined in its base class. The new implementation in the derived class will \"override\" the base class method."
      ],
      "metadata": {
        "id": "Mg818icsW4So"
      }
    },
    {
      "cell_type": "code",
      "source": [
        "class Animal:\n",
        "    def speak(self):\n",
        "        print(\"The animal makes a sound.\")\n",
        "\n",
        "class Dog(Animal):\n",
        "    # Overriding the speak method in the derived class\n",
        "    def speak(self):\n",
        "        print(\"The dog barks.\")\n",
        "\n",
        "# Creating objects of the classes\n",
        "animal = Animal()\n",
        "dog = Dog()\n",
        "\n",
        "# Calling the overridden method\n",
        "animal.speak()  # Output: The animal makes a sound.\n",
        "dog.speak()     # Output: The dog barks. (overrides the Animal's speak method)\n"
      ],
      "metadata": {
        "colab": {
          "base_uri": "https://localhost:8080/"
        },
        "id": "aFMl-jUSXbiO",
        "outputId": "b4471d9b-583a-4567-ba5c-10b7860d9e66"
      },
      "execution_count": null,
      "outputs": [
        {
          "output_type": "stream",
          "name": "stdout",
          "text": [
            "The animal makes a sound.\n",
            "The dog barks.\n"
          ]
        }
      ]
    },
    {
      "cell_type": "markdown",
      "source": [
        "# Creating a Base Class and Derived Class, Demonstrating Inheritance and Method Overriding\n",
        "\n",
        "## Task:\n",
        "\n",
        "## 1. Create a base class Person with attributes name and age and a method display_info().\n",
        "## 2. Create a derived class Student that inherits from Person and adds the attribute student_id.\n",
        "## 3. Override the display_info() method in Student to also include the student_id.\n",
        "## 4. Create objects of both classes and demonstrate inheritance and method overriding."
      ],
      "metadata": {
        "id": "WG-KZlqtXupP"
      }
    },
    {
      "cell_type": "code",
      "source": [
        "# Base Class\n",
        "class Person:\n",
        "    def __init__(self, name, age):\n",
        "        self.name = name\n",
        "        self.age = age\n",
        "\n",
        "    def display_info(self):\n",
        "        print(f\"Name: {self.name}, Age: {self.age}\")\n",
        "\n",
        "# Derived Class\n",
        "class Student(Person):\n",
        "    def __init__(self, name, age, student_id):\n",
        "        # Inherit attributes from the base class using super()\n",
        "        super().__init__(name, age)\n",
        "        self.student_id = student_id\n",
        "\n",
        "    # Overriding the display_info method\n",
        "    def display_info(self):\n",
        "        print(f\"Name: {self.name}, Age: {self.age}, Student ID: {self.student_id}\")\n",
        "\n",
        "# Creating an object of the Person class\n",
        "person1 = Person(\"John\", 30)\n",
        "person1.display_info()  # Output: Name: John, Age: 30\n",
        "\n",
        "# Creating an object of the Student class (inherited from Person)\n",
        "student1 = Student(\"Alice\", 20, \"S12345\")\n",
        "student1.display_info()  # Output: Name: Alice, Age: 20, Student ID: S12345\n"
      ],
      "metadata": {
        "colab": {
          "base_uri": "https://localhost:8080/"
        },
        "id": "Qvo5wPhvX9aW",
        "outputId": "21f9b5d1-4f06-4a1f-e841-1fc9b92df5d4"
      },
      "execution_count": null,
      "outputs": [
        {
          "output_type": "stream",
          "name": "stdout",
          "text": [
            "Name: John, Age: 30\n",
            "Name: Alice, Age: 20, Student ID: S12345\n"
          ]
        }
      ]
    },
    {
      "cell_type": "markdown",
      "source": [
        "## Explanation:\n",
        "\n",
        "## The Person class has a method display_info() that prints the person's name and age.\n",
        "## The Student class inherits from Person and overrides display_info() to include the student_id.\n",
        "## When display_info() is called on a Student object, the overridden version is executed."
      ],
      "metadata": {
        "id": "2IMk9nOPYBK3"
      }
    },
    {
      "cell_type": "code",
      "source": [],
      "metadata": {
        "id": "K0jogGriYEiD"
      },
      "execution_count": null,
      "outputs": []
    }
  ]
}