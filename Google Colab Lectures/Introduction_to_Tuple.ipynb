{
  "nbformat": 4,
  "nbformat_minor": 0,
  "metadata": {
    "colab": {
      "provenance": []
    },
    "kernelspec": {
      "name": "python3",
      "display_name": "Python 3"
    },
    "language_info": {
      "name": "python"
    }
  },
  "cells": [
    {
      "cell_type": "markdown",
      "source": [
        "# 1. What is a Tuple?\n",
        "A tuple is a sequence of immutable values. Tuples are similar to lists but cannot be changed once created (they are immutable)."
      ],
      "metadata": {
        "id": "d68er-iIQvmf"
      }
    },
    {
      "cell_type": "markdown",
      "source": [
        "Difference from a List: Tuples use parentheses () and are immutable, while lists use square brackets [] and are mutable."
      ],
      "metadata": {
        "id": "Q7c1qdtlQ2Lj"
      }
    },
    {
      "cell_type": "markdown",
      "source": [
        "# 2. Creating Tuples\n"
      ],
      "metadata": {
        "id": "doOQP3EcQ4At"
      }
    },
    {
      "cell_type": "markdown",
      "source": [
        "# 2.1 Basic Tuple Creation"
      ],
      "metadata": {
        "id": "iM6v3uoSQ8uZ"
      }
    },
    {
      "cell_type": "markdown",
      "source": [
        "# Empty tuple"
      ],
      "metadata": {
        "id": "cBjFvUpGQ-4T"
      }
    },
    {
      "cell_type": "code",
      "source": [
        "empty_tuple = ()\n",
        "empty_tuple"
      ],
      "metadata": {
        "id": "9Nv7OoG-RR91",
        "colab": {
          "base_uri": "https://localhost:8080/"
        },
        "outputId": "b9c805a1-4055-4aa8-e2cd-a7e373897f02"
      },
      "execution_count": null,
      "outputs": [
        {
          "output_type": "execute_result",
          "data": {
            "text/plain": [
              "()"
            ]
          },
          "metadata": {},
          "execution_count": 1
        }
      ]
    },
    {
      "cell_type": "markdown",
      "source": [
        "# Creating a Single-Item Tuple"
      ],
      "metadata": {
        "id": "lMLpiI7WRU90"
      }
    },
    {
      "cell_type": "code",
      "source": [
        "tuple_1 = (5,)\n",
        "tuple_2 = (5)\n",
        "\n",
        "print(type(tuple_1))\n",
        "print(type(tuple_2))"
      ],
      "metadata": {
        "id": "kzCn68_gRdDi",
        "colab": {
          "base_uri": "https://localhost:8080/"
        },
        "outputId": "dcd9452a-271b-44bf-9575-d4bd2a232820"
      },
      "execution_count": null,
      "outputs": [
        {
          "output_type": "stream",
          "name": "stdout",
          "text": [
            "<class 'tuple'>\n",
            "<class 'int'>\n"
          ]
        }
      ]
    },
    {
      "cell_type": "markdown",
      "source": [
        "# Creating a Tuple with Multiple Elements"
      ],
      "metadata": {
        "id": "wnQgXTzQRdpL"
      }
    },
    {
      "cell_type": "code",
      "source": [
        "tuple_3 = (1,\"apple\",True,5,\"a\")\n",
        "tuple_3\n",
        "\n",
        "a,b,c,d,e = tuple_3\n"
      ],
      "metadata": {
        "id": "vUohzagnRiuX",
        "colab": {
          "base_uri": "https://localhost:8080/"
        },
        "outputId": "c7e015ea-019b-4d0e-d45e-97f3ed166e17"
      },
      "execution_count": null,
      "outputs": [
        {
          "output_type": "execute_result",
          "data": {
            "text/plain": [
              "(1, 'apple', True, 5, 'a')"
            ]
          },
          "metadata": {},
          "execution_count": 3
        }
      ]
    },
    {
      "cell_type": "markdown",
      "source": [
        "# Creating a Tuple without Parentheses (Tuple Packing)"
      ],
      "metadata": {
        "id": "Ocj0eF3JRqs_"
      }
    },
    {
      "cell_type": "code",
      "source": [
        "tuple_4 = 1,\"apple\",True,5,\"a\"\n",
        "tuple_4"
      ],
      "metadata": {
        "id": "MDx9mc5tRsVW",
        "colab": {
          "base_uri": "https://localhost:8080/"
        },
        "outputId": "a9bf7104-933e-4bf0-eaf0-30bb7a466135"
      },
      "execution_count": null,
      "outputs": [
        {
          "output_type": "execute_result",
          "data": {
            "text/plain": [
              "(1, 'apple', True, 5, 'a')"
            ]
          },
          "metadata": {},
          "execution_count": 4
        }
      ]
    },
    {
      "cell_type": "markdown",
      "source": [
        "# Using the tuple() Constructor"
      ],
      "metadata": {
        "id": "UmxPocWqRt_k"
      }
    },
    {
      "cell_type": "code",
      "source": [
        "my_tuple= tuple(\"hello\")\n",
        "my_tuple"
      ],
      "metadata": {
        "id": "WWXuTNeIRxZ4",
        "colab": {
          "base_uri": "https://localhost:8080/"
        },
        "outputId": "629f2a0e-79ff-43da-ea48-3518f0e90b27"
      },
      "execution_count": null,
      "outputs": [
        {
          "output_type": "execute_result",
          "data": {
            "text/plain": [
              "('h', 'e', 'l', 'l', 'o')"
            ]
          },
          "metadata": {},
          "execution_count": 5
        }
      ]
    },
    {
      "cell_type": "code",
      "source": [
        "my_list = [1,2,3,4]\n",
        "\n",
        "my_tuple = tuple(my_list)\n",
        "my_tuple"
      ],
      "metadata": {
        "colab": {
          "base_uri": "https://localhost:8080/"
        },
        "id": "mAgldwBryPmR",
        "outputId": "0c33950a-7c22-4416-a1e1-b37f6462fc6e"
      },
      "execution_count": null,
      "outputs": [
        {
          "output_type": "execute_result",
          "data": {
            "text/plain": [
              "(1, 2, 3, 4)"
            ]
          },
          "metadata": {},
          "execution_count": 6
        }
      ]
    },
    {
      "cell_type": "code",
      "source": [
        "bac_tuple = (1,5,\"abc\",1,3)\n",
        "\n",
        "my_list = list(bac_tuple)\n",
        "my_list"
      ],
      "metadata": {
        "colab": {
          "base_uri": "https://localhost:8080/"
        },
        "id": "NvDbqCixygns",
        "outputId": "b2a65904-b6d3-41e0-d6f9-58a128bbdc2d"
      },
      "execution_count": null,
      "outputs": [
        {
          "output_type": "execute_result",
          "data": {
            "text/plain": [
              "[1, 5, 'abc', 5]"
            ]
          },
          "metadata": {},
          "execution_count": 7
        }
      ]
    },
    {
      "cell_type": "markdown",
      "source": [
        "# 3. Accessing Tuple Elements"
      ],
      "metadata": {
        "id": "_ONuNnZ2Rzhv"
      }
    },
    {
      "cell_type": "markdown",
      "source": [
        "# 3.1 Indexing"
      ],
      "metadata": {
        "id": "4soIlW69SivD"
      }
    },
    {
      "cell_type": "markdown",
      "source": [
        "Accessing Elements by Index"
      ],
      "metadata": {
        "id": "CksMqi4ySn9g"
      }
    },
    {
      "cell_type": "code",
      "source": [
        "my_tuple = (\"apple\",\"grapes\",\"orange\")\n",
        "my_tuple[0]"
      ],
      "metadata": {
        "id": "PjqCWwySSkbt",
        "colab": {
          "base_uri": "https://localhost:8080/",
          "height": 35
        },
        "outputId": "5ac3e050-d47f-479d-8d35-ebc850dca453"
      },
      "execution_count": null,
      "outputs": [
        {
          "output_type": "execute_result",
          "data": {
            "text/plain": [
              "'apple'"
            ],
            "application/vnd.google.colaboratory.intrinsic+json": {
              "type": "string"
            }
          },
          "metadata": {},
          "execution_count": 8
        }
      ]
    },
    {
      "cell_type": "markdown",
      "source": [
        "Accessing Elements from the End (Negative Indexing)"
      ],
      "metadata": {
        "id": "r2Sif6Z8Srrx"
      }
    },
    {
      "cell_type": "code",
      "source": [
        "my_tuple[5]"
      ],
      "metadata": {
        "id": "13TaXwQ0Sugv",
        "colab": {
          "base_uri": "https://localhost:8080/"
        },
        "outputId": "ab063c83-4ae8-4bbc-a0be-80699a8c6bf9"
      },
      "execution_count": null,
      "outputs": [
        {
          "output_type": "execute_result",
          "data": {
            "text/plain": [
              "('apple', 'grapes', 'orange')"
            ]
          },
          "metadata": {},
          "execution_count": 11
        }
      ]
    },
    {
      "cell_type": "markdown",
      "source": [
        "Indexing Out-of-Range Error and How to Handle It"
      ],
      "metadata": {
        "id": "93InxJAASwVe"
      }
    },
    {
      "cell_type": "code",
      "source": [
        "index = -1\n",
        "length = len(my_tuple)\n",
        "if index  < length and index >= -length:\n",
        "  print(my_tuple[index])\n",
        "else:\n",
        "  print(\"Index is out of Range Try again.\")"
      ],
      "metadata": {
        "id": "kr-27-LcS0Z3",
        "colab": {
          "base_uri": "https://localhost:8080/"
        },
        "outputId": "ca860ae6-3018-45fc-eb1e-f9b7de396ea5"
      },
      "execution_count": null,
      "outputs": [
        {
          "output_type": "stream",
          "name": "stdout",
          "text": [
            "orange\n"
          ]
        }
      ]
    },
    {
      "cell_type": "markdown",
      "source": [
        "# 3.2 Slicing"
      ],
      "metadata": {
        "id": "_eD6GIhwS6Is"
      }
    },
    {
      "cell_type": "code",
      "source": [
        "my_tuple = (1,5,4,5,4,5,4,52,9,841,52,5,4,5,45)\n",
        "my_tuple[1:5:2]"
      ],
      "metadata": {
        "id": "Ib5OLpVdS_ZM",
        "colab": {
          "base_uri": "https://localhost:8080/"
        },
        "outputId": "5802f419-fb3b-43b2-95f2-12d298c07e54"
      },
      "execution_count": null,
      "outputs": [
        {
          "output_type": "execute_result",
          "data": {
            "text/plain": [
              "(5, 5)"
            ]
          },
          "metadata": {},
          "execution_count": 22
        }
      ]
    },
    {
      "cell_type": "markdown",
      "source": [
        "# 4. Tuple Operations"
      ],
      "metadata": {
        "id": "HxGrJVqFTQN_"
      }
    },
    {
      "cell_type": "markdown",
      "source": [
        "# 4.1 Basic Operations"
      ],
      "metadata": {
        "id": "i5lrcgCLTRch"
      }
    },
    {
      "cell_type": "markdown",
      "source": [
        "# Concatenation with +"
      ],
      "metadata": {
        "id": "SdSzmQ0qTTbn"
      }
    },
    {
      "cell_type": "code",
      "source": [
        "tuple_7 = (1,2,3)\n",
        "tuple_8 = (4,5,6)\n",
        "\n",
        "new_tuple = tuple_7 + tuple_8\n",
        "new_tuple\n"
      ],
      "metadata": {
        "id": "dj7HSjc0TXC7",
        "colab": {
          "base_uri": "https://localhost:8080/"
        },
        "outputId": "20343e01-76df-4c66-eb55-aa82da6e811c"
      },
      "execution_count": null,
      "outputs": [
        {
          "output_type": "execute_result",
          "data": {
            "text/plain": [
              "(1, 2, 3, 4, 5, 6)"
            ]
          },
          "metadata": {},
          "execution_count": 20
        }
      ]
    },
    {
      "cell_type": "markdown",
      "source": [
        "# Repetition with *"
      ],
      "metadata": {
        "id": "1tkqjYGJTZEd"
      }
    },
    {
      "cell_type": "code",
      "source": [
        "tuple_8 = tuple_7 * 3\n",
        "tuple_8"
      ],
      "metadata": {
        "id": "zbwxWw0jTbMg",
        "colab": {
          "base_uri": "https://localhost:8080/"
        },
        "outputId": "bc0e1b66-6edd-43c5-af1f-e8f35a474ce8"
      },
      "execution_count": null,
      "outputs": [
        {
          "output_type": "execute_result",
          "data": {
            "text/plain": [
              "(1, 2, 3, 1, 2, 3, 1, 2, 3)"
            ]
          },
          "metadata": {},
          "execution_count": 23
        }
      ]
    },
    {
      "cell_type": "markdown",
      "source": [
        "# Checking for Membership with in and not in"
      ],
      "metadata": {
        "id": "46XX67sFTc1X"
      }
    },
    {
      "cell_type": "code",
      "source": [
        "99 not in tuple_8"
      ],
      "metadata": {
        "id": "KVNa0gTITfUR",
        "colab": {
          "base_uri": "https://localhost:8080/"
        },
        "outputId": "3868c42a-d830-4540-e9fd-ec6a7c3b6426"
      },
      "execution_count": null,
      "outputs": [
        {
          "output_type": "execute_result",
          "data": {
            "text/plain": [
              "True"
            ]
          },
          "metadata": {},
          "execution_count": 26
        }
      ]
    },
    {
      "cell_type": "markdown",
      "source": [
        "# 4.2 Tuple Comparison"
      ],
      "metadata": {
        "id": "zjZlVioNTgwj"
      }
    },
    {
      "cell_type": "code",
      "source": [
        "tuple_a = (1,2,4,5,6)\n",
        "tuple_b = (1,2,4,5,6,4,5)\n",
        "\n",
        "print(tuple_a == tuple_b)"
      ],
      "metadata": {
        "id": "5ldxsI5WTi5T",
        "colab": {
          "base_uri": "https://localhost:8080/"
        },
        "outputId": "8de30229-343f-4db5-c437-54047217e85d"
      },
      "execution_count": null,
      "outputs": [
        {
          "output_type": "stream",
          "name": "stdout",
          "text": [
            "False\n"
          ]
        }
      ]
    },
    {
      "cell_type": "code",
      "source": [],
      "metadata": {
        "id": "-5HlJtWuTrP0"
      },
      "execution_count": null,
      "outputs": []
    },
    {
      "cell_type": "markdown",
      "source": [
        "# 4.3 Tuple Length"
      ],
      "metadata": {
        "id": "Blkqs9w5Tl2M"
      }
    },
    {
      "cell_type": "code",
      "source": [
        "len()"
      ],
      "metadata": {
        "id": "gPAJu5XdTuPT"
      },
      "execution_count": null,
      "outputs": []
    },
    {
      "cell_type": "markdown",
      "source": [
        "# 5. Tuple Methods"
      ],
      "metadata": {
        "id": "Aqf04vmXTv-z"
      }
    },
    {
      "cell_type": "markdown",
      "source": [
        "# 5.1 Basic Tuple Methods"
      ],
      "metadata": {
        "id": "R5xVDTDUT5VK"
      }
    },
    {
      "cell_type": "markdown",
      "source": [
        "count() Method"
      ],
      "metadata": {
        "id": "xbQIyLvkUAkA"
      }
    },
    {
      "cell_type": "code",
      "source": [
        "tuple_c = (\"a\",\"b\",\"v\",\"a\",\"a\")\n",
        "tuple_c.count((\"a\"))"
      ],
      "metadata": {
        "id": "7iNBXDjcT81V",
        "colab": {
          "base_uri": "https://localhost:8080/"
        },
        "outputId": "6c82b4b6-dfd5-4f6e-a30e-e14e7443df10"
      },
      "execution_count": null,
      "outputs": [
        {
          "output_type": "execute_result",
          "data": {
            "text/plain": [
              "3"
            ]
          },
          "metadata": {},
          "execution_count": 34
        }
      ]
    },
    {
      "cell_type": "markdown",
      "source": [
        "index() Method"
      ],
      "metadata": {
        "id": "OLXvp4enUEeX"
      }
    },
    {
      "cell_type": "code",
      "source": [
        "tuple_c.index(\"z\")"
      ],
      "metadata": {
        "id": "OFyvTXFdUJhm",
        "colab": {
          "base_uri": "https://localhost:8080/",
          "height": 141
        },
        "outputId": "13240786-5afc-4386-ddd5-619bd3f14fc8"
      },
      "execution_count": null,
      "outputs": [
        {
          "output_type": "error",
          "ename": "ValueError",
          "evalue": "tuple.index(x): x not in tuple",
          "traceback": [
            "\u001b[0;31m---------------------------------------------------------------------------\u001b[0m",
            "\u001b[0;31mValueError\u001b[0m                                Traceback (most recent call last)",
            "\u001b[0;32m<ipython-input-37-dfd678b54b71>\u001b[0m in \u001b[0;36m<cell line: 1>\u001b[0;34m()\u001b[0m\n\u001b[0;32m----> 1\u001b[0;31m \u001b[0mtuple_c\u001b[0m\u001b[0;34m.\u001b[0m\u001b[0mindex\u001b[0m\u001b[0;34m(\u001b[0m\u001b[0;34m\"z\"\u001b[0m\u001b[0;34m)\u001b[0m\u001b[0;34m\u001b[0m\u001b[0;34m\u001b[0m\u001b[0m\n\u001b[0m",
            "\u001b[0;31mValueError\u001b[0m: tuple.index(x): x not in tuple"
          ]
        }
      ]
    },
    {
      "cell_type": "markdown",
      "source": [
        "# Handling ValueError with index()"
      ],
      "metadata": {
        "id": "iYS9gwbIULXQ"
      }
    },
    {
      "cell_type": "code",
      "source": [
        "try:\n",
        "  print(tuple_c.index(\"a\"))\n",
        "\n",
        "\n",
        "\n",
        "\n",
        "\n",
        "\n",
        "\n",
        "except :\n",
        "  print(\"Value not found.\")\n",
        "\n"
      ],
      "metadata": {
        "id": "4swZxZKwUQlZ",
        "colab": {
          "base_uri": "https://localhost:8080/"
        },
        "outputId": "ffc1abb7-0011-46a0-a40b-e02d0e9f804e"
      },
      "execution_count": null,
      "outputs": [
        {
          "output_type": "stream",
          "name": "stdout",
          "text": [
            "0\n"
          ]
        }
      ]
    },
    {
      "cell_type": "markdown",
      "source": [
        "# 5.2 Immutable Nature of Tuples"
      ],
      "metadata": {
        "id": "yAvw-kNAUSVI"
      }
    },
    {
      "cell_type": "code",
      "source": [
        "tuple_demo = (\"a\",\"b\",\"z\",\"r\")\n"
      ],
      "metadata": {
        "id": "H1QC8QU1UYX4",
        "colab": {
          "base_uri": "https://localhost:8080/",
          "height": 159
        },
        "outputId": "d5df3656-c1f1-46b6-f6ba-7fbf913ae5b4"
      },
      "execution_count": null,
      "outputs": [
        {
          "output_type": "error",
          "ename": "AttributeError",
          "evalue": "'tuple' object has no attribute 'remove'",
          "traceback": [
            "\u001b[0;31m---------------------------------------------------------------------------\u001b[0m",
            "\u001b[0;31mAttributeError\u001b[0m                            Traceback (most recent call last)",
            "\u001b[0;32m<ipython-input-46-313d4e7e56fa>\u001b[0m in \u001b[0;36m<cell line: 2>\u001b[0;34m()\u001b[0m\n\u001b[1;32m      1\u001b[0m \u001b[0mtuple_demo\u001b[0m \u001b[0;34m=\u001b[0m \u001b[0;34m(\u001b[0m\u001b[0;34m\"a\"\u001b[0m\u001b[0;34m,\u001b[0m\u001b[0;34m\"b\"\u001b[0m\u001b[0;34m,\u001b[0m\u001b[0;34m\"z\"\u001b[0m\u001b[0;34m,\u001b[0m\u001b[0;34m\"r\"\u001b[0m\u001b[0;34m)\u001b[0m\u001b[0;34m\u001b[0m\u001b[0;34m\u001b[0m\u001b[0m\n\u001b[0;32m----> 2\u001b[0;31m \u001b[0mtuple_demo\u001b[0m\u001b[0;34m.\u001b[0m\u001b[0mremove\u001b[0m\u001b[0;34m(\u001b[0m\u001b[0;34m\"b\"\u001b[0m\u001b[0;34m)\u001b[0m\u001b[0;34m\u001b[0m\u001b[0;34m\u001b[0m\u001b[0m\n\u001b[0m",
            "\u001b[0;31mAttributeError\u001b[0m: 'tuple' object has no attribute 'remove'"
          ]
        }
      ]
    },
    {
      "cell_type": "markdown",
      "source": [
        "# Why Tuples Do Not Support Methods like append()"
      ],
      "metadata": {
        "id": "CdsYTa4rUcPE"
      }
    },
    {
      "cell_type": "code",
      "source": [
        "tuple_demo = (\"a\",\"b\",\"z\",\"r\")\n",
        "tuple_b = (\"c\")\n",
        "tuple_demo.extend(tuple_b)\n",
        "tuple_demo"
      ],
      "metadata": {
        "id": "F_zIHNURUZE3",
        "colab": {
          "base_uri": "https://localhost:8080/",
          "height": 193
        },
        "outputId": "ba3e672a-a30a-45ee-a30f-a511329c1ce1"
      },
      "execution_count": null,
      "outputs": [
        {
          "output_type": "error",
          "ename": "AttributeError",
          "evalue": "'tuple' object has no attribute 'extend'",
          "traceback": [
            "\u001b[0;31m---------------------------------------------------------------------------\u001b[0m",
            "\u001b[0;31mAttributeError\u001b[0m                            Traceback (most recent call last)",
            "\u001b[0;32m<ipython-input-49-58bc4d1dd596>\u001b[0m in \u001b[0;36m<cell line: 3>\u001b[0;34m()\u001b[0m\n\u001b[1;32m      1\u001b[0m \u001b[0mtuple_demo\u001b[0m \u001b[0;34m=\u001b[0m \u001b[0;34m(\u001b[0m\u001b[0;34m\"a\"\u001b[0m\u001b[0;34m,\u001b[0m\u001b[0;34m\"b\"\u001b[0m\u001b[0;34m,\u001b[0m\u001b[0;34m\"z\"\u001b[0m\u001b[0;34m,\u001b[0m\u001b[0;34m\"r\"\u001b[0m\u001b[0;34m)\u001b[0m\u001b[0;34m\u001b[0m\u001b[0;34m\u001b[0m\u001b[0m\n\u001b[1;32m      2\u001b[0m \u001b[0mtuple_b\u001b[0m \u001b[0;34m=\u001b[0m \u001b[0;34m(\u001b[0m\u001b[0;34m\"c\"\u001b[0m\u001b[0;34m)\u001b[0m\u001b[0;34m\u001b[0m\u001b[0;34m\u001b[0m\u001b[0m\n\u001b[0;32m----> 3\u001b[0;31m \u001b[0mtuple_demo\u001b[0m\u001b[0;34m.\u001b[0m\u001b[0mextend\u001b[0m\u001b[0;34m(\u001b[0m\u001b[0mtuple_b\u001b[0m\u001b[0;34m)\u001b[0m\u001b[0;34m\u001b[0m\u001b[0;34m\u001b[0m\u001b[0m\n\u001b[0m\u001b[1;32m      4\u001b[0m \u001b[0mtuple_demo\u001b[0m\u001b[0;34m\u001b[0m\u001b[0;34m\u001b[0m\u001b[0m\n",
            "\u001b[0;31mAttributeError\u001b[0m: 'tuple' object has no attribute 'extend'"
          ]
        }
      ]
    },
    {
      "cell_type": "markdown",
      "source": [
        "# Working Around Immutability"
      ],
      "metadata": {
        "id": "4Gric845Ui80"
      }
    },
    {
      "cell_type": "code",
      "source": [],
      "metadata": {
        "id": "M4MYfkdVUkA8"
      },
      "execution_count": null,
      "outputs": []
    },
    {
      "cell_type": "markdown",
      "source": [
        "# 6. Advanced Tuple Operations"
      ],
      "metadata": {
        "id": "pQY0qr8fVKlT"
      }
    },
    {
      "cell_type": "markdown",
      "source": [
        "# 6.1 Nested Tuples"
      ],
      "metadata": {
        "id": "vLs5L3jvVQ44"
      }
    },
    {
      "cell_type": "code",
      "source": [
        "nested_tuples = ((1,2),(3,4),(5,6))\n",
        "nested_tuples[1][0]"
      ],
      "metadata": {
        "id": "kwUgVF2pVTc8",
        "colab": {
          "base_uri": "https://localhost:8080/"
        },
        "outputId": "1580f9e0-7a68-4321-f1d3-91ea03f18c36"
      },
      "execution_count": null,
      "outputs": [
        {
          "output_type": "execute_result",
          "data": {
            "text/plain": [
              "3"
            ]
          },
          "metadata": {},
          "execution_count": 50
        }
      ]
    },
    {
      "cell_type": "code",
      "source": [
        "\n"
      ],
      "metadata": {
        "collapsed": true,
        "id": "rQqT4M6hVVgn"
      },
      "execution_count": null,
      "outputs": []
    },
    {
      "cell_type": "markdown",
      "source": [
        "# When to Choose Tuples Over Lists in Practice\n",
        "\n",
        "*   Fixed and Unchanging Data\n",
        "*   Better Performance for Access and Iteration\n",
        "\n",
        "\n",
        "\n",
        "\n"
      ],
      "metadata": {
        "id": "3yfhEgJkXQoy"
      }
    }
  ]
}