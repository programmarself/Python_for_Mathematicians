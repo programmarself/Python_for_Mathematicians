{
  "cells": [
    {
      "cell_type": "markdown",
      "metadata": {
        "id": "W1F3RsllRkpf"
      },
      "source": [
        "### Accessing/Changing specific elements, rows, columns, etc"
      ]
    },
    {
      "cell_type": "code",
      "execution_count": null,
      "metadata": {
        "colab": {
          "base_uri": "https://localhost:8080/"
        },
        "id": "X4hsjLcmRkpf",
        "outputId": "8f080a42-2725-47be-8ba6-ff5d5b0c65c7"
      },
      "outputs": [
        {
          "output_type": "stream",
          "name": "stdout",
          "text": [
            "[[ 1  2  3  4  5  6  7]\n",
            " [ 8  9 10 11 12 13 14]]\n"
          ]
        }
      ],
      "source": [
        "import numpy as np\n",
        "a = np.array([[1,2,3,4,5,6,7],\n",
        " [8,9,10,11,12,13,14]])\n",
        "\n",
        "print(a)"
      ]
    },
    {
      "cell_type": "code",
      "execution_count": null,
      "metadata": {
        "colab": {
          "base_uri": "https://localhost:8080/"
        },
        "id": "XK8matAdRkpg",
        "outputId": "4fb07e50-45d2-4ade-fd1a-713652a923a6"
      },
      "outputs": [
        {
          "output_type": "execute_result",
          "data": {
            "text/plain": [
              "13"
            ]
          },
          "metadata": {},
          "execution_count": 15
        }
      ],
      "source": [
        "# Get a specific element [r, c]\n",
        "a[1, 5]"
      ]
    },
    {
      "cell_type": "code",
      "execution_count": null,
      "metadata": {
        "colab": {
          "base_uri": "https://localhost:8080/"
        },
        "id": "OyNzn9PMRkpg",
        "outputId": "33b59fda-b410-400c-d25e-30a04cf93161"
      },
      "outputs": [
        {
          "output_type": "execute_result",
          "data": {
            "text/plain": [
              "array([1, 2, 3, 4, 5, 6, 7])"
            ]
          },
          "metadata": {},
          "execution_count": 43
        }
      ],
      "source": [
        "# Get a specific row\n",
        "a[0,:]"
      ]
    },
    {
      "cell_type": "code",
      "execution_count": null,
      "metadata": {
        "colab": {
          "base_uri": "https://localhost:8080/"
        },
        "id": "yYLXpzBKRkpg",
        "outputId": "7514d547-d9d1-46e7-f389-716f228de483"
      },
      "outputs": [
        {
          "output_type": "execute_result",
          "data": {
            "text/plain": [
              "array([ 4, 11])"
            ]
          },
          "metadata": {},
          "execution_count": 14
        }
      ],
      "source": [
        "# Get a specific column\n",
        "a[:,3]\n"
      ]
    },
    {
      "cell_type": "code",
      "execution_count": null,
      "metadata": {
        "colab": {
          "base_uri": "https://localhost:8080/"
        },
        "id": "ht12vFpDRkpg",
        "outputId": "8ab79935-0758-4393-8842-dc688c785e6d"
      },
      "outputs": [
        {
          "output_type": "execute_result",
          "data": {
            "text/plain": [
              "array([2, 5])"
            ]
          },
          "metadata": {},
          "execution_count": 17
        }
      ],
      "source": [
        "# something fancy [startindex:endindex:stepsize]\n",
        "\n",
        "a = np.array([[1,2,3,4,5,6,7],\n",
        "              [8,9,10,11,12,13,14]])\n",
        "\n",
        "a[0, 1:-1: 3]"
      ]
    },
    {
      "cell_type": "code",
      "source": [
        "a[0,5] = 20\n",
        "\n",
        "#: means select all rows, 2 means select column 2 across all rows\n",
        "a[:,2] = [1,2]\n",
        "print(a)\n"
      ],
      "metadata": {
        "colab": {
          "base_uri": "https://localhost:8080/"
        },
        "id": "O5uKXXlbDNdC",
        "outputId": "1ac5ea0c-bfe9-4a4e-dc6c-27c96f56d771"
      },
      "execution_count": null,
      "outputs": [
        {
          "output_type": "stream",
          "name": "stdout",
          "text": [
            "[[ 1  2  1  4  5 20  7]\n",
            " [ 8  9  2 11 12 13 14]]\n"
          ]
        }
      ]
    },
    {
      "cell_type": "markdown",
      "source": [],
      "metadata": {
        "id": "C2M63oqo5Mdg"
      }
    },
    {
      "cell_type": "code",
      "source": [
        "a = np.array([[1,2,3,4,5,6,7],\n",
        "              [8,9,10,11,12,13,14],\n",
        "              [15,16,17,18,19,20,21]])\n",
        "a[1 :,2] = [22] # select row 1 and 2 and in column 2 replace values with 22\n",
        "print(a)"
      ],
      "metadata": {
        "colab": {
          "base_uri": "https://localhost:8080/"
        },
        "id": "iIYxTHWT-ySl",
        "outputId": "308c83a3-1866-44b9-c08f-019cbd9fe654"
      },
      "execution_count": null,
      "outputs": [
        {
          "output_type": "stream",
          "name": "stdout",
          "text": [
            "[[ 1  2  3  4  5  6  7]\n",
            " [ 8  9 22 11 12 13 14]\n",
            " [15 16 22 18 19 20 21]]\n"
          ]
        }
      ]
    },
    {
      "cell_type": "markdown",
      "metadata": {
        "id": "ONpT6uNzRkph"
      },
      "source": [
        "# 3D example"
      ]
    },
    {
      "cell_type": "code",
      "execution_count": null,
      "metadata": {
        "colab": {
          "base_uri": "https://localhost:8080/",
          "height": 158
        },
        "id": "4w4Xs8xBRkph",
        "outputId": "1ff61a02-21ba-49c8-bbdd-d259aadea5c9"
      },
      "outputs": [
        {
          "output_type": "error",
          "ename": "NameError",
          "evalue": "name 'np' is not defined",
          "traceback": [
            "\u001b[0;31m---------------------------------------------------------------------------\u001b[0m",
            "\u001b[0;31mNameError\u001b[0m                                 Traceback (most recent call last)",
            "\u001b[0;32m<ipython-input-1-3d34231adcdd>\u001b[0m in \u001b[0;36m<cell line: 1>\u001b[0;34m()\u001b[0m\n\u001b[0;32m----> 1\u001b[0;31m \u001b[0mb\u001b[0m \u001b[0;34m=\u001b[0m \u001b[0mnp\u001b[0m\u001b[0;34m.\u001b[0m\u001b[0marray\u001b[0m\u001b[0;34m(\u001b[0m\u001b[0;34m[\u001b[0m\u001b[0;34m[\u001b[0m\u001b[0;34m[\u001b[0m\u001b[0;36m1\u001b[0m\u001b[0;34m,\u001b[0m\u001b[0;36m2\u001b[0m\u001b[0;34m]\u001b[0m\u001b[0;34m,\u001b[0m\u001b[0;34m[\u001b[0m\u001b[0;36m3\u001b[0m\u001b[0;34m,\u001b[0m\u001b[0;36m4\u001b[0m\u001b[0;34m]\u001b[0m\u001b[0;34m]\u001b[0m\u001b[0;34m,\u001b[0m  \u001b[0;34m[\u001b[0m\u001b[0;34m[\u001b[0m\u001b[0;36m5\u001b[0m\u001b[0;34m,\u001b[0m\u001b[0;36m6\u001b[0m\u001b[0;34m]\u001b[0m\u001b[0;34m,\u001b[0m\u001b[0;34m[\u001b[0m\u001b[0;36m7\u001b[0m\u001b[0;34m,\u001b[0m\u001b[0;36m8\u001b[0m\u001b[0;34m]\u001b[0m\u001b[0;34m]\u001b[0m\u001b[0;34m]\u001b[0m\u001b[0;34m)\u001b[0m \u001b[0;31m#shape (2,2,2)\u001b[0m\u001b[0;34m\u001b[0m\u001b[0;34m\u001b[0m\u001b[0m\n\u001b[0m\u001b[1;32m      2\u001b[0m \u001b[0mprint\u001b[0m\u001b[0;34m(\u001b[0m\u001b[0mb\u001b[0m\u001b[0;34m)\u001b[0m\u001b[0;34m\u001b[0m\u001b[0;34m\u001b[0m\u001b[0m\n",
            "\u001b[0;31mNameError\u001b[0m: name 'np' is not defined"
          ]
        }
      ],
      "source": [
        "b = np.array([[[1,2],[3,4]],  [[5,6],[7,8]]]) #shape (2,2,2)\n",
        "print(b)"
      ]
    },
    {
      "cell_type": "code",
      "execution_count": null,
      "metadata": {
        "colab": {
          "base_uri": "https://localhost:8080/"
        },
        "id": "TU9qTZUtRkph",
        "outputId": "f9b82af7-8643-43e5-e141-9516e7691ea5"
      },
      "outputs": [
        {
          "output_type": "execute_result",
          "data": {
            "text/plain": [
              "3"
            ]
          },
          "metadata": {},
          "execution_count": 37
        }
      ],
      "source": [
        "# Get specific element # block, row, element(column)\n",
        "b[0,1,0]"
      ]
    },
    {
      "cell_type": "code",
      "execution_count": null,
      "metadata": {
        "colab": {
          "base_uri": "https://localhost:8080/"
        },
        "id": "sVyF5wtfRkph",
        "outputId": "fa1ecc5b-866d-4404-eb51-ce09b0dd4e76"
      },
      "outputs": [
        {
          "output_type": "stream",
          "name": "stdout",
          "text": [
            "[[[9 9]\n",
            "  [3 4]]\n",
            "\n",
            " [[8 8]\n",
            "  [7 8]]]\n"
          ]
        }
      ],
      "source": [
        "# replace : select all blocks, 1 select second row of each block, : all elements in the second row\n",
        "b[:,0,:] =[[9,9],[8,8]]\n",
        "print(b)"
      ]
    },
    {
      "cell_type": "markdown",
      "metadata": {
        "id": "tcaCzGvtRkph"
      },
      "source": [
        "### Initializing Different Types of Arrays"
      ]
    },
    {
      "cell_type": "code",
      "execution_count": null,
      "metadata": {
        "id": "CN4ML1vvRkpi",
        "colab": {
          "base_uri": "https://localhost:8080/"
        },
        "outputId": "8263cbae-fbfd-408e-f292-ebe34471179c"
      },
      "outputs": [
        {
          "output_type": "execute_result",
          "data": {
            "text/plain": [
              "array([[0., 0., 0.],\n",
              "       [0., 0., 0.]])"
            ]
          },
          "metadata": {},
          "execution_count": 26
        }
      ],
      "source": [
        "# All 0s matrix\n",
        "np.zeros((2,3),)"
      ]
    },
    {
      "cell_type": "code",
      "execution_count": null,
      "metadata": {
        "id": "vJEfnc9KRkpi",
        "colab": {
          "base_uri": "https://localhost:8080/"
        },
        "outputId": "5b795f7c-0a7c-4afc-c5fd-91b7f4b138cc"
      },
      "outputs": [
        {
          "output_type": "execute_result",
          "data": {
            "text/plain": [
              "array([[[1, 1],\n",
              "        [1, 1]],\n",
              "\n",
              "       [[1, 1],\n",
              "        [1, 1]],\n",
              "\n",
              "       [[1, 1],\n",
              "        [1, 1]],\n",
              "\n",
              "       [[1, 1],\n",
              "        [1, 1]]], dtype=int32)"
            ]
          },
          "metadata": {},
          "execution_count": 13
        }
      ],
      "source": [
        "# All 1s matrix\n",
        "np.ones((4,2,2), dtype='int32')"
      ]
    },
    {
      "cell_type": "code",
      "execution_count": null,
      "metadata": {
        "id": "_eJDFQADRkpi",
        "colab": {
          "base_uri": "https://localhost:8080/"
        },
        "outputId": "6f3d7acb-c904-4921-c993-d8134878a061"
      },
      "outputs": [
        {
          "output_type": "execute_result",
          "data": {
            "text/plain": [
              "array([[ 0, 99],\n",
              "       [ 0, 99]])"
            ]
          },
          "metadata": {},
          "execution_count": 32
        }
      ],
      "source": [
        "# Any other number (full Return a new array of given shape and type, filled with fill_value.)\n",
        "import numpy as np\n",
        "np.full((2,2), [0,99])"
      ]
    },
    {
      "cell_type": "code",
      "execution_count": null,
      "metadata": {
        "id": "VLNnrp3SRkpi",
        "colab": {
          "base_uri": "https://localhost:8080/"
        },
        "outputId": "57104e62-88ad-4ea2-c641-016b10ce4d32"
      },
      "outputs": [
        {
          "output_type": "execute_result",
          "data": {
            "text/plain": [
              "array([0.86866521, 0.08102415, 0.42503109, 0.34238033, 0.32093907,\n",
              "       0.57530535])"
            ]
          },
          "metadata": {},
          "execution_count": 30
        }
      ],
      "source": [
        "# Random decimal numbers between 0 and 1, try two arguments, first will give you an error and then do it with tuple\n",
        "np.random.random(6)"
      ]
    },
    {
      "cell_type": "code",
      "execution_count": null,
      "metadata": {
        "id": "GKW-IBQ3Rkpi",
        "colab": {
          "base_uri": "https://localhost:8080/"
        },
        "outputId": "be937c8c-e533-4adb-c27a-589753df8700"
      },
      "outputs": [
        {
          "output_type": "execute_result",
          "data": {
            "text/plain": [
              "array([[-3,  0],\n",
              "       [ 1, -4],\n",
              "       [-3,  0]])"
            ]
          },
          "metadata": {},
          "execution_count": 38
        }
      ],
      "source": [
        "#Random Integer values\n",
        "#low: The inclusive lower bound of the random integers.\n",
        "#high: The exclusive upper bound of the random integers (if None, it will be assumed to be equal to low, and the result will be 0).\n",
        "#size: The shape of the output array.\n",
        "\n",
        "np.random.randint(-4,2 , size=(3,2))"
      ]
    },
    {
      "cell_type": "markdown",
      "source": [
        "An identity matrix is a square matrix where:\n",
        "The diagonal elements are 1.\n",
        "All off-diagonal elements are 0."
      ],
      "metadata": {
        "id": "9AhMF1C1ODmY"
      }
    },
    {
      "cell_type": "code",
      "execution_count": null,
      "metadata": {
        "id": "fz440yYNRkpi",
        "colab": {
          "base_uri": "https://localhost:8080/"
        },
        "outputId": "8ea985cf-bfc5-4bee-ab7e-6c02face51ea"
      },
      "outputs": [
        {
          "output_type": "execute_result",
          "data": {
            "text/plain": [
              "array([[1., 0., 0., 0., 0., 0.],\n",
              "       [0., 1., 0., 0., 0., 0.],\n",
              "       [0., 0., 1., 0., 0., 0.],\n",
              "       [0., 0., 0., 1., 0., 0.],\n",
              "       [0., 0., 0., 0., 1., 0.],\n",
              "       [0., 0., 0., 0., 0., 1.]])"
            ]
          },
          "metadata": {},
          "execution_count": 45
        }
      ],
      "source": [
        "# The identity matrix\n",
        "np.identity(6)"
      ]
    },
    {
      "cell_type": "markdown",
      "source": [
        "a: The input array that you want to repeat elements from.\n",
        "repeats: The number of times each element (or block of elements) should be repeated.\n",
        "axis: The axis along which to repeat the values. If None, the array is flattened before repeating."
      ],
      "metadata": {
        "id": "Vmr6JkaqQKrP"
      }
    },
    {
      "cell_type": "code",
      "execution_count": null,
      "metadata": {
        "id": "FAUH35XmRkpi",
        "colab": {
          "base_uri": "https://localhost:8080/"
        },
        "outputId": "3ea10e40-83ef-4c51-dd9c-6da1d470f19a"
      },
      "outputs": [
        {
          "output_type": "stream",
          "name": "stdout",
          "text": [
            "[[1 2 3]\n",
            " [1 2 3]\n",
            " [1 2 3]]\n"
          ]
        }
      ],
      "source": [
        "# Repeat an array\n",
        "arr = np.array([[1,2,3]])\n",
        "r1 = np.repeat(arr,3, axis=0)\n",
        "print(r1)"
      ]
    },
    {
      "cell_type": "markdown",
      "source": [
        "In this case, the values within each row are repeated 3 times, so we get 9 values in total, expanding horizontally."
      ],
      "metadata": {
        "id": "KOyyOXqJRa1M"
      }
    },
    {
      "cell_type": "code",
      "source": [
        "arr = np.array([[1, 2, 3]])\n",
        "r2 = np.repeat(arr, 3, axis=1)\n",
        "print(r2)\n"
      ],
      "metadata": {
        "colab": {
          "base_uri": "https://localhost:8080/"
        },
        "id": "YSEo0U-qRWSM",
        "outputId": "8b2750f2-e5c7-4f0e-e8a8-d3b957794824"
      },
      "execution_count": null,
      "outputs": [
        {
          "output_type": "stream",
          "name": "stdout",
          "text": [
            "[[1 1 1 2 2 2 3 3 3]]\n"
          ]
        }
      ]
    },
    {
      "cell_type": "markdown",
      "source": [
        "Example 3: Repeating Elements Without Axis (axis=None)\n",
        "If axis is not specified, or set to None, the array is flattened, and then elements are repeated across the entire array."
      ],
      "metadata": {
        "id": "RuyfyQhvRcE2"
      }
    },
    {
      "cell_type": "code",
      "source": [
        "arr = np.array([[1, 2, 3], [4, 5, 6]])\n",
        "r3 = np.repeat(arr, 2, axis=1)\n",
        "print(r3)\n"
      ],
      "metadata": {
        "colab": {
          "base_uri": "https://localhost:8080/"
        },
        "id": "diIr_GTNRfRk",
        "outputId": "755ba119-c0d0-4e36-8569-86f5abcfe38d"
      },
      "execution_count": null,
      "outputs": [
        {
          "output_type": "stream",
          "name": "stdout",
          "text": [
            "[[1 1 2 2 3 3]\n",
            " [4 4 5 5 6 6]]\n"
          ]
        }
      ]
    },
    {
      "cell_type": "code",
      "source": [
        "arr = np.array([[1, 2], [3, 4], [5, 6]])\n",
        "r4 = np.repeat(arr, 2, axis=0)\n",
        "print(r4)\n"
      ],
      "metadata": {
        "colab": {
          "base_uri": "https://localhost:8080/"
        },
        "id": "tYbNVaGvSenc",
        "outputId": "0f4fb0bf-e5ce-4a02-cdfd-f2ccd24576a8"
      },
      "execution_count": null,
      "outputs": [
        {
          "output_type": "stream",
          "name": "stdout",
          "text": [
            "[[1 2]\n",
            " [1 2]\n",
            " [3 4]\n",
            " [3 4]\n",
            " [5 6]\n",
            " [5 6]]\n"
          ]
        }
      ]
    },
    {
      "cell_type": "markdown",
      "metadata": {
        "id": "Y9lfXEX7Rkpj"
      },
      "source": [
        "##### Be careful when copying arrays!!!"
      ]
    },
    {
      "cell_type": "code",
      "source": [
        "#shallow copy\n",
        "a = np.array([1,2,3])\n",
        "b = a\n",
        "b[0] = 100\n",
        "print(a)\n",
        "print(b)"
      ],
      "metadata": {
        "colab": {
          "base_uri": "https://localhost:8080/"
        },
        "id": "KmBMI3nhTjck",
        "outputId": "02d4851b-c874-4270-b3fe-3fd2470983e8"
      },
      "execution_count": null,
      "outputs": [
        {
          "output_type": "stream",
          "name": "stdout",
          "text": [
            "[100   2   3]\n",
            "[100   2   3]\n"
          ]
        }
      ]
    },
    {
      "cell_type": "code",
      "execution_count": null,
      "metadata": {
        "id": "GgaRi5gVRkpj",
        "colab": {
          "base_uri": "https://localhost:8080/"
        },
        "outputId": "894aaeca-abf1-4445-cb97-36745831c2f1"
      },
      "outputs": [
        {
          "output_type": "stream",
          "name": "stdout",
          "text": [
            "[1 2 3]\n",
            "[100   2   3]\n"
          ]
        }
      ],
      "source": [
        "#deep copy\n",
        "a = np.array([1,2,3])\n",
        "b = a.copy()\n",
        "b[0] = 100\n",
        "print(a)\n",
        "print(b)"
      ]
    },
    {
      "cell_type": "code",
      "execution_count": null,
      "metadata": {
        "id": "sfkbOCykRkpj",
        "colab": {
          "base_uri": "https://localhost:8080/"
        },
        "outputId": "686c075b-f252-447e-c058-f11891b51510"
      },
      "outputs": [
        {
          "output_type": "stream",
          "name": "stdout",
          "text": [
            "[ 5 12 21 32]\n"
          ]
        }
      ],
      "source": [
        "a = np.array([1,2,3,4])\n",
        "b = np.array([5,6,7,8])\n",
        "\n",
        "print(a*b)"
      ]
    }
  ],
  "metadata": {
    "kernelspec": {
      "display_name": "Python 3",
      "language": "python",
      "name": "python3"
    },
    "language_info": {
      "codemirror_mode": {
        "name": "ipython",
        "version": 3
      },
      "file_extension": ".py",
      "mimetype": "text/x-python",
      "name": "python",
      "nbconvert_exporter": "python",
      "pygments_lexer": "ipython3",
      "version": "3.6.5"
    },
    "colab": {
      "provenance": []
    }
  },
  "nbformat": 4,
  "nbformat_minor": 0
}