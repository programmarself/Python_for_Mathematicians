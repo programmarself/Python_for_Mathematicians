{
  "nbformat": 4,
  "nbformat_minor": 0,
  "metadata": {
    "colab": {
      "provenance": []
    },
    "kernelspec": {
      "name": "python3",
      "display_name": "Python 3"
    },
    "language_info": {
      "name": "python"
    }
  },
  "cells": [
    {
      "cell_type": "markdown",
      "source": [
        "# 1. Introduction to Sets\n",
        "\n",
        "A set is an unordered, mutable collection of unique elements in Python, meaning no duplicates are allowed."
      ],
      "metadata": {
        "id": "t-ZK9O1CgRsZ"
      }
    },
    {
      "cell_type": "markdown",
      "source": [
        "# Differences between Sets, Lists, and Tuples\n",
        "\n",
        "1. Lists are ordered, allow duplicates, and are mutable.\n",
        "2. Tuples are ordered, allow duplicates, but are immutable.\n",
        "3. Sets are unordered, do not allow duplicates, and are mutable."
      ],
      "metadata": {
        "id": "j6u4mE3YgcqW"
      }
    },
    {
      "cell_type": "markdown",
      "source": [
        "# 2. Creating Sets"
      ],
      "metadata": {
        "id": "J1xE9gUBgpKB"
      }
    },
    {
      "cell_type": "markdown",
      "source": [
        "## Using Curly `Braces {}` and the `set()` Function"
      ],
      "metadata": {
        "id": "UdsisQArgqjz"
      }
    },
    {
      "cell_type": "code",
      "execution_count": null,
      "metadata": {
        "id": "6I_U3v49gPDv"
      },
      "outputs": [],
      "source": [
        "my_set  = {1,2,3}\n",
        "\n",
        "my_set = set()"
      ]
    },
    {
      "cell_type": "markdown",
      "source": [
        "# 3. Accessing Elements in a Set"
      ],
      "metadata": {
        "id": "JhFum8txg4Km"
      }
    },
    {
      "cell_type": "code",
      "source": [
        "my_set  = {1,2,3}\n",
        "\n",
        "print(my_set[1])\n",
        "for elem in my_set:\n",
        "  print(elem)\n"
      ],
      "metadata": {
        "id": "daO1BlT4hAUY",
        "colab": {
          "base_uri": "https://localhost:8080/",
          "height": 211
        },
        "outputId": "ff6f7c0d-85bd-44e7-baba-02b63c1aa1bb"
      },
      "execution_count": null,
      "outputs": [
        {
          "output_type": "error",
          "ename": "TypeError",
          "evalue": "'set' object is not subscriptable",
          "traceback": [
            "\u001b[0;31m---------------------------------------------------------------------------\u001b[0m",
            "\u001b[0;31mTypeError\u001b[0m                                 Traceback (most recent call last)",
            "\u001b[0;32m<ipython-input-4-e23a6f70e99b>\u001b[0m in \u001b[0;36m<cell line: 3>\u001b[0;34m()\u001b[0m\n\u001b[1;32m      1\u001b[0m \u001b[0mmy_set\u001b[0m  \u001b[0;34m=\u001b[0m \u001b[0;34m{\u001b[0m\u001b[0;36m1\u001b[0m\u001b[0;34m,\u001b[0m\u001b[0;36m2\u001b[0m\u001b[0;34m,\u001b[0m\u001b[0;36m3\u001b[0m\u001b[0;34m}\u001b[0m\u001b[0;34m\u001b[0m\u001b[0;34m\u001b[0m\u001b[0m\n\u001b[1;32m      2\u001b[0m \u001b[0;34m\u001b[0m\u001b[0m\n\u001b[0;32m----> 3\u001b[0;31m \u001b[0mprint\u001b[0m\u001b[0;34m(\u001b[0m\u001b[0mmy_set\u001b[0m\u001b[0;34m[\u001b[0m\u001b[0;36m1\u001b[0m\u001b[0;34m]\u001b[0m\u001b[0;34m)\u001b[0m\u001b[0;34m\u001b[0m\u001b[0;34m\u001b[0m\u001b[0m\n\u001b[0m\u001b[1;32m      4\u001b[0m \u001b[0;32mfor\u001b[0m \u001b[0melem\u001b[0m \u001b[0;32min\u001b[0m \u001b[0mmy_set\u001b[0m\u001b[0;34m:\u001b[0m\u001b[0;34m\u001b[0m\u001b[0;34m\u001b[0m\u001b[0m\n\u001b[1;32m      5\u001b[0m   \u001b[0mprint\u001b[0m\u001b[0;34m(\u001b[0m\u001b[0melem\u001b[0m\u001b[0;34m)\u001b[0m\u001b[0;34m\u001b[0m\u001b[0;34m\u001b[0m\u001b[0m\n",
            "\u001b[0;31mTypeError\u001b[0m: 'set' object is not subscriptable"
          ]
        }
      ]
    },
    {
      "cell_type": "code",
      "source": [
        "set1 = [{1,2,3,4}]\n",
        "\n",
        "for elem in set1:\n",
        "  for i in elem:\n",
        "    print(i)"
      ],
      "metadata": {
        "colab": {
          "base_uri": "https://localhost:8080/"
        },
        "id": "XBaVT2eKCz2M",
        "outputId": "422b4398-3e2c-42ee-d371-77fcbd79ef67"
      },
      "execution_count": null,
      "outputs": [
        {
          "output_type": "stream",
          "name": "stdout",
          "text": [
            "1\n",
            "2\n",
            "3\n",
            "4\n"
          ]
        }
      ]
    },
    {
      "cell_type": "markdown",
      "source": [
        "# 4. Basic Set Operations"
      ],
      "metadata": {
        "id": "GalbihethA7Q"
      }
    },
    {
      "cell_type": "markdown",
      "source": [
        "## 1. Adding an Element with add()\n",
        "\n",
        "The add() method allows you to add a single element to a set. If the element is already in the set, it won’t be added again, as sets do not allow duplicates."
      ],
      "metadata": {
        "id": "Rp-73mdWhU-j"
      }
    },
    {
      "cell_type": "code",
      "source": [
        "fruits  ={\"Apple\",\"acherry\",\"banana\"}\n",
        "\n",
        "fruits.add((\"a\",\"95\"))\n",
        "fruits"
      ],
      "metadata": {
        "id": "UNMEh5fQhXO_",
        "colab": {
          "base_uri": "https://localhost:8080/"
        },
        "outputId": "e1ca9a56-eefa-4b23-c981-fa23865bda6a"
      },
      "execution_count": null,
      "outputs": [
        {
          "output_type": "execute_result",
          "data": {
            "text/plain": [
              "{('a', '95'), 'Apple', 'acherry', 'banana'}"
            ]
          },
          "metadata": {},
          "execution_count": 29
        }
      ]
    },
    {
      "cell_type": "markdown",
      "source": [
        "## 2. Removing an Element with remove()\n",
        "The remove() method removes a specified element from the set. If the element does not exist, it raises a KeyError."
      ],
      "metadata": {
        "id": "F4F_GfRXhjQb"
      }
    },
    {
      "cell_type": "code",
      "source": [
        "fruits.remove(\"banana\")\n",
        "fruits"
      ],
      "metadata": {
        "id": "b3cTeOqlhmac",
        "colab": {
          "base_uri": "https://localhost:8080/",
          "height": 159
        },
        "outputId": "de31012e-b6be-48d7-8e16-d9a47a513012"
      },
      "execution_count": null,
      "outputs": [
        {
          "output_type": "error",
          "ename": "KeyError",
          "evalue": "'banana'",
          "traceback": [
            "\u001b[0;31m---------------------------------------------------------------------------\u001b[0m",
            "\u001b[0;31mKeyError\u001b[0m                                  Traceback (most recent call last)",
            "\u001b[0;32m<ipython-input-15-98bdd7e13118>\u001b[0m in \u001b[0;36m<cell line: 1>\u001b[0;34m()\u001b[0m\n\u001b[0;32m----> 1\u001b[0;31m \u001b[0mfruits\u001b[0m\u001b[0;34m.\u001b[0m\u001b[0mremove\u001b[0m\u001b[0;34m(\u001b[0m\u001b[0;34m\"banana\"\u001b[0m\u001b[0;34m)\u001b[0m\u001b[0;34m\u001b[0m\u001b[0;34m\u001b[0m\u001b[0m\n\u001b[0m\u001b[1;32m      2\u001b[0m \u001b[0mfruits\u001b[0m\u001b[0;34m\u001b[0m\u001b[0;34m\u001b[0m\u001b[0m\n",
            "\u001b[0;31mKeyError\u001b[0m: 'banana'"
          ]
        }
      ]
    },
    {
      "cell_type": "markdown",
      "source": [
        "## 3. Removing an Element with discard()\n",
        "The discard() method also removes a specified element, but if the element does not exist, it will not raise an error. This is useful for avoiding potential exceptions."
      ],
      "metadata": {
        "id": "R1hIkhUrhoiR"
      }
    },
    {
      "cell_type": "code",
      "source": [
        "fruits.discard(\"apple\")\n",
        "fruits"
      ],
      "metadata": {
        "id": "1-lBd6sOhsaw",
        "colab": {
          "base_uri": "https://localhost:8080/"
        },
        "outputId": "4cc4c589-136a-4e56-a944-c53e40fc89e4"
      },
      "execution_count": null,
      "outputs": [
        {
          "output_type": "execute_result",
          "data": {
            "text/plain": [
              "{'cherry', 'orange'}"
            ]
          },
          "metadata": {},
          "execution_count": 19
        }
      ]
    },
    {
      "cell_type": "markdown",
      "source": [
        "## 4. Removing a Random Element with pop()\n",
        "The pop() method removes and returns a random element from the set. Since sets are unordered, there’s no guarantee about which element is removed. This can be useful when you need to process or remove items one at a time."
      ],
      "metadata": {
        "id": "oHRCxdT7h5kb"
      }
    },
    {
      "cell_type": "code",
      "source": [
        "fruits  ={\"Apple\",\"acherry\",\"banana\",\"bc\",\"dbc\",\"mg\"}\n",
        "removed_element = fruits.pop()\n",
        "removed_element"
      ],
      "metadata": {
        "id": "5MgyY20Ih7Y3",
        "colab": {
          "base_uri": "https://localhost:8080/",
          "height": 176
        },
        "outputId": "ac31a306-e667-4154-81c5-93618e9beaa0"
      },
      "execution_count": null,
      "outputs": [
        {
          "output_type": "error",
          "ename": "TypeError",
          "evalue": "set.pop() takes no arguments (1 given)",
          "traceback": [
            "\u001b[0;31m---------------------------------------------------------------------------\u001b[0m",
            "\u001b[0;31mTypeError\u001b[0m                                 Traceback (most recent call last)",
            "\u001b[0;32m<ipython-input-36-5307b24487d9>\u001b[0m in \u001b[0;36m<cell line: 2>\u001b[0;34m()\u001b[0m\n\u001b[1;32m      1\u001b[0m \u001b[0mfruits\u001b[0m  \u001b[0;34m=\u001b[0m\u001b[0;34m{\u001b[0m\u001b[0;34m\"Apple\"\u001b[0m\u001b[0;34m,\u001b[0m\u001b[0;34m\"acherry\"\u001b[0m\u001b[0;34m,\u001b[0m\u001b[0;34m\"banana\"\u001b[0m\u001b[0;34m,\u001b[0m\u001b[0;34m\"bc\"\u001b[0m\u001b[0;34m,\u001b[0m\u001b[0;34m\"dbc\"\u001b[0m\u001b[0;34m,\u001b[0m\u001b[0;34m\"mg\"\u001b[0m\u001b[0;34m}\u001b[0m\u001b[0;34m\u001b[0m\u001b[0;34m\u001b[0m\u001b[0m\n\u001b[0;32m----> 2\u001b[0;31m \u001b[0mremoved_element\u001b[0m \u001b[0;34m=\u001b[0m \u001b[0mfruits\u001b[0m\u001b[0;34m.\u001b[0m\u001b[0mpop\u001b[0m\u001b[0;34m(\u001b[0m\u001b[0;34m\"Apple\"\u001b[0m\u001b[0;34m)\u001b[0m\u001b[0;34m\u001b[0m\u001b[0;34m\u001b[0m\u001b[0m\n\u001b[0m\u001b[1;32m      3\u001b[0m \u001b[0mremoved_element\u001b[0m\u001b[0;34m\u001b[0m\u001b[0;34m\u001b[0m\u001b[0m\n",
            "\u001b[0;31mTypeError\u001b[0m: set.pop() takes no arguments (1 given)"
          ]
        }
      ]
    },
    {
      "cell_type": "markdown",
      "source": [
        "## 5. Clearing the Set with clear()\n",
        "The clear() method removes all elements from the set, making it an empty set."
      ],
      "metadata": {
        "id": "cOrMJn38h-6Q"
      }
    },
    {
      "cell_type": "code",
      "source": [
        "fruits.clear()\n",
        "fruits"
      ],
      "metadata": {
        "id": "LJgH9AhPiC5h",
        "colab": {
          "base_uri": "https://localhost:8080/"
        },
        "outputId": "163aa085-09aa-4bb4-a41e-a81ee0cd1e6d"
      },
      "execution_count": null,
      "outputs": [
        {
          "output_type": "execute_result",
          "data": {
            "text/plain": [
              "set()"
            ]
          },
          "metadata": {},
          "execution_count": 37
        }
      ]
    },
    {
      "cell_type": "markdown",
      "source": [
        "# 5. Set Operations and Mathematical Relations"
      ],
      "metadata": {
        "id": "crFZSjn2iUx5"
      }
    },
    {
      "cell_type": "markdown",
      "source": [
        "## union(): Combining Sets\n",
        "\n",
        "The union() method returns a new set that contains all unique elements from both sets."
      ],
      "metadata": {
        "id": "itAJYJ3ASUjU"
      }
    },
    {
      "cell_type": "code",
      "source": [
        "set_a = {1,2,3}\n",
        "set_b = {3,4,5}\n",
        "\n",
        "union_set = set_a.union(set_b)\n",
        "print(set_a)\n",
        "print(set_b)\n",
        "print(union_set)"
      ],
      "metadata": {
        "id": "T1J0TVEZSZum",
        "colab": {
          "base_uri": "https://localhost:8080/"
        },
        "outputId": "6695c73f-00b6-4e6e-af16-30497fac2701"
      },
      "execution_count": null,
      "outputs": [
        {
          "output_type": "stream",
          "name": "stdout",
          "text": [
            "{1, 2, 3}\n",
            "{3, 4, 5}\n",
            "{1, 2, 3, 4, 5}\n"
          ]
        }
      ]
    },
    {
      "cell_type": "markdown",
      "source": [
        "Alternatively, you can use the | operator:"
      ],
      "metadata": {
        "id": "A-ZNuVdqSbDN"
      }
    },
    {
      "cell_type": "code",
      "source": [
        "set_a = {1,2,3}\n",
        "set_b = {3,4,5}\n",
        "\n",
        "union =  set_b + set_a\n",
        "print(set_a)\n",
        "print(set_b)\n",
        "print(union_set)"
      ],
      "metadata": {
        "id": "Px4qkLyOSf6J",
        "colab": {
          "base_uri": "https://localhost:8080/",
          "height": 211
        },
        "outputId": "5c26e0e1-e4c8-4536-9830-1cbb25239739"
      },
      "execution_count": null,
      "outputs": [
        {
          "output_type": "error",
          "ename": "TypeError",
          "evalue": "unsupported operand type(s) for +: 'set' and 'set'",
          "traceback": [
            "\u001b[0;31m---------------------------------------------------------------------------\u001b[0m",
            "\u001b[0;31mTypeError\u001b[0m                                 Traceback (most recent call last)",
            "\u001b[0;32m<ipython-input-49-dfca327e086d>\u001b[0m in \u001b[0;36m<cell line: 4>\u001b[0;34m()\u001b[0m\n\u001b[1;32m      2\u001b[0m \u001b[0mset_b\u001b[0m \u001b[0;34m=\u001b[0m \u001b[0;34m{\u001b[0m\u001b[0;36m3\u001b[0m\u001b[0;34m,\u001b[0m\u001b[0;36m4\u001b[0m\u001b[0;34m,\u001b[0m\u001b[0;36m5\u001b[0m\u001b[0;34m}\u001b[0m\u001b[0;34m\u001b[0m\u001b[0;34m\u001b[0m\u001b[0m\n\u001b[1;32m      3\u001b[0m \u001b[0;34m\u001b[0m\u001b[0m\n\u001b[0;32m----> 4\u001b[0;31m \u001b[0munion\u001b[0m \u001b[0;34m=\u001b[0m  \u001b[0mset_b\u001b[0m \u001b[0;34m+\u001b[0m \u001b[0mset_a\u001b[0m\u001b[0;34m\u001b[0m\u001b[0;34m\u001b[0m\u001b[0m\n\u001b[0m\u001b[1;32m      5\u001b[0m \u001b[0mprint\u001b[0m\u001b[0;34m(\u001b[0m\u001b[0mset_a\u001b[0m\u001b[0;34m)\u001b[0m\u001b[0;34m\u001b[0m\u001b[0;34m\u001b[0m\u001b[0m\n\u001b[1;32m      6\u001b[0m \u001b[0mprint\u001b[0m\u001b[0;34m(\u001b[0m\u001b[0mset_b\u001b[0m\u001b[0;34m)\u001b[0m\u001b[0;34m\u001b[0m\u001b[0;34m\u001b[0m\u001b[0m\n",
            "\u001b[0;31mTypeError\u001b[0m: unsupported operand type(s) for +: 'set' and 'set'"
          ]
        }
      ]
    },
    {
      "cell_type": "markdown",
      "source": [
        "## intersection(): Finding Common Elements\n",
        "The intersection() method returns a set containing only elements that are present in both sets."
      ],
      "metadata": {
        "id": "6Y-yf4SmSiCW"
      }
    },
    {
      "cell_type": "code",
      "source": [
        "set_a = {1,2,3,4,5,'a',\"b\"}\n",
        "set_b = {3,4,5,\"a\"}\n",
        "\n",
        "intersection = set_a.intersection(set_b)\n",
        "intersection"
      ],
      "metadata": {
        "id": "z5mTTGE5SzFa",
        "colab": {
          "base_uri": "https://localhost:8080/"
        },
        "outputId": "9568bbf4-080b-4377-e2ce-f0ae850fc0f4"
      },
      "execution_count": null,
      "outputs": [
        {
          "output_type": "execute_result",
          "data": {
            "text/plain": [
              "{3, 4, 5, 'a'}"
            ]
          },
          "metadata": {},
          "execution_count": 47
        }
      ]
    },
    {
      "cell_type": "markdown",
      "source": [
        "Or using the & operator:"
      ],
      "metadata": {
        "id": "VZOidbXqSoqK"
      }
    },
    {
      "cell_type": "code",
      "source": [
        "set_a = {1,2,3,4,5,'a',\"b\"}\n",
        "set_b = {3,4,5,\"a\"}\n",
        "\n",
        "intersection = set_a & set_b\n",
        "intersection\n"
      ],
      "metadata": {
        "id": "6vZtybiXS2FO",
        "colab": {
          "base_uri": "https://localhost:8080/"
        },
        "outputId": "3f1cf70d-bfe6-41bc-bbc2-f524af0e073c"
      },
      "execution_count": null,
      "outputs": [
        {
          "output_type": "execute_result",
          "data": {
            "text/plain": [
              "{3, 4, 5, 'a'}"
            ]
          },
          "metadata": {},
          "execution_count": 48
        }
      ]
    },
    {
      "cell_type": "markdown",
      "source": [
        "## difference(): Finding Unique Elements\n",
        "The difference() method returns elements that are in the first set but not in the second."
      ],
      "metadata": {
        "id": "pPIliaPdS3yT"
      }
    },
    {
      "cell_type": "code",
      "source": [
        "set_a = {1,2,3}\n",
        "set_b = {3,4,5}\n",
        "\n",
        "diff_set = set_a.difference(set_b)\n",
        "diff_set"
      ],
      "metadata": {
        "id": "R5SCniCpS6xj",
        "colab": {
          "base_uri": "https://localhost:8080/"
        },
        "outputId": "262be787-722d-4fd7-f3da-067e8ec17815"
      },
      "execution_count": null,
      "outputs": [
        {
          "output_type": "execute_result",
          "data": {
            "text/plain": [
              "{1, 2}"
            ]
          },
          "metadata": {},
          "execution_count": 50
        }
      ]
    },
    {
      "cell_type": "markdown",
      "source": [
        "Or with the - operator:"
      ],
      "metadata": {
        "id": "jyGDswWkS9KB"
      }
    },
    {
      "cell_type": "code",
      "source": [
        "set_a = {1,2,3}\n",
        "set_b = {3,4,5}\n",
        "\n",
        "diff_set = set_a - set_b\n",
        "diff_set\n"
      ],
      "metadata": {
        "id": "O4OsLHYnS_CF",
        "colab": {
          "base_uri": "https://localhost:8080/"
        },
        "outputId": "8fbb7665-c9f1-4942-a319-c0facacc20e7"
      },
      "execution_count": null,
      "outputs": [
        {
          "output_type": "execute_result",
          "data": {
            "text/plain": [
              "{1, 2}"
            ]
          },
          "metadata": {},
          "execution_count": 51
        }
      ]
    },
    {
      "cell_type": "markdown",
      "source": [
        "## symmetric_difference(): Finding Non-Common Elements\n",
        "\n",
        "The symmetric_difference() method returns a set with elements that are in either of the sets but not in both."
      ],
      "metadata": {
        "id": "gGQ0guOoTAVF"
      }
    },
    {
      "cell_type": "code",
      "source": [
        "set_a = {1,2,3}\n",
        "set_b = {3,4,5}\n",
        "\n",
        "diff_set = set_a.symmetric_difference(set_b)\n",
        "diff_set\n"
      ],
      "metadata": {
        "id": "HUnf1fu8TGDc",
        "colab": {
          "base_uri": "https://localhost:8080/"
        },
        "outputId": "2c01b5e0-7c72-4352-eb1b-a0fe0a09a75b"
      },
      "execution_count": null,
      "outputs": [
        {
          "output_type": "execute_result",
          "data": {
            "text/plain": [
              "{1, 2, 4, 5}"
            ]
          },
          "metadata": {},
          "execution_count": 52
        }
      ]
    },
    {
      "cell_type": "markdown",
      "source": [
        "Or with the ^ operator:"
      ],
      "metadata": {
        "id": "EBQE0lKmTIi0"
      }
    },
    {
      "cell_type": "code",
      "source": [
        "\n",
        "set_a = {1,2,3}\n",
        "set_b = {3,4,5}\n",
        "\n",
        "diff_set = set_a ^ set_b\n",
        "diff_set"
      ],
      "metadata": {
        "id": "qNS6Q3YTTJCd",
        "colab": {
          "base_uri": "https://localhost:8080/"
        },
        "outputId": "9a0f39ff-5551-4922-b56a-f50925c62cc4"
      },
      "execution_count": null,
      "outputs": [
        {
          "output_type": "execute_result",
          "data": {
            "text/plain": [
              "{1, 2, 4, 5}"
            ]
          },
          "metadata": {},
          "execution_count": 53
        }
      ]
    },
    {
      "cell_type": "markdown",
      "source": [
        "## isdisjoint(): Checking for Disjoint Sets\n",
        "\n",
        "The isdisjoint() method returns True if the sets have no elements in common."
      ],
      "metadata": {
        "id": "A18N4agVTLJ4"
      }
    },
    {
      "cell_type": "code",
      "source": [
        "set_a = {1,2,3}\n",
        "set_b = {6,4,5}\n",
        "\n",
        "print(set_a.isdisjoint(set_b))\n"
      ],
      "metadata": {
        "id": "dq4m2uXMTPRC",
        "colab": {
          "base_uri": "https://localhost:8080/"
        },
        "outputId": "a4672d71-2ba1-4190-f657-b8e67f382b9e"
      },
      "execution_count": null,
      "outputs": [
        {
          "output_type": "stream",
          "name": "stdout",
          "text": [
            "True\n"
          ]
        }
      ]
    },
    {
      "cell_type": "markdown",
      "source": [
        "## issubset(): Checking if Subset\n",
        "The issubset() method checks if all elements of one set are present in another."
      ],
      "metadata": {
        "id": "bVtju6w9TRfO"
      }
    },
    {
      "cell_type": "code",
      "source": [
        "set_a = {\"a\",1,2,3}\n",
        "set_b = {1}\n",
        "set_c = {\"a\"}\n",
        "print(set_b.issubset(set_a))\n",
        "print(set_c.issubset(set_a))"
      ],
      "metadata": {
        "id": "5rg_gVrKTS5H",
        "colab": {
          "base_uri": "https://localhost:8080/"
        },
        "outputId": "51b9d55d-3bd3-457d-c9f9-bac750ce9794"
      },
      "execution_count": null,
      "outputs": [
        {
          "output_type": "stream",
          "name": "stdout",
          "text": [
            "True\n",
            "True\n"
          ]
        }
      ]
    },
    {
      "cell_type": "markdown",
      "source": [
        "## issuperset(): Checking if Superset\n",
        "The issuperset() method checks if a set contains all elements of another set."
      ],
      "metadata": {
        "id": "dfWTltxqTUnE"
      }
    },
    {
      "cell_type": "code",
      "source": [
        "set_a = {\"a\",1,2,3}\n",
        "set_b = {1}\n",
        "set_c = {\"a\"}\n",
        "\n",
        "print(set_a.issuperset(set_b))"
      ],
      "metadata": {
        "id": "VJfzxvjBTXxU",
        "colab": {
          "base_uri": "https://localhost:8080/"
        },
        "outputId": "09ddf13d-56e6-4b71-a4ea-d00a49802e4b"
      },
      "execution_count": null,
      "outputs": [
        {
          "output_type": "stream",
          "name": "stdout",
          "text": [
            "True\n"
          ]
        }
      ]
    },
    {
      "cell_type": "markdown",
      "source": [
        "# Applications of Sets in Python"
      ],
      "metadata": {
        "id": "54Zldnn1TZVT"
      }
    },
    {
      "cell_type": "markdown",
      "source": [
        "# 1. Using Sets to Remove Duplicates\n",
        "\n",
        "Since sets automatically eliminate duplicates, they’re useful for filtering unique values from lists or other iterables."
      ],
      "metadata": {
        "id": "jO7Z38iqfOO0"
      }
    },
    {
      "cell_type": "code",
      "source": [
        "\n",
        "numbers = {1,5,5,7,4,8,4,8,9}\n",
        "\n",
        "# unique_numbers = set(numbers)\n",
        "print(numbers)"
      ],
      "metadata": {
        "id": "MY809Fa5fSPA",
        "colab": {
          "base_uri": "https://localhost:8080/"
        },
        "outputId": "99bb2d99-01f2-4a8b-c799-b8c150e1b8f7"
      },
      "execution_count": null,
      "outputs": [
        {
          "output_type": "stream",
          "name": "stdout",
          "text": [
            "{1, 4, 5, 7, 8, 9}\n"
          ]
        }
      ]
    },
    {
      "cell_type": "markdown",
      "source": [
        "# Identifying Common Elements in Multiple Datasets"
      ],
      "metadata": {
        "id": "KPt8l_whfUKl"
      }
    },
    {
      "cell_type": "code",
      "source": [
        "sales_cust = {\"ali\",\"bilal\",\"subhan\"}\n",
        "markt_cust = {\"bilal\",\"ahmed\",\"usama\"}\n",
        "\n",
        "common_cust = sales_cust & markt_cust\n",
        "common_cust"
      ],
      "metadata": {
        "id": "rbLutSoEfivd",
        "colab": {
          "base_uri": "https://localhost:8080/"
        },
        "outputId": "55c86844-c1d3-4ff4-9b79-199fdb6b2c5a"
      },
      "execution_count": null,
      "outputs": [
        {
          "output_type": "execute_result",
          "data": {
            "text/plain": [
              "{'bilal'}"
            ]
          },
          "metadata": {},
          "execution_count": 66
        }
      ]
    },
    {
      "cell_type": "markdown",
      "source": [
        "# Set Manipulation with Multiple Sets"
      ],
      "metadata": {
        "id": "u0ueuVRfgMFH"
      }
    },
    {
      "cell_type": "markdown",
      "source": [
        "## 1. Working with Multiple Sets Simultaneously"
      ],
      "metadata": {
        "id": "X79L8giEgO8F"
      }
    },
    {
      "cell_type": "code",
      "source": [
        "set_1 = {1,2,3}\n",
        "set_2 = {3,4,5}\n",
        "set_3 = {5,6,7}\n",
        "set_4 = {7,8,9}\n",
        "res = set_1 | set_2 | set_3 | set_4\n",
        "res"
      ],
      "metadata": {
        "id": "5oo58aFWgNRv",
        "colab": {
          "base_uri": "https://localhost:8080/"
        },
        "outputId": "4bb131bb-f507-4dcd-c100-372cfcd49873"
      },
      "execution_count": null,
      "outputs": [
        {
          "output_type": "execute_result",
          "data": {
            "text/plain": [
              "{1, 2, 3, 4, 5, 6, 7, 8, 9}"
            ]
          },
          "metadata": {},
          "execution_count": 67
        }
      ]
    },
    {
      "cell_type": "markdown",
      "source": [
        "Intersection of Multiple Sets"
      ],
      "metadata": {
        "id": "hapSXrL6gjHs"
      }
    },
    {
      "cell_type": "code",
      "source": [
        "\n",
        "set_1 = {1,2,3}\n",
        "set_2 = {3,4,5}\n",
        "set_3 = {5,6,7,3}\n",
        "set_4 = {7,8,9,3}\n",
        "\n",
        "len(set_1)\n",
        "\n",
        "# res = (((set_1 - set_2 ) - set_3) - set_4)\n",
        "# res"
      ],
      "metadata": {
        "id": "Rv1GyfNTgj3d",
        "colab": {
          "base_uri": "https://localhost:8080/"
        },
        "outputId": "2a2eab13-a8a4-401e-af15-c862a54234bb"
      },
      "execution_count": null,
      "outputs": [
        {
          "output_type": "execute_result",
          "data": {
            "text/plain": [
              "3"
            ]
          },
          "metadata": {},
          "execution_count": 71
        }
      ]
    },
    {
      "cell_type": "markdown",
      "source": [
        "# 2. Nested Set Operations"
      ],
      "metadata": {
        "id": "7GF_zi0_glOE"
      }
    },
    {
      "cell_type": "code",
      "source": [
        "set_a = {4,5,6}\n",
        "set_b = {6,4,1,5}\n",
        "set_c = {2,5,7}\n",
        "\n",
        "result = set_a | set_b - set_c\n",
        "result"
      ],
      "metadata": {
        "id": "4Gp8BGtpgph_",
        "colab": {
          "base_uri": "https://localhost:8080/"
        },
        "outputId": "ec83e6c6-a222-451c-999a-a5b4dd035e77"
      },
      "execution_count": null,
      "outputs": [
        {
          "output_type": "execute_result",
          "data": {
            "text/plain": [
              "{1, 4, 5, 6}"
            ]
          },
          "metadata": {},
          "execution_count": 6
        }
      ]
    },
    {
      "cell_type": "markdown",
      "source": [
        "# 3. Combining Multiple Operations with Clear Priorities"
      ],
      "metadata": {
        "id": "Z7LoTucUgr3U"
      }
    },
    {
      "cell_type": "code",
      "source": [
        "set_a = {4,5,6}\n",
        "set_b = {6,4,1,5}\n",
        "set_c = {2,5,7}\n",
        "set_d = {8,7}\n",
        "\n",
        "result = (((set_a | set_b) - set_c) & set_d)\n",
        "result\n"
      ],
      "metadata": {
        "id": "cQiqFeM7gv-_",
        "colab": {
          "base_uri": "https://localhost:8080/"
        },
        "outputId": "d297d0c7-f899-407a-e1cd-df7ffb27f743"
      },
      "execution_count": null,
      "outputs": [
        {
          "output_type": "execute_result",
          "data": {
            "text/plain": [
              "set()"
            ]
          },
          "metadata": {},
          "execution_count": 9
        }
      ]
    },
    {
      "cell_type": "markdown",
      "source": [
        "# Set Performance Considerations"
      ],
      "metadata": {
        "id": "fUqLCDWMhSbK"
      }
    },
    {
      "cell_type": "code",
      "source": [
        "large_list = list(range(1000000))\n",
        "large_set = set(large_list)\n",
        "\n",
        "import time\n",
        "\n",
        "start_time = time.time()\n",
        "print(999999 in large_list)  # Output: True\n",
        "print(\"List check time:\", time.time() - start_time)\n",
        "\n",
        "start_time = time.time()\n",
        "print(999999 in large_set)  # Output: True\n",
        "print(\"Set check time:\", time.time() - start_time)\n"
      ],
      "metadata": {
        "id": "kfe2fNZkhUoS",
        "colab": {
          "base_uri": "https://localhost:8080/"
        },
        "outputId": "4a6d85e0-6978-40cd-84cc-366ee8bf1cf4"
      },
      "execution_count": null,
      "outputs": [
        {
          "output_type": "stream",
          "name": "stdout",
          "text": [
            "True\n",
            "List check time: 0.012897253036499023\n",
            "True\n",
            "Set check time: 0.00018548965454101562\n"
          ]
        }
      ]
    }
  ]
}